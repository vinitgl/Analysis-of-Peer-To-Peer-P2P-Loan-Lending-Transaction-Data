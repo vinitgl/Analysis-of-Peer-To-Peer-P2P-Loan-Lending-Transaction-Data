{
 "cells": [
  {
   "cell_type": "code",
   "execution_count": 1,
   "metadata": {},
   "outputs": [],
   "source": [
    "import pandas as pd\n",
    "import numpy as np\n",
    "\n",
    "import seaborn as sns\n",
    "\n",
    "import matplotlib.pyplot as plt\n",
    "\n",
    "\n",
    "\n",
    "\n"
   ]
  },
  {
   "cell_type": "code",
   "execution_count": 2,
   "metadata": {},
   "outputs": [
    {
     "name": "stderr",
     "output_type": "stream",
     "text": [
      "F:\\PGPDSE\\Python\\lib\\site-packages\\IPython\\core\\interactiveshell.py:2785: DtypeWarning: Columns (47) have mixed types. Specify dtype option on import or set low_memory=False.\n",
      "  interactivity=interactivity, compiler=compiler, result=result)\n"
     ]
    }
   ],
   "source": [
    "data=pd.read_csv('LoanStats3a.csv')"
   ]
  },
  {
   "cell_type": "code",
   "execution_count": 3,
   "metadata": {},
   "outputs": [
    {
     "data": {
      "text/plain": [
       "42535"
      ]
     },
     "execution_count": 3,
     "metadata": {},
     "output_type": "execute_result"
    }
   ],
   "source": [
    "data['id'].isnull().sum()"
   ]
  },
  {
   "cell_type": "code",
   "execution_count": 4,
   "metadata": {},
   "outputs": [
    {
     "data": {
      "text/html": [
       "<div>\n",
       "<style scoped>\n",
       "    .dataframe tbody tr th:only-of-type {\n",
       "        vertical-align: middle;\n",
       "    }\n",
       "\n",
       "    .dataframe tbody tr th {\n",
       "        vertical-align: top;\n",
       "    }\n",
       "\n",
       "    .dataframe thead th {\n",
       "        text-align: right;\n",
       "    }\n",
       "</style>\n",
       "<table border=\"1\" class=\"dataframe\">\n",
       "  <thead>\n",
       "    <tr style=\"text-align: right;\">\n",
       "      <th></th>\n",
       "      <th>id</th>\n",
       "      <th>member_id</th>\n",
       "      <th>loan_amnt</th>\n",
       "      <th>funded_amnt</th>\n",
       "      <th>funded_amnt_inv</th>\n",
       "      <th>term</th>\n",
       "      <th>int_rate</th>\n",
       "      <th>installment</th>\n",
       "      <th>grade</th>\n",
       "      <th>sub_grade</th>\n",
       "      <th>...</th>\n",
       "      <th>orig_projected_additional_accrued_interest</th>\n",
       "      <th>hardship_payoff_balance_amount</th>\n",
       "      <th>hardship_last_payment_amount</th>\n",
       "      <th>debt_settlement_flag</th>\n",
       "      <th>debt_settlement_flag_date</th>\n",
       "      <th>settlement_status</th>\n",
       "      <th>settlement_date</th>\n",
       "      <th>settlement_amount</th>\n",
       "      <th>settlement_percentage</th>\n",
       "      <th>settlement_term</th>\n",
       "    </tr>\n",
       "  </thead>\n",
       "  <tbody>\n",
       "    <tr>\n",
       "      <th>0</th>\n",
       "      <td>NaN</td>\n",
       "      <td>NaN</td>\n",
       "      <td>5000</td>\n",
       "      <td>5000</td>\n",
       "      <td>4975.0</td>\n",
       "      <td>36 months</td>\n",
       "      <td>10.65%</td>\n",
       "      <td>162.87</td>\n",
       "      <td>B</td>\n",
       "      <td>B2</td>\n",
       "      <td>...</td>\n",
       "      <td>NaN</td>\n",
       "      <td>NaN</td>\n",
       "      <td>NaN</td>\n",
       "      <td>N</td>\n",
       "      <td>NaN</td>\n",
       "      <td>NaN</td>\n",
       "      <td>NaN</td>\n",
       "      <td>NaN</td>\n",
       "      <td>NaN</td>\n",
       "      <td>NaN</td>\n",
       "    </tr>\n",
       "    <tr>\n",
       "      <th>1</th>\n",
       "      <td>NaN</td>\n",
       "      <td>NaN</td>\n",
       "      <td>2500</td>\n",
       "      <td>2500</td>\n",
       "      <td>2500.0</td>\n",
       "      <td>60 months</td>\n",
       "      <td>15.27%</td>\n",
       "      <td>59.83</td>\n",
       "      <td>C</td>\n",
       "      <td>C4</td>\n",
       "      <td>...</td>\n",
       "      <td>NaN</td>\n",
       "      <td>NaN</td>\n",
       "      <td>NaN</td>\n",
       "      <td>N</td>\n",
       "      <td>NaN</td>\n",
       "      <td>NaN</td>\n",
       "      <td>NaN</td>\n",
       "      <td>NaN</td>\n",
       "      <td>NaN</td>\n",
       "      <td>NaN</td>\n",
       "    </tr>\n",
       "    <tr>\n",
       "      <th>2</th>\n",
       "      <td>NaN</td>\n",
       "      <td>NaN</td>\n",
       "      <td>2400</td>\n",
       "      <td>2400</td>\n",
       "      <td>2400.0</td>\n",
       "      <td>36 months</td>\n",
       "      <td>15.96%</td>\n",
       "      <td>84.33</td>\n",
       "      <td>C</td>\n",
       "      <td>C5</td>\n",
       "      <td>...</td>\n",
       "      <td>NaN</td>\n",
       "      <td>NaN</td>\n",
       "      <td>NaN</td>\n",
       "      <td>N</td>\n",
       "      <td>NaN</td>\n",
       "      <td>NaN</td>\n",
       "      <td>NaN</td>\n",
       "      <td>NaN</td>\n",
       "      <td>NaN</td>\n",
       "      <td>NaN</td>\n",
       "    </tr>\n",
       "    <tr>\n",
       "      <th>3</th>\n",
       "      <td>NaN</td>\n",
       "      <td>NaN</td>\n",
       "      <td>10000</td>\n",
       "      <td>10000</td>\n",
       "      <td>10000.0</td>\n",
       "      <td>36 months</td>\n",
       "      <td>13.49%</td>\n",
       "      <td>339.31</td>\n",
       "      <td>C</td>\n",
       "      <td>C1</td>\n",
       "      <td>...</td>\n",
       "      <td>NaN</td>\n",
       "      <td>NaN</td>\n",
       "      <td>NaN</td>\n",
       "      <td>N</td>\n",
       "      <td>NaN</td>\n",
       "      <td>NaN</td>\n",
       "      <td>NaN</td>\n",
       "      <td>NaN</td>\n",
       "      <td>NaN</td>\n",
       "      <td>NaN</td>\n",
       "    </tr>\n",
       "    <tr>\n",
       "      <th>4</th>\n",
       "      <td>NaN</td>\n",
       "      <td>NaN</td>\n",
       "      <td>3000</td>\n",
       "      <td>3000</td>\n",
       "      <td>3000.0</td>\n",
       "      <td>60 months</td>\n",
       "      <td>12.69%</td>\n",
       "      <td>67.79</td>\n",
       "      <td>B</td>\n",
       "      <td>B5</td>\n",
       "      <td>...</td>\n",
       "      <td>NaN</td>\n",
       "      <td>NaN</td>\n",
       "      <td>NaN</td>\n",
       "      <td>N</td>\n",
       "      <td>NaN</td>\n",
       "      <td>NaN</td>\n",
       "      <td>NaN</td>\n",
       "      <td>NaN</td>\n",
       "      <td>NaN</td>\n",
       "      <td>NaN</td>\n",
       "    </tr>\n",
       "  </tbody>\n",
       "</table>\n",
       "<p>5 rows × 144 columns</p>\n",
       "</div>"
      ],
      "text/plain": [
       "   id  member_id  loan_amnt  funded_amnt  funded_amnt_inv        term  \\\n",
       "0 NaN        NaN       5000         5000           4975.0   36 months   \n",
       "1 NaN        NaN       2500         2500           2500.0   60 months   \n",
       "2 NaN        NaN       2400         2400           2400.0   36 months   \n",
       "3 NaN        NaN      10000        10000          10000.0   36 months   \n",
       "4 NaN        NaN       3000         3000           3000.0   60 months   \n",
       "\n",
       "  int_rate  installment grade sub_grade       ...        \\\n",
       "0   10.65%       162.87     B        B2       ...         \n",
       "1   15.27%        59.83     C        C4       ...         \n",
       "2   15.96%        84.33     C        C5       ...         \n",
       "3   13.49%       339.31     C        C1       ...         \n",
       "4   12.69%        67.79     B        B5       ...         \n",
       "\n",
       "  orig_projected_additional_accrued_interest hardship_payoff_balance_amount  \\\n",
       "0                                        NaN                            NaN   \n",
       "1                                        NaN                            NaN   \n",
       "2                                        NaN                            NaN   \n",
       "3                                        NaN                            NaN   \n",
       "4                                        NaN                            NaN   \n",
       "\n",
       "  hardship_last_payment_amount  debt_settlement_flag  \\\n",
       "0                          NaN                     N   \n",
       "1                          NaN                     N   \n",
       "2                          NaN                     N   \n",
       "3                          NaN                     N   \n",
       "4                          NaN                     N   \n",
       "\n",
       "  debt_settlement_flag_date settlement_status settlement_date  \\\n",
       "0                       NaN               NaN             NaN   \n",
       "1                       NaN               NaN             NaN   \n",
       "2                       NaN               NaN             NaN   \n",
       "3                       NaN               NaN             NaN   \n",
       "4                       NaN               NaN             NaN   \n",
       "\n",
       "  settlement_amount  settlement_percentage settlement_term  \n",
       "0               NaN                    NaN             NaN  \n",
       "1               NaN                    NaN             NaN  \n",
       "2               NaN                    NaN             NaN  \n",
       "3               NaN                    NaN             NaN  \n",
       "4               NaN                    NaN             NaN  \n",
       "\n",
       "[5 rows x 144 columns]"
      ]
     },
     "execution_count": 4,
     "metadata": {},
     "output_type": "execute_result"
    }
   ],
   "source": [
    "data.head()"
   ]
  },
  {
   "cell_type": "code",
   "execution_count": null,
   "metadata": {},
   "outputs": [],
   "source": []
  },
  {
   "cell_type": "code",
   "execution_count": 5,
   "metadata": {},
   "outputs": [
    {
     "data": {
      "text/plain": [
       "42535"
      ]
     },
     "execution_count": 5,
     "metadata": {},
     "output_type": "execute_result"
    }
   ],
   "source": [
    "data.shape[0]   #no. of rows"
   ]
  },
  {
   "cell_type": "code",
   "execution_count": 6,
   "metadata": {},
   "outputs": [
    {
     "data": {
      "text/plain": [
       "id                                            42535\n",
       "member_id                                     42535\n",
       "loan_amnt                                         0\n",
       "funded_amnt                                       0\n",
       "funded_amnt_inv                                   0\n",
       "term                                              0\n",
       "int_rate                                          0\n",
       "installment                                       0\n",
       "grade                                             0\n",
       "sub_grade                                         0\n",
       "emp_title                                      2626\n",
       "emp_length                                     1112\n",
       "home_ownership                                    0\n",
       "annual_inc                                        4\n",
       "verification_status                               0\n",
       "issue_d                                           0\n",
       "loan_status                                       0\n",
       "pymnt_plan                                        0\n",
       "url                                           42535\n",
       "desc                                          13293\n",
       "purpose                                           0\n",
       "title                                            13\n",
       "zip_code                                          0\n",
       "addr_state                                        0\n",
       "dti                                               0\n",
       "delinq_2yrs                                      29\n",
       "earliest_cr_line                                 29\n",
       "inq_last_6mths                                   29\n",
       "mths_since_last_delinq                        26926\n",
       "mths_since_last_record                        38884\n",
       "                                              ...  \n",
       "sec_app_mort_acc                              42535\n",
       "sec_app_open_acc                              42535\n",
       "sec_app_revol_util                            42535\n",
       "sec_app_open_act_il                           42535\n",
       "sec_app_num_rev_accts                         42535\n",
       "sec_app_chargeoff_within_12_mths              42535\n",
       "sec_app_collections_12_mths_ex_med            42535\n",
       "sec_app_mths_since_last_major_derog           42535\n",
       "hardship_flag                                     0\n",
       "hardship_type                                 42535\n",
       "hardship_reason                               42535\n",
       "hardship_status                               42535\n",
       "deferral_term                                 42535\n",
       "hardship_amount                               42535\n",
       "hardship_start_date                           42535\n",
       "hardship_end_date                             42535\n",
       "payment_plan_start_date                       42535\n",
       "hardship_length                               42535\n",
       "hardship_dpd                                  42535\n",
       "hardship_loan_status                          42535\n",
       "orig_projected_additional_accrued_interest    42535\n",
       "hardship_payoff_balance_amount                42535\n",
       "hardship_last_payment_amount                  42535\n",
       "debt_settlement_flag                              0\n",
       "debt_settlement_flag_date                     42375\n",
       "settlement_status                             42375\n",
       "settlement_date                               42375\n",
       "settlement_amount                             42375\n",
       "settlement_percentage                         42375\n",
       "settlement_term                               42375\n",
       "Length: 144, dtype: int64"
      ]
     },
     "execution_count": 6,
     "metadata": {},
     "output_type": "execute_result"
    }
   ],
   "source": [
    "data.isnull().sum()   #checking column-wise null counts\n",
    "    "
   ]
  },
  {
   "cell_type": "code",
   "execution_count": 7,
   "metadata": {},
   "outputs": [
    {
     "name": "stdout",
     "output_type": "stream",
     "text": [
      "['id', 'member_id', 'url', 'mths_since_last_record', 'next_pymnt_d', 'mths_since_last_major_derog', 'annual_inc_joint', 'dti_joint', 'verification_status_joint', 'tot_coll_amt', 'tot_cur_bal', 'open_acc_6m', 'open_act_il', 'open_il_12m', 'open_il_24m', 'mths_since_rcnt_il', 'total_bal_il', 'il_util', 'open_rv_12m', 'open_rv_24m', 'max_bal_bc', 'all_util', 'total_rev_hi_lim', 'inq_fi', 'total_cu_tl', 'inq_last_12m', 'acc_open_past_24mths', 'avg_cur_bal', 'bc_open_to_buy', 'bc_util', 'mo_sin_old_il_acct', 'mo_sin_old_rev_tl_op', 'mo_sin_rcnt_rev_tl_op', 'mo_sin_rcnt_tl', 'mort_acc', 'mths_since_recent_bc', 'mths_since_recent_bc_dlq', 'mths_since_recent_inq', 'mths_since_recent_revol_delinq', 'num_accts_ever_120_pd', 'num_actv_bc_tl', 'num_actv_rev_tl', 'num_bc_sats', 'num_bc_tl', 'num_il_tl', 'num_op_rev_tl', 'num_rev_accts', 'num_rev_tl_bal_gt_0', 'num_sats', 'num_tl_120dpd_2m', 'num_tl_30dpd', 'num_tl_90g_dpd_24m', 'num_tl_op_past_12m', 'pct_tl_nvr_dlq', 'percent_bc_gt_75', 'tot_hi_cred_lim', 'total_bal_ex_mort', 'total_bc_limit', 'total_il_high_credit_limit', 'revol_bal_joint', 'sec_app_earliest_cr_line', 'sec_app_inq_last_6mths', 'sec_app_mort_acc', 'sec_app_open_acc', 'sec_app_revol_util', 'sec_app_open_act_il', 'sec_app_num_rev_accts', 'sec_app_chargeoff_within_12_mths', 'sec_app_collections_12_mths_ex_med', 'sec_app_mths_since_last_major_derog', 'hardship_type', 'hardship_reason', 'hardship_status', 'deferral_term', 'hardship_amount', 'hardship_start_date', 'hardship_end_date', 'payment_plan_start_date', 'hardship_length', 'hardship_dpd', 'hardship_loan_status', 'orig_projected_additional_accrued_interest', 'hardship_payoff_balance_amount', 'hardship_last_payment_amount', 'debt_settlement_flag_date', 'settlement_status', 'settlement_date', 'settlement_amount', 'settlement_percentage', 'settlement_term']\n"
     ]
    }
   ],
   "source": [
    "a=[]\n",
    "for i in data.columns:\n",
    "    if (data[i].isnull().sum())>(0.9*data.shape[0]):\n",
    "        a.append(i)\n",
    "        data=data.drop(i,axis=1)\n",
    "print(a)                                                  #dropping the columns with more than 90% missing values"
   ]
  },
  {
   "cell_type": "code",
   "execution_count": 8,
   "metadata": {},
   "outputs": [
    {
     "data": {
      "text/plain": [
       "(42535, 54)"
      ]
     },
     "execution_count": 8,
     "metadata": {},
     "output_type": "execute_result"
    }
   ],
   "source": [
    "data.shape        #shape of data after dropping the columns with more than 90% missing values"
   ]
  },
  {
   "cell_type": "code",
   "execution_count": 9,
   "metadata": {},
   "outputs": [
    {
     "data": {
      "text/html": [
       "<div>\n",
       "<style scoped>\n",
       "    .dataframe tbody tr th:only-of-type {\n",
       "        vertical-align: middle;\n",
       "    }\n",
       "\n",
       "    .dataframe tbody tr th {\n",
       "        vertical-align: top;\n",
       "    }\n",
       "\n",
       "    .dataframe thead th {\n",
       "        text-align: right;\n",
       "    }\n",
       "</style>\n",
       "<table border=\"1\" class=\"dataframe\">\n",
       "  <thead>\n",
       "    <tr style=\"text-align: right;\">\n",
       "      <th></th>\n",
       "      <th>loan_amnt</th>\n",
       "      <th>funded_amnt</th>\n",
       "      <th>funded_amnt_inv</th>\n",
       "      <th>term</th>\n",
       "      <th>int_rate</th>\n",
       "      <th>installment</th>\n",
       "      <th>grade</th>\n",
       "      <th>sub_grade</th>\n",
       "      <th>emp_title</th>\n",
       "      <th>emp_length</th>\n",
       "      <th>...</th>\n",
       "      <th>collections_12_mths_ex_med</th>\n",
       "      <th>policy_code</th>\n",
       "      <th>application_type</th>\n",
       "      <th>acc_now_delinq</th>\n",
       "      <th>chargeoff_within_12_mths</th>\n",
       "      <th>delinq_amnt</th>\n",
       "      <th>pub_rec_bankruptcies</th>\n",
       "      <th>tax_liens</th>\n",
       "      <th>hardship_flag</th>\n",
       "      <th>debt_settlement_flag</th>\n",
       "    </tr>\n",
       "  </thead>\n",
       "  <tbody>\n",
       "    <tr>\n",
       "      <th>0</th>\n",
       "      <td>5000</td>\n",
       "      <td>5000</td>\n",
       "      <td>4975.0</td>\n",
       "      <td>36 months</td>\n",
       "      <td>10.65%</td>\n",
       "      <td>162.87</td>\n",
       "      <td>B</td>\n",
       "      <td>B2</td>\n",
       "      <td>NaN</td>\n",
       "      <td>10+ years</td>\n",
       "      <td>...</td>\n",
       "      <td>0.0</td>\n",
       "      <td>1</td>\n",
       "      <td>Individual</td>\n",
       "      <td>0.0</td>\n",
       "      <td>0.0</td>\n",
       "      <td>0.0</td>\n",
       "      <td>0.0</td>\n",
       "      <td>0.0</td>\n",
       "      <td>N</td>\n",
       "      <td>N</td>\n",
       "    </tr>\n",
       "    <tr>\n",
       "      <th>1</th>\n",
       "      <td>2500</td>\n",
       "      <td>2500</td>\n",
       "      <td>2500.0</td>\n",
       "      <td>60 months</td>\n",
       "      <td>15.27%</td>\n",
       "      <td>59.83</td>\n",
       "      <td>C</td>\n",
       "      <td>C4</td>\n",
       "      <td>Ryder</td>\n",
       "      <td>&lt; 1 year</td>\n",
       "      <td>...</td>\n",
       "      <td>0.0</td>\n",
       "      <td>1</td>\n",
       "      <td>Individual</td>\n",
       "      <td>0.0</td>\n",
       "      <td>0.0</td>\n",
       "      <td>0.0</td>\n",
       "      <td>0.0</td>\n",
       "      <td>0.0</td>\n",
       "      <td>N</td>\n",
       "      <td>N</td>\n",
       "    </tr>\n",
       "    <tr>\n",
       "      <th>2</th>\n",
       "      <td>2400</td>\n",
       "      <td>2400</td>\n",
       "      <td>2400.0</td>\n",
       "      <td>36 months</td>\n",
       "      <td>15.96%</td>\n",
       "      <td>84.33</td>\n",
       "      <td>C</td>\n",
       "      <td>C5</td>\n",
       "      <td>NaN</td>\n",
       "      <td>10+ years</td>\n",
       "      <td>...</td>\n",
       "      <td>0.0</td>\n",
       "      <td>1</td>\n",
       "      <td>Individual</td>\n",
       "      <td>0.0</td>\n",
       "      <td>0.0</td>\n",
       "      <td>0.0</td>\n",
       "      <td>0.0</td>\n",
       "      <td>0.0</td>\n",
       "      <td>N</td>\n",
       "      <td>N</td>\n",
       "    </tr>\n",
       "    <tr>\n",
       "      <th>3</th>\n",
       "      <td>10000</td>\n",
       "      <td>10000</td>\n",
       "      <td>10000.0</td>\n",
       "      <td>36 months</td>\n",
       "      <td>13.49%</td>\n",
       "      <td>339.31</td>\n",
       "      <td>C</td>\n",
       "      <td>C1</td>\n",
       "      <td>AIR RESOURCES BOARD</td>\n",
       "      <td>10+ years</td>\n",
       "      <td>...</td>\n",
       "      <td>0.0</td>\n",
       "      <td>1</td>\n",
       "      <td>Individual</td>\n",
       "      <td>0.0</td>\n",
       "      <td>0.0</td>\n",
       "      <td>0.0</td>\n",
       "      <td>0.0</td>\n",
       "      <td>0.0</td>\n",
       "      <td>N</td>\n",
       "      <td>N</td>\n",
       "    </tr>\n",
       "    <tr>\n",
       "      <th>4</th>\n",
       "      <td>3000</td>\n",
       "      <td>3000</td>\n",
       "      <td>3000.0</td>\n",
       "      <td>60 months</td>\n",
       "      <td>12.69%</td>\n",
       "      <td>67.79</td>\n",
       "      <td>B</td>\n",
       "      <td>B5</td>\n",
       "      <td>University Medical Group</td>\n",
       "      <td>1 year</td>\n",
       "      <td>...</td>\n",
       "      <td>0.0</td>\n",
       "      <td>1</td>\n",
       "      <td>Individual</td>\n",
       "      <td>0.0</td>\n",
       "      <td>0.0</td>\n",
       "      <td>0.0</td>\n",
       "      <td>0.0</td>\n",
       "      <td>0.0</td>\n",
       "      <td>N</td>\n",
       "      <td>N</td>\n",
       "    </tr>\n",
       "  </tbody>\n",
       "</table>\n",
       "<p>5 rows × 54 columns</p>\n",
       "</div>"
      ],
      "text/plain": [
       "   loan_amnt  funded_amnt  funded_amnt_inv        term int_rate  installment  \\\n",
       "0       5000         5000           4975.0   36 months   10.65%       162.87   \n",
       "1       2500         2500           2500.0   60 months   15.27%        59.83   \n",
       "2       2400         2400           2400.0   36 months   15.96%        84.33   \n",
       "3      10000        10000          10000.0   36 months   13.49%       339.31   \n",
       "4       3000         3000           3000.0   60 months   12.69%        67.79   \n",
       "\n",
       "  grade sub_grade                 emp_title emp_length         ...           \\\n",
       "0     B        B2                       NaN  10+ years         ...            \n",
       "1     C        C4                     Ryder   < 1 year         ...            \n",
       "2     C        C5                       NaN  10+ years         ...            \n",
       "3     C        C1       AIR RESOURCES BOARD  10+ years         ...            \n",
       "4     B        B5  University Medical Group     1 year         ...            \n",
       "\n",
       "  collections_12_mths_ex_med  policy_code application_type acc_now_delinq  \\\n",
       "0                        0.0            1       Individual            0.0   \n",
       "1                        0.0            1       Individual            0.0   \n",
       "2                        0.0            1       Individual            0.0   \n",
       "3                        0.0            1       Individual            0.0   \n",
       "4                        0.0            1       Individual            0.0   \n",
       "\n",
       "  chargeoff_within_12_mths delinq_amnt pub_rec_bankruptcies tax_liens  \\\n",
       "0                      0.0         0.0                  0.0       0.0   \n",
       "1                      0.0         0.0                  0.0       0.0   \n",
       "2                      0.0         0.0                  0.0       0.0   \n",
       "3                      0.0         0.0                  0.0       0.0   \n",
       "4                      0.0         0.0                  0.0       0.0   \n",
       "\n",
       "  hardship_flag debt_settlement_flag  \n",
       "0             N                    N  \n",
       "1             N                    N  \n",
       "2             N                    N  \n",
       "3             N                    N  \n",
       "4             N                    N  \n",
       "\n",
       "[5 rows x 54 columns]"
      ]
     },
     "execution_count": 9,
     "metadata": {},
     "output_type": "execute_result"
    }
   ],
   "source": [
    "data.head()"
   ]
  },
  {
   "cell_type": "code",
   "execution_count": 10,
   "metadata": {},
   "outputs": [
    {
     "data": {
      "text/html": [
       "<div>\n",
       "<style scoped>\n",
       "    .dataframe tbody tr th:only-of-type {\n",
       "        vertical-align: middle;\n",
       "    }\n",
       "\n",
       "    .dataframe tbody tr th {\n",
       "        vertical-align: top;\n",
       "    }\n",
       "\n",
       "    .dataframe thead th {\n",
       "        text-align: right;\n",
       "    }\n",
       "</style>\n",
       "<table border=\"1\" class=\"dataframe\">\n",
       "  <thead>\n",
       "    <tr style=\"text-align: right;\">\n",
       "      <th></th>\n",
       "      <th>loan_amnt</th>\n",
       "      <th>funded_amnt</th>\n",
       "      <th>funded_amnt_inv</th>\n",
       "      <th>installment</th>\n",
       "      <th>annual_inc</th>\n",
       "      <th>dti</th>\n",
       "      <th>delinq_2yrs</th>\n",
       "      <th>inq_last_6mths</th>\n",
       "      <th>mths_since_last_delinq</th>\n",
       "      <th>open_acc</th>\n",
       "      <th>...</th>\n",
       "      <th>recoveries</th>\n",
       "      <th>collection_recovery_fee</th>\n",
       "      <th>last_pymnt_amnt</th>\n",
       "      <th>collections_12_mths_ex_med</th>\n",
       "      <th>policy_code</th>\n",
       "      <th>acc_now_delinq</th>\n",
       "      <th>chargeoff_within_12_mths</th>\n",
       "      <th>delinq_amnt</th>\n",
       "      <th>pub_rec_bankruptcies</th>\n",
       "      <th>tax_liens</th>\n",
       "    </tr>\n",
       "  </thead>\n",
       "  <tbody>\n",
       "    <tr>\n",
       "      <th>count</th>\n",
       "      <td>42535.000000</td>\n",
       "      <td>42535.000000</td>\n",
       "      <td>42535.000000</td>\n",
       "      <td>42535.000000</td>\n",
       "      <td>4.253100e+04</td>\n",
       "      <td>42535.000000</td>\n",
       "      <td>42506.000000</td>\n",
       "      <td>42506.000000</td>\n",
       "      <td>15609.000000</td>\n",
       "      <td>42506.000000</td>\n",
       "      <td>...</td>\n",
       "      <td>42535.000000</td>\n",
       "      <td>42535.000000</td>\n",
       "      <td>42535.000000</td>\n",
       "      <td>42390.0</td>\n",
       "      <td>42535.0</td>\n",
       "      <td>42506.000000</td>\n",
       "      <td>42390.0</td>\n",
       "      <td>42506.000000</td>\n",
       "      <td>41170.000000</td>\n",
       "      <td>42430.000000</td>\n",
       "    </tr>\n",
       "    <tr>\n",
       "      <th>mean</th>\n",
       "      <td>11089.722581</td>\n",
       "      <td>10821.585753</td>\n",
       "      <td>10139.938785</td>\n",
       "      <td>322.623063</td>\n",
       "      <td>6.913656e+04</td>\n",
       "      <td>13.373043</td>\n",
       "      <td>0.152449</td>\n",
       "      <td>1.081424</td>\n",
       "      <td>35.017618</td>\n",
       "      <td>9.343951</td>\n",
       "      <td>...</td>\n",
       "      <td>103.199267</td>\n",
       "      <td>14.420927</td>\n",
       "      <td>2613.245652</td>\n",
       "      <td>0.0</td>\n",
       "      <td>1.0</td>\n",
       "      <td>0.000094</td>\n",
       "      <td>0.0</td>\n",
       "      <td>0.143039</td>\n",
       "      <td>0.045227</td>\n",
       "      <td>0.000024</td>\n",
       "    </tr>\n",
       "    <tr>\n",
       "      <th>std</th>\n",
       "      <td>7410.938391</td>\n",
       "      <td>7146.914675</td>\n",
       "      <td>7131.598014</td>\n",
       "      <td>208.927216</td>\n",
       "      <td>6.409635e+04</td>\n",
       "      <td>6.726315</td>\n",
       "      <td>0.512406</td>\n",
       "      <td>1.527455</td>\n",
       "      <td>22.418427</td>\n",
       "      <td>4.496274</td>\n",
       "      <td>...</td>\n",
       "      <td>736.777540</td>\n",
       "      <td>162.317803</td>\n",
       "      <td>4385.066535</td>\n",
       "      <td>0.0</td>\n",
       "      <td>0.0</td>\n",
       "      <td>0.009700</td>\n",
       "      <td>0.0</td>\n",
       "      <td>29.359579</td>\n",
       "      <td>0.208737</td>\n",
       "      <td>0.004855</td>\n",
       "    </tr>\n",
       "    <tr>\n",
       "      <th>min</th>\n",
       "      <td>500.000000</td>\n",
       "      <td>500.000000</td>\n",
       "      <td>0.000000</td>\n",
       "      <td>15.670000</td>\n",
       "      <td>1.896000e+03</td>\n",
       "      <td>0.000000</td>\n",
       "      <td>0.000000</td>\n",
       "      <td>0.000000</td>\n",
       "      <td>0.000000</td>\n",
       "      <td>1.000000</td>\n",
       "      <td>...</td>\n",
       "      <td>0.000000</td>\n",
       "      <td>0.000000</td>\n",
       "      <td>0.000000</td>\n",
       "      <td>0.0</td>\n",
       "      <td>1.0</td>\n",
       "      <td>0.000000</td>\n",
       "      <td>0.0</td>\n",
       "      <td>0.000000</td>\n",
       "      <td>0.000000</td>\n",
       "      <td>0.000000</td>\n",
       "    </tr>\n",
       "    <tr>\n",
       "      <th>25%</th>\n",
       "      <td>5200.000000</td>\n",
       "      <td>5000.000000</td>\n",
       "      <td>4950.000000</td>\n",
       "      <td>165.520000</td>\n",
       "      <td>4.000000e+04</td>\n",
       "      <td>8.200000</td>\n",
       "      <td>0.000000</td>\n",
       "      <td>0.000000</td>\n",
       "      <td>17.000000</td>\n",
       "      <td>6.000000</td>\n",
       "      <td>...</td>\n",
       "      <td>0.000000</td>\n",
       "      <td>0.000000</td>\n",
       "      <td>211.050000</td>\n",
       "      <td>0.0</td>\n",
       "      <td>1.0</td>\n",
       "      <td>0.000000</td>\n",
       "      <td>0.0</td>\n",
       "      <td>0.000000</td>\n",
       "      <td>0.000000</td>\n",
       "      <td>0.000000</td>\n",
       "    </tr>\n",
       "    <tr>\n",
       "      <th>50%</th>\n",
       "      <td>9700.000000</td>\n",
       "      <td>9600.000000</td>\n",
       "      <td>8500.000000</td>\n",
       "      <td>277.690000</td>\n",
       "      <td>5.900000e+04</td>\n",
       "      <td>13.470000</td>\n",
       "      <td>0.000000</td>\n",
       "      <td>1.000000</td>\n",
       "      <td>33.000000</td>\n",
       "      <td>9.000000</td>\n",
       "      <td>...</td>\n",
       "      <td>0.000000</td>\n",
       "      <td>0.000000</td>\n",
       "      <td>528.360000</td>\n",
       "      <td>0.0</td>\n",
       "      <td>1.0</td>\n",
       "      <td>0.000000</td>\n",
       "      <td>0.0</td>\n",
       "      <td>0.000000</td>\n",
       "      <td>0.000000</td>\n",
       "      <td>0.000000</td>\n",
       "    </tr>\n",
       "    <tr>\n",
       "      <th>75%</th>\n",
       "      <td>15000.000000</td>\n",
       "      <td>15000.000000</td>\n",
       "      <td>14000.000000</td>\n",
       "      <td>428.180000</td>\n",
       "      <td>8.250000e+04</td>\n",
       "      <td>18.680000</td>\n",
       "      <td>0.000000</td>\n",
       "      <td>2.000000</td>\n",
       "      <td>51.000000</td>\n",
       "      <td>12.000000</td>\n",
       "      <td>...</td>\n",
       "      <td>0.000000</td>\n",
       "      <td>0.000000</td>\n",
       "      <td>3170.220000</td>\n",
       "      <td>0.0</td>\n",
       "      <td>1.0</td>\n",
       "      <td>0.000000</td>\n",
       "      <td>0.0</td>\n",
       "      <td>0.000000</td>\n",
       "      <td>0.000000</td>\n",
       "      <td>0.000000</td>\n",
       "    </tr>\n",
       "    <tr>\n",
       "      <th>max</th>\n",
       "      <td>35000.000000</td>\n",
       "      <td>35000.000000</td>\n",
       "      <td>35000.000000</td>\n",
       "      <td>1305.190000</td>\n",
       "      <td>6.000000e+06</td>\n",
       "      <td>29.990000</td>\n",
       "      <td>13.000000</td>\n",
       "      <td>33.000000</td>\n",
       "      <td>120.000000</td>\n",
       "      <td>47.000000</td>\n",
       "      <td>...</td>\n",
       "      <td>29623.350000</td>\n",
       "      <td>7002.190000</td>\n",
       "      <td>36115.200000</td>\n",
       "      <td>0.0</td>\n",
       "      <td>1.0</td>\n",
       "      <td>1.000000</td>\n",
       "      <td>0.0</td>\n",
       "      <td>6053.000000</td>\n",
       "      <td>2.000000</td>\n",
       "      <td>1.000000</td>\n",
       "    </tr>\n",
       "  </tbody>\n",
       "</table>\n",
       "<p>8 rows × 30 columns</p>\n",
       "</div>"
      ],
      "text/plain": [
       "          loan_amnt   funded_amnt  funded_amnt_inv   installment  \\\n",
       "count  42535.000000  42535.000000     42535.000000  42535.000000   \n",
       "mean   11089.722581  10821.585753     10139.938785    322.623063   \n",
       "std     7410.938391   7146.914675      7131.598014    208.927216   \n",
       "min      500.000000    500.000000         0.000000     15.670000   \n",
       "25%     5200.000000   5000.000000      4950.000000    165.520000   \n",
       "50%     9700.000000   9600.000000      8500.000000    277.690000   \n",
       "75%    15000.000000  15000.000000     14000.000000    428.180000   \n",
       "max    35000.000000  35000.000000     35000.000000   1305.190000   \n",
       "\n",
       "         annual_inc           dti   delinq_2yrs  inq_last_6mths  \\\n",
       "count  4.253100e+04  42535.000000  42506.000000    42506.000000   \n",
       "mean   6.913656e+04     13.373043      0.152449        1.081424   \n",
       "std    6.409635e+04      6.726315      0.512406        1.527455   \n",
       "min    1.896000e+03      0.000000      0.000000        0.000000   \n",
       "25%    4.000000e+04      8.200000      0.000000        0.000000   \n",
       "50%    5.900000e+04     13.470000      0.000000        1.000000   \n",
       "75%    8.250000e+04     18.680000      0.000000        2.000000   \n",
       "max    6.000000e+06     29.990000     13.000000       33.000000   \n",
       "\n",
       "       mths_since_last_delinq      open_acc      ...         recoveries  \\\n",
       "count            15609.000000  42506.000000      ...       42535.000000   \n",
       "mean                35.017618      9.343951      ...         103.199267   \n",
       "std                 22.418427      4.496274      ...         736.777540   \n",
       "min                  0.000000      1.000000      ...           0.000000   \n",
       "25%                 17.000000      6.000000      ...           0.000000   \n",
       "50%                 33.000000      9.000000      ...           0.000000   \n",
       "75%                 51.000000     12.000000      ...           0.000000   \n",
       "max                120.000000     47.000000      ...       29623.350000   \n",
       "\n",
       "       collection_recovery_fee  last_pymnt_amnt  collections_12_mths_ex_med  \\\n",
       "count             42535.000000     42535.000000                     42390.0   \n",
       "mean                 14.420927      2613.245652                         0.0   \n",
       "std                 162.317803      4385.066535                         0.0   \n",
       "min                   0.000000         0.000000                         0.0   \n",
       "25%                   0.000000       211.050000                         0.0   \n",
       "50%                   0.000000       528.360000                         0.0   \n",
       "75%                   0.000000      3170.220000                         0.0   \n",
       "max                7002.190000     36115.200000                         0.0   \n",
       "\n",
       "       policy_code  acc_now_delinq  chargeoff_within_12_mths   delinq_amnt  \\\n",
       "count      42535.0    42506.000000                   42390.0  42506.000000   \n",
       "mean           1.0        0.000094                       0.0      0.143039   \n",
       "std            0.0        0.009700                       0.0     29.359579   \n",
       "min            1.0        0.000000                       0.0      0.000000   \n",
       "25%            1.0        0.000000                       0.0      0.000000   \n",
       "50%            1.0        0.000000                       0.0      0.000000   \n",
       "75%            1.0        0.000000                       0.0      0.000000   \n",
       "max            1.0        1.000000                       0.0   6053.000000   \n",
       "\n",
       "       pub_rec_bankruptcies     tax_liens  \n",
       "count          41170.000000  42430.000000  \n",
       "mean               0.045227      0.000024  \n",
       "std                0.208737      0.004855  \n",
       "min                0.000000      0.000000  \n",
       "25%                0.000000      0.000000  \n",
       "50%                0.000000      0.000000  \n",
       "75%                0.000000      0.000000  \n",
       "max                2.000000      1.000000  \n",
       "\n",
       "[8 rows x 30 columns]"
      ]
     },
     "execution_count": 10,
     "metadata": {},
     "output_type": "execute_result"
    }
   ],
   "source": [
    "data.describe()     #statistical summary of the data"
   ]
  },
  {
   "cell_type": "code",
   "execution_count": 11,
   "metadata": {},
   "outputs": [
    {
     "name": "stdout",
     "output_type": "stream",
     "text": [
      "<class 'pandas.core.frame.DataFrame'>\n",
      "RangeIndex: 42535 entries, 0 to 42534\n",
      "Data columns (total 54 columns):\n",
      "loan_amnt                     42535 non-null int64\n",
      "funded_amnt                   42535 non-null int64\n",
      "funded_amnt_inv               42535 non-null float64\n",
      "term                          42535 non-null object\n",
      "int_rate                      42535 non-null object\n",
      "installment                   42535 non-null float64\n",
      "grade                         42535 non-null object\n",
      "sub_grade                     42535 non-null object\n",
      "emp_title                     39909 non-null object\n",
      "emp_length                    41423 non-null object\n",
      "home_ownership                42535 non-null object\n",
      "annual_inc                    42531 non-null float64\n",
      "verification_status           42535 non-null object\n",
      "issue_d                       42535 non-null object\n",
      "loan_status                   42535 non-null object\n",
      "pymnt_plan                    42535 non-null object\n",
      "desc                          29242 non-null object\n",
      "purpose                       42535 non-null object\n",
      "title                         42522 non-null object\n",
      "zip_code                      42535 non-null object\n",
      "addr_state                    42535 non-null object\n",
      "dti                           42535 non-null float64\n",
      "delinq_2yrs                   42506 non-null float64\n",
      "earliest_cr_line              42506 non-null object\n",
      "inq_last_6mths                42506 non-null float64\n",
      "mths_since_last_delinq        15609 non-null float64\n",
      "open_acc                      42506 non-null float64\n",
      "pub_rec                       42506 non-null float64\n",
      "revol_bal                     42535 non-null int64\n",
      "revol_util                    42445 non-null object\n",
      "total_acc                     42506 non-null float64\n",
      "initial_list_status           42535 non-null object\n",
      "out_prncp                     42535 non-null int64\n",
      "out_prncp_inv                 42535 non-null int64\n",
      "total_pymnt                   42535 non-null float64\n",
      "total_pymnt_inv               42535 non-null float64\n",
      "total_rec_prncp               42535 non-null float64\n",
      "total_rec_int                 42535 non-null float64\n",
      "total_rec_late_fee            42535 non-null float64\n",
      "recoveries                    42535 non-null float64\n",
      "collection_recovery_fee       42535 non-null float64\n",
      "last_pymnt_d                  42452 non-null object\n",
      "last_pymnt_amnt               42535 non-null float64\n",
      "last_credit_pull_d            42531 non-null object\n",
      "collections_12_mths_ex_med    42390 non-null float64\n",
      "policy_code                   42535 non-null int64\n",
      "application_type              42535 non-null object\n",
      "acc_now_delinq                42506 non-null float64\n",
      "chargeoff_within_12_mths      42390 non-null float64\n",
      "delinq_amnt                   42506 non-null float64\n",
      "pub_rec_bankruptcies          41170 non-null float64\n",
      "tax_liens                     42430 non-null float64\n",
      "hardship_flag                 42535 non-null object\n",
      "debt_settlement_flag          42535 non-null object\n",
      "dtypes: float64(24), int64(6), object(24)\n",
      "memory usage: 17.5+ MB\n"
     ]
    }
   ],
   "source": [
    "data.info()        #checking the dtype and null counts in data structure"
   ]
  },
  {
   "cell_type": "code",
   "execution_count": 12,
   "metadata": {},
   "outputs": [
    {
     "name": "stdout",
     "output_type": "stream",
     "text": [
      "[4975.        2500.        2400.        ...  899.99576    749.9994052\n",
      " 1099.996405 ]\n",
      "funded_amnt_inv\n",
      "[162.87  59.83  84.33 ...  32.11  80.69 204.84]\n",
      "installment\n",
      "[24000. 30000. 12252. ...  7280. 66624.  6500.]\n",
      "annual_inc\n",
      "[27.65  1.    8.72 ... 28.16 29.41 28.43]\n",
      "dti\n",
      "[ 0.  2.  3.  1.  4.  6.  5.  8.  7.  9. 11. nan 13.]\n",
      "delinq_2yrs\n",
      "[ 1.  5.  2.  0.  3.  4.  6.  7.  8.  9. 10. 11. 12. 15. 14. 33. 17. 32.\n",
      " 24. 13. 18. 16. 31. 28. 25. 27. 20. 19. nan]\n",
      "inq_last_6mths\n",
      "[ nan  35.  38.  61.   8.  20.  18.  68.  45.  48.  41.  40.  74.  25.\n",
      "  53.  39.  10.  26.  56.  77.  28.  52.  24.  16.  60.  54.  23.   9.\n",
      "  11.  13.  65.  19.  80.  22.  59.  79.  44.  64.  57.  14.  63.  49.\n",
      "  15.  73.  70.  29.  51.   5.  75.  55.   2.  30.  47.  33.  69.   4.\n",
      "  43.  21.  27.  46.  81.  78.  82.  31.  76.  62.  72.  42.  50.   3.\n",
      "  12.  67.  36.  34.  58.  17.  71.  66.  32.   6.  37.   7.   1.  83.\n",
      "  86. 115.  96. 103. 120. 106.  89. 107.  85.  97.  95.   0.]\n",
      "mths_since_last_delinq\n",
      "[ 3.  2. 10. 15.  9.  7.  4. 11. 14. 12. 20.  8.  6. 17.  5. 13. 16. 30.\n",
      " 21. 18. 19. 27. 23. 34. 25. 22. 24. 26. 32. 28. 29. 33. 31. 39. 35. 36.\n",
      " 38. 44. 41. 42.  1. 46. 37. 47. nan]\n",
      "open_acc\n",
      "[ 0.  1.  2.  3.  4.  5. nan]\n",
      "pub_rec\n",
      "[ 9.  4. 10. 37. 38. 12. 11. 13.  3. 23. 34. 29. 28. 42. 14. 22. 21. 17.\n",
      "  7. 31. 44. 26. 16.  6. 18. 27. 24. 25. 40. 35.  8. 20. 15. 19. 36. 51.\n",
      " 32. 30. 33. 46.  5. 61. 56. 50. 41. 39. 79. 62. 43. 47. 53. 45. 60. 55.\n",
      " 52. 58. 54. 57. 49. 63. 48. 59. 77. 87. 75. 72. 64. 67. 78. 76. 74. 66.\n",
      " 81. 90. 80. 71. 69. 73. 70. 68. 65.  2.  1. nan]\n",
      "total_acc\n",
      "[5863.155187 1014.53     3005.666844 ... 2904.498829 7373.904962\n",
      " 5619.76209 ]\n",
      "total_pymnt\n",
      "[5833.84 1014.53 3005.67 ...  261.27  239.11  258.82]\n",
      "total_pymnt_inv\n",
      "[5000.    456.46 2400.   ... 1962.69  340.5  1791.32]\n",
      "total_rec_prncp\n",
      "[863.16 435.17 605.67 ... 155.6  379.5  619.76]\n",
      "total_rec_int\n",
      "[  0.          16.97        15.00000003 ...  51.78        21.64\n",
      " 120.        ]\n",
      "total_rec_late_fee\n",
      "[   0.    122.9   190.54 ...   28.7   872.89 4897.93]\n",
      "recoveries\n",
      "[0.000000e+00 1.110000e+00 2.090000e+00 ... 6.680000e+00 3.055105e+02\n",
      " 1.714270e+03]\n",
      "collection_recovery_fee\n",
      "[171.62 119.66 649.91 ...  82.03 205.32 156.39]\n",
      "last_pymnt_amnt\n",
      "[ 0. nan]\n",
      "collections_12_mths_ex_med\n",
      "[ 0.  1. nan]\n",
      "acc_now_delinq\n",
      "[ 0. nan]\n",
      "chargeoff_within_12_mths\n",
      "[   0.   nan   27. 6053.]\n",
      "delinq_amnt\n",
      "[ 0.  1.  2. nan]\n",
      "pub_rec_bankruptcies\n",
      "[ 0. nan  1.]\n",
      "tax_liens\n"
     ]
    }
   ],
   "source": [
    "numeric=[]\n",
    "\n",
    "for i in data.columns:\n",
    "    if data[i].dtype=='float64':\n",
    "        numeric.append(i)\n",
    "        print(data[i].unique())\n",
    "        print(i)                        #extracting numeric columns from the data"
   ]
  },
  {
   "cell_type": "code",
   "execution_count": 13,
   "metadata": {},
   "outputs": [
    {
     "data": {
      "image/png": "[encoded data removed]",
      "text/plain": [
       "<Figure size 432x288 with 1 Axes>"
      ]
     },
     "metadata": {
      "needs_background": "light"
     },
     "output_type": "display_data"
    },
    {
     "name": "stdout",
     "output_type": "stream",
     "text": [
      "funded_amnt_inv\n"
     ]
    },
    {
     "data": {
      "image/png": "[encoded data removed]",
      "text/plain": [
       "<Figure size 432x288 with 1 Axes>"
      ]
     },
     "metadata": {
      "needs_background": "light"
     },
     "output_type": "display_data"
    },
    {
     "name": "stdout",
     "output_type": "stream",
     "text": [
      "installment\n"
     ]
    },
    {
     "data": {
      "image/png": "[encoded data removed]",
      "text/plain": [
       "<Figure size 432x288 with 1 Axes>"
      ]
     },
     "metadata": {
      "needs_background": "light"
     },
     "output_type": "display_data"
    },
    {
     "name": "stdout",
     "output_type": "stream",
     "text": [
      "annual_inc\n"
     ]
    },
    {
     "data": {
      "image/png": "[encoded data removed]",
      "text/plain": [
       "<Figure size 432x288 with 1 Axes>"
      ]
     },
     "metadata": {
      "needs_background": "light"
     },
     "output_type": "display_data"
    },
    {
     "name": "stdout",
     "output_type": "stream",
     "text": [
      "dti\n"
     ]
    },
    {
     "data": {
      "image/png": "[encoded data removed]",
      "text/plain": [
       "<Figure size 432x288 with 1 Axes>"
      ]
     },
     "metadata": {
      "needs_background": "light"
     },
     "output_type": "display_data"
    },
    {
     "name": "stdout",
     "output_type": "stream",
     "text": [
      "delinq_2yrs\n"
     ]
    },
    {
     "data": {
      "image/png": "[encoded data removed]",
      "text/plain": [
       "<Figure size 432x288 with 1 Axes>"
      ]
     },
     "metadata": {
      "needs_background": "light"
     },
     "output_type": "display_data"
    },
    {
     "name": "stdout",
     "output_type": "stream",
     "text": [
      "inq_last_6mths\n"
     ]
    },
    {
     "data": {
      "image/png": "[encoded data removed]",
      "text/plain": [
       "<Figure size 432x288 with 1 Axes>"
      ]
     },
     "metadata": {
      "needs_background": "light"
     },
     "output_type": "display_data"
    },
    {
     "name": "stdout",
     "output_type": "stream",
     "text": [
      "mths_since_last_delinq\n"
     ]
    },
    {
     "data": {
      "image/png": "[encoded data removed]",
      "text/plain": [
       "<Figure size 432x288 with 1 Axes>"
      ]
     },
     "metadata": {
      "needs_background": "light"
     },
     "output_type": "display_data"
    },
    {
     "name": "stdout",
     "output_type": "stream",
     "text": [
      "open_acc\n"
     ]
    },
    {
     "data": {
      "image/png": "[encoded data removed]",
      "text/plain": [
       "<Figure size 432x288 with 1 Axes>"
      ]
     },
     "metadata": {
      "needs_background": "light"
     },
     "output_type": "display_data"
    },
    {
     "name": "stdout",
     "output_type": "stream",
     "text": [
      "pub_rec\n"
     ]
    },
    {
     "data": {
      "image/png": "[encoded data removed]",
      "text/plain": [
       "<Figure size 432x288 with 1 Axes>"
      ]
     },
     "metadata": {
      "needs_background": "light"
     },
     "output_type": "display_data"
    },
    {
     "name": "stdout",
     "output_type": "stream",
     "text": [
      "total_acc\n"
     ]
    },
    {
     "data": {
      "image/png": "[encoded data removed]",
      "text/plain": [
       "<Figure size 432x288 with 1 Axes>"
      ]
     },
     "metadata": {
      "needs_background": "light"
     },
     "output_type": "display_data"
    },
    {
     "name": "stdout",
     "output_type": "stream",
     "text": [
      "total_pymnt\n"
     ]
    },
    {
     "data": {
      "image/png": "[encoded data removed]",
      "text/plain": [
       "<Figure size 432x288 with 1 Axes>"
      ]
     },
     "metadata": {
      "needs_background": "light"
     },
     "output_type": "display_data"
    },
    {
     "name": "stdout",
     "output_type": "stream",
     "text": [
      "total_pymnt_inv\n"
     ]
    },
    {
     "data": {
      "image/png": "[encoded data removed]",
      "text/plain": [
       "<Figure size 432x288 with 1 Axes>"
      ]
     },
     "metadata": {
      "needs_background": "light"
     },
     "output_type": "display_data"
    },
    {
     "name": "stdout",
     "output_type": "stream",
     "text": [
      "total_rec_prncp\n"
     ]
    },
    {
     "data": {
      "image/png": "[encoded data removed]",
      "text/plain": [
       "<Figure size 432x288 with 1 Axes>"
      ]
     },
     "metadata": {
      "needs_background": "light"
     },
     "output_type": "display_data"
    },
    {
     "name": "stdout",
     "output_type": "stream",
     "text": [
      "total_rec_int\n"
     ]
    },
    {
     "data": {
      "image/png": "[encoded data removed]",
      "text/plain": [
       "<Figure size 432x288 with 1 Axes>"
      ]
     },
     "metadata": {
      "needs_background": "light"
     },
     "output_type": "display_data"
    },
    {
     "name": "stdout",
     "output_type": "stream",
     "text": [
      "total_rec_late_fee\n"
     ]
    },
    {
     "data": {
      "image/png": "[encoded data removed]",
      "text/plain": [
       "<Figure size 432x288 with 1 Axes>"
      ]
     },
     "metadata": {
      "needs_background": "light"
     },
     "output_type": "display_data"
    },
    {
     "name": "stdout",
     "output_type": "stream",
     "text": [
      "recoveries\n"
     ]
    },
    {
     "data": {
      "image/png": "[encoded data removed]",
      "text/plain": [
       "<Figure size 432x288 with 1 Axes>"
      ]
     },
     "metadata": {
      "needs_background": "light"
     },
     "output_type": "display_data"
    },
    {
     "name": "stdout",
     "output_type": "stream",
     "text": [
      "collection_recovery_fee\n"
     ]
    },
    {
     "data": {
      "image/png": "[encoded data removed]",
      "text/plain": [
       "<Figure size 432x288 with 1 Axes>"
      ]
     },
     "metadata": {
      "needs_background": "light"
     },
     "output_type": "display_data"
    },
    {
     "name": "stdout",
     "output_type": "stream",
     "text": [
      "last_pymnt_amnt\n"
     ]
    },
    {
     "data": {
      "image/png": "[encoded data removed]",
      "text/plain": [
       "<Figure size 432x288 with 1 Axes>"
      ]
     },
     "metadata": {
      "needs_background": "light"
     },
     "output_type": "display_data"
    },
    {
     "name": "stdout",
     "output_type": "stream",
     "text": [
      "collections_12_mths_ex_med\n"
     ]
    },
    {
     "data": {
      "image/png": "[encoded data removed]",
      "text/plain": [
       "<Figure size 432x288 with 1 Axes>"
      ]
     },
     "metadata": {
      "needs_background": "light"
     },
     "output_type": "display_data"
    },
    {
     "name": "stdout",
     "output_type": "stream",
     "text": [
      "acc_now_delinq\n"
     ]
    },
    {
     "data": {
      "image/png": "[encoded data removed]",
      "text/plain": [
       "<Figure size 432x288 with 1 Axes>"
      ]
     },
     "metadata": {
      "needs_background": "light"
     },
     "output_type": "display_data"
    },
    {
     "name": "stdout",
     "output_type": "stream",
     "text": [
      "chargeoff_within_12_mths\n"
     ]
    },
    {
     "data": {
      "image/png": "[encoded data removed]",
      "text/plain": [
       "<Figure size 432x288 with 1 Axes>"
      ]
     },
     "metadata": {
      "needs_background": "light"
     },
     "output_type": "display_data"
    },
    {
     "name": "stdout",
     "output_type": "stream",
     "text": [
      "delinq_amnt\n"
     ]
    },
    {
     "data": {
      "image/png": "[encoded data removed]",
      "text/plain": [
       "<Figure size 432x288 with 1 Axes>"
      ]
     },
     "metadata": {
      "needs_background": "light"
     },
     "output_type": "display_data"
    },
    {
     "name": "stdout",
     "output_type": "stream",
     "text": [
      "pub_rec_bankruptcies\n"
     ]
    },
    {
     "data": {
      "image/png": "[encoded data removed]",
      "text/plain": [
       "<Figure size 432x288 with 1 Axes>"
      ]
     },
     "metadata": {
      "needs_background": "light"
     },
     "output_type": "display_data"
    },
    {
     "name": "stdout",
     "output_type": "stream",
     "text": [
      "tax_liens\n"
     ]
    }
   ],
   "source": [
    "\n",
    "float=[]\n",
    "for i in data.columns:\n",
    "    if data[i].dtype=='float64':\n",
    "        sns.boxplot(data[pd.notna(data[i])][i])\n",
    "        plt.show()\n",
    "        print(i)                                   #checking the distribution of the numeric columns\n",
    "                                            # It is observed that the datapoints in max. columns consist multivariate outliers\n",
    "                                            #Data in max. columns are skewed towards right"
   ]
  },
  {
   "cell_type": "code",
   "execution_count": 14,
   "metadata": {},
   "outputs": [
    {
     "name": "stderr",
     "output_type": "stream",
     "text": [
      "F:\\PGPDSE\\Python\\lib\\site-packages\\scipy\\stats\\stats.py:1713: FutureWarning: Using a non-tuple sequence for multidimensional indexing is deprecated; use `arr[tuple(seq)]` instead of `arr[seq]`. In the future this will be interpreted as an array index, `arr[np.array(seq)]`, which will result either in an error or a different result.\n",
      "  return np.add.reduce(sorted[indexer] * weights, axis=axis) / sumval\n"
     ]
    },
    {
     "data": {
      "image/png": "[encoded data removed]",
      "text/plain": [
       "<Figure size 432x288 with 1 Axes>"
      ]
     },
     "metadata": {
      "needs_background": "light"
     },
     "output_type": "display_data"
    },
    {
     "name": "stdout",
     "output_type": "stream",
     "text": [
      "funded_amnt_inv\n"
     ]
    },
    {
     "data": {
      "image/png": "[encoded data removed]",
      "text/plain": [
       "<Figure size 432x288 with 1 Axes>"
      ]
     },
     "metadata": {
      "needs_background": "light"
     },
     "output_type": "display_data"
    },
    {
     "name": "stdout",
     "output_type": "stream",
     "text": [
      "installment\n"
     ]
    },
    {
     "data": {
      "image/png": "[encoded data removed]",
      "text/plain": [
       "<Figure size 432x288 with 1 Axes>"
      ]
     },
     "metadata": {
      "needs_background": "light"
     },
     "output_type": "display_data"
    },
    {
     "name": "stdout",
     "output_type": "stream",
     "text": [
      "annual_inc\n"
     ]
    },
    {
     "data": {
      "image/png": "[encoded data removed]",
      "text/plain": [
       "<Figure size 432x288 with 1 Axes>"
      ]
     },
     "metadata": {
      "needs_background": "light"
     },
     "output_type": "display_data"
    },
    {
     "name": "stdout",
     "output_type": "stream",
     "text": [
      "dti\n"
     ]
    },
    {
     "data": {
      "image/png": "[encoded data removed]",
      "text/plain": [
       "<Figure size 432x288 with 1 Axes>"
      ]
     },
     "metadata": {
      "needs_background": "light"
     },
     "output_type": "display_data"
    },
    {
     "name": "stdout",
     "output_type": "stream",
     "text": [
      "delinq_2yrs\n"
     ]
    },
    {
     "data": {
      "image/png": "[encoded data removed]",
      "text/plain": [
       "<Figure size 432x288 with 1 Axes>"
      ]
     },
     "metadata": {
      "needs_background": "light"
     },
     "output_type": "display_data"
    },
    {
     "name": "stdout",
     "output_type": "stream",
     "text": [
      "inq_last_6mths\n"
     ]
    },
    {
     "data": {
      "image/png": "[encoded data removed]",
      "text/plain": [
       "<Figure size 432x288 with 1 Axes>"
      ]
     },
     "metadata": {
      "needs_background": "light"
     },
     "output_type": "display_data"
    },
    {
     "name": "stdout",
     "output_type": "stream",
     "text": [
      "mths_since_last_delinq\n"
     ]
    },
    {
     "data": {
      "image/png": "[encoded data removed]",
      "text/plain": [
       "<Figure size 432x288 with 1 Axes>"
      ]
     },
     "metadata": {
      "needs_background": "light"
     },
     "output_type": "display_data"
    },
    {
     "name": "stdout",
     "output_type": "stream",
     "text": [
      "open_acc\n"
     ]
    },
    {
     "data": {
      "image/png": "[encoded data removed]",
      "text/plain": [
       "<Figure size 432x288 with 1 Axes>"
      ]
     },
     "metadata": {
      "needs_background": "light"
     },
     "output_type": "display_data"
    },
    {
     "name": "stdout",
     "output_type": "stream",
     "text": [
      "pub_rec\n"
     ]
    },
    {
     "data": {
      "image/png": "[encoded data removed]",
      "text/plain": [
       "<Figure size 432x288 with 1 Axes>"
      ]
     },
     "metadata": {
      "needs_background": "light"
     },
     "output_type": "display_data"
    },
    {
     "name": "stdout",
     "output_type": "stream",
     "text": [
      "total_acc\n"
     ]
    },
    {
     "data": {
      "image/png": "[encoded data removed]",
      "text/plain": [
       "<Figure size 432x288 with 1 Axes>"
      ]
     },
     "metadata": {
      "needs_background": "light"
     },
     "output_type": "display_data"
    },
    {
     "name": "stdout",
     "output_type": "stream",
     "text": [
      "total_pymnt\n"
     ]
    },
    {
     "data": {
      "image/png": "[encoded data removed]",
      "text/plain": [
       "<Figure size 432x288 with 1 Axes>"
      ]
     },
     "metadata": {
      "needs_background": "light"
     },
     "output_type": "display_data"
    },
    {
     "name": "stdout",
     "output_type": "stream",
     "text": [
      "total_pymnt_inv\n"
     ]
    },
    {
     "data": {
      "image/png": "[encoded data removed]",
      "text/plain": [
       "<Figure size 432x288 with 1 Axes>"
      ]
     },
     "metadata": {
      "needs_background": "light"
     },
     "output_type": "display_data"
    },
    {
     "name": "stdout",
     "output_type": "stream",
     "text": [
      "total_rec_prncp\n"
     ]
    },
    {
     "data": {
      "image/png": "[encoded data removed]",
      "text/plain": [
       "<Figure size 432x288 with 1 Axes>"
      ]
     },
     "metadata": {
      "needs_background": "light"
     },
     "output_type": "display_data"
    },
    {
     "name": "stdout",
     "output_type": "stream",
     "text": [
      "total_rec_int\n"
     ]
    },
    {
     "data": {
      "image/png": "[encoded data removed]",
      "text/plain": [
       "<Figure size 432x288 with 1 Axes>"
      ]
     },
     "metadata": {
      "needs_background": "light"
     },
     "output_type": "display_data"
    },
    {
     "name": "stdout",
     "output_type": "stream",
     "text": [
      "total_rec_late_fee\n"
     ]
    },
    {
     "data": {
      "image/png": "[encoded data removed]",
      "text/plain": [
       "<Figure size 432x288 with 1 Axes>"
      ]
     },
     "metadata": {
      "needs_background": "light"
     },
     "output_type": "display_data"
    },
    {
     "name": "stdout",
     "output_type": "stream",
     "text": [
      "recoveries\n"
     ]
    },
    {
     "data": {
      "image/png": "[encoded data removed]",
      "text/plain": [
       "<Figure size 432x288 with 1 Axes>"
      ]
     },
     "metadata": {
      "needs_background": "light"
     },
     "output_type": "display_data"
    },
    {
     "name": "stdout",
     "output_type": "stream",
     "text": [
      "collection_recovery_fee\n"
     ]
    },
    {
     "data": {
      "image/png": "[encoded data removed]",
      "text/plain": [
       "<Figure size 432x288 with 1 Axes>"
      ]
     },
     "metadata": {
      "needs_background": "light"
     },
     "output_type": "display_data"
    },
    {
     "name": "stdout",
     "output_type": "stream",
     "text": [
      "last_pymnt_amnt\n"
     ]
    },
    {
     "name": "stderr",
     "output_type": "stream",
     "text": [
      "F:\\PGPDSE\\Python\\lib\\site-packages\\statsmodels\\nonparametric\\kde.py:488: RuntimeWarning: invalid value encountered in true_divide\n",
      "  binned = fast_linbin(X, a, b, gridsize) / (delta * nobs)\n",
      "F:\\PGPDSE\\Python\\lib\\site-packages\\statsmodels\\nonparametric\\kdetools.py:34: RuntimeWarning: invalid value encountered in double_scalars\n",
      "  FAC1 = 2*(np.pi*bw/RANGE)**2\n",
      "F:\\PGPDSE\\Python\\lib\\site-packages\\numpy\\core\\fromnumeric.py:83: RuntimeWarning: invalid value encountered in reduce\n",
      "  return ufunc.reduce(obj, axis, dtype, out, **passkwargs)\n"
     ]
    },
    {
     "data": {
      "image/png": "[encoded data removed]",
      "text/plain": [
       "<Figure size 432x288 with 1 Axes>"
      ]
     },
     "metadata": {
      "needs_background": "light"
     },
     "output_type": "display_data"
    },
    {
     "name": "stdout",
     "output_type": "stream",
     "text": [
      "collections_12_mths_ex_med\n"
     ]
    },
    {
     "data": {
      "image/png": "[encoded data removed]",
      "text/plain": [
       "<Figure size 432x288 with 1 Axes>"
      ]
     },
     "metadata": {
      "needs_background": "light"
     },
     "output_type": "display_data"
    },
    {
     "name": "stdout",
     "output_type": "stream",
     "text": [
      "acc_now_delinq\n"
     ]
    },
    {
     "data": {
      "image/png": "[encoded data removed]",
      "text/plain": [
       "<Figure size 432x288 with 1 Axes>"
      ]
     },
     "metadata": {
      "needs_background": "light"
     },
     "output_type": "display_data"
    },
    {
     "name": "stdout",
     "output_type": "stream",
     "text": [
      "chargeoff_within_12_mths\n"
     ]
    },
    {
     "data": {
      "image/png": "[encoded data removed]",
      "text/plain": [
       "<Figure size 432x288 with 1 Axes>"
      ]
     },
     "metadata": {
      "needs_background": "light"
     },
     "output_type": "display_data"
    },
    {
     "name": "stdout",
     "output_type": "stream",
     "text": [
      "delinq_amnt\n"
     ]
    },
    {
     "data": {
      "image/png": "[encoded data removed]",
      "text/plain": [
       "<Figure size 432x288 with 1 Axes>"
      ]
     },
     "metadata": {
      "needs_background": "light"
     },
     "output_type": "display_data"
    },
    {
     "name": "stdout",
     "output_type": "stream",
     "text": [
      "pub_rec_bankruptcies\n"
     ]
    },
    {
     "data": {
      "image/png": "[encoded data removed]",
      "text/plain": [
       "<Figure size 432x288 with 1 Axes>"
      ]
     },
     "metadata": {
      "needs_background": "light"
     },
     "output_type": "display_data"
    },
    {
     "name": "stdout",
     "output_type": "stream",
     "text": [
      "tax_liens\n"
     ]
    }
   ],
   "source": [
    " for i in data.columns:\n",
    "    if data[i].dtype=='float64':\n",
    "        sns.distplot(data[pd.notna(data[i])][i])\n",
    "        plt.show()\n",
    "        print(i)                                   #distplot showing the skewness of the data in columns"
   ]
  },
  {
   "cell_type": "code",
   "execution_count": 15,
   "metadata": {},
   "outputs": [],
   "source": [
    "#data is right skewed\n",
    "\n",
    "#too many outliers in the data"
   ]
  },
  {
   "cell_type": "code",
   "execution_count": null,
   "metadata": {},
   "outputs": [],
   "source": []
  },
  {
   "cell_type": "code",
   "execution_count": 16,
   "metadata": {},
   "outputs": [
    {
     "data": {
      "text/plain": [
       "Index(['loan_amnt', 'funded_amnt', 'funded_amnt_inv', 'term', 'int_rate',\n",
       "       'installment', 'grade', 'sub_grade', 'emp_title', 'emp_length',\n",
       "       'home_ownership', 'annual_inc', 'verification_status', 'issue_d',\n",
       "       'loan_status', 'pymnt_plan', 'desc', 'purpose', 'title', 'zip_code',\n",
       "       'addr_state', 'dti', 'delinq_2yrs', 'earliest_cr_line',\n",
       "       'inq_last_6mths', 'mths_since_last_delinq', 'open_acc', 'pub_rec',\n",
       "       'revol_bal', 'revol_util', 'total_acc', 'initial_list_status',\n",
       "       'out_prncp', 'out_prncp_inv', 'total_pymnt', 'total_pymnt_inv',\n",
       "       'total_rec_prncp', 'total_rec_int', 'total_rec_late_fee', 'recoveries',\n",
       "       'collection_recovery_fee', 'last_pymnt_d', 'last_pymnt_amnt',\n",
       "       'last_credit_pull_d', 'collections_12_mths_ex_med', 'policy_code',\n",
       "       'application_type', 'acc_now_delinq', 'chargeoff_within_12_mths',\n",
       "       'delinq_amnt', 'pub_rec_bankruptcies', 'tax_liens', 'hardship_flag',\n",
       "       'debt_settlement_flag'],\n",
       "      dtype='object')"
      ]
     },
     "execution_count": 16,
     "metadata": {},
     "output_type": "execute_result"
    }
   ],
   "source": [
    "data.columns"
   ]
  },
  {
   "cell_type": "code",
   "execution_count": null,
   "metadata": {},
   "outputs": [],
   "source": []
  },
  {
   "cell_type": "code",
   "execution_count": 17,
   "metadata": {},
   "outputs": [],
   "source": [
    "#Extracting the correlation between numeric values "
   ]
  },
  {
   "cell_type": "code",
   "execution_count": 18,
   "metadata": {},
   "outputs": [
    {
     "name": "stdout",
     "output_type": "stream",
     "text": [
      "funded_amnt_inv and funded_amnt_inv have correlation value\n",
      "1.0\n",
      "funded_amnt_inv and installment have correlation value\n",
      "0.890150703285774\n",
      "funded_amnt_inv and annual_inc have correlation value\n",
      "0.2523294442748821\n",
      "funded_amnt_inv and dti have correlation value\n",
      "0.07107280949831071\n",
      "funded_amnt_inv and delinq_2yrs have correlation value\n",
      "-0.043868408723650595\n",
      "funded_amnt_inv and inq_last_6mths have correlation value\n",
      "-0.07491293936395321\n",
      "funded_amnt_inv and mths_since_last_delinq have correlation value\n",
      "0.10470716674132725\n",
      "funded_amnt_inv and open_acc have correlation value\n",
      "0.1563612127240656\n",
      "funded_amnt_inv and pub_rec have correlation value\n",
      "-0.05574213939510936\n",
      "funded_amnt_inv and total_acc have correlation value\n",
      "0.24085777175960074\n",
      "funded_amnt_inv and total_pymnt have correlation value\n",
      "0.8734095074241622\n",
      "funded_amnt_inv and total_pymnt_inv have correlation value\n",
      "0.9130195726735537\n",
      "funded_amnt_inv and total_rec_prncp have correlation value\n",
      "0.8415470569023964\n",
      "funded_amnt_inv and total_rec_int have correlation value\n",
      "0.7265518460238124\n",
      "funded_amnt_inv and total_rec_late_fee have correlation value\n",
      "0.020079288695277354\n",
      "funded_amnt_inv and recoveries have correlation value\n",
      "0.11585400909289689\n",
      "funded_amnt_inv and collection_recovery_fee have correlation value\n",
      "0.055963724347890875\n",
      "funded_amnt_inv and last_pymnt_amnt have correlation value\n",
      "0.4415075523738708\n",
      "funded_amnt_inv and collections_12_mths_ex_med have correlation value\n",
      "nan\n",
      "funded_amnt_inv and acc_now_delinq have correlation value\n",
      "-0.012589665189934993\n",
      "funded_amnt_inv and chargeoff_within_12_mths have correlation value\n",
      "nan\n",
      "funded_amnt_inv and delinq_amnt have correlation value\n",
      "-0.006200591331065597\n",
      "funded_amnt_inv and pub_rec_bankruptcies have correlation value\n",
      "-0.04612412888353577\n",
      "funded_amnt_inv and tax_liens have correlation value\n",
      "-0.006242190517593927\n",
      "installment and funded_amnt_inv have correlation value\n",
      "0.8901507032857648\n",
      "installment and installment have correlation value\n",
      "0.999999999999998\n",
      "installment and annual_inc have correlation value\n",
      "0.27833943940638334\n",
      "installment and dti have correlation value\n",
      "0.054948014345328686\n",
      "installment and delinq_2yrs have correlation value\n",
      "-0.02009595334104863\n",
      "installment and inq_last_6mths have correlation value\n",
      "-0.010882479551144193\n",
      "installment and mths_since_last_delinq have correlation value\n",
      "0.003995539345622327\n",
      "installment and open_acc have correlation value\n",
      "0.17534893365468157\n",
      "installment and pub_rec have correlation value\n",
      "-0.045850372013939183\n",
      "installment and total_acc have correlation value\n",
      "0.23390539884187306\n",
      "installment and total_pymnt have correlation value\n",
      "0.8486097134056318\n",
      "installment and total_pymnt_inv have correlation value\n",
      "0.7996523015891599\n",
      "installment and total_rec_prncp have correlation value\n",
      "0.8433586154499648\n",
      "installment and total_rec_int have correlation value\n",
      "0.6336153498200627\n",
      "installment and total_rec_late_fee have correlation value\n",
      "0.05724413999972119\n",
      "installment and recoveries have correlation value\n",
      "0.1179341817583664\n",
      "installment and collection_recovery_fee have correlation value\n",
      "0.07637048548717118\n",
      "installment and last_pymnt_amnt have correlation value\n",
      "0.400161590774736\n",
      "installment and collections_12_mths_ex_med have correlation value\n",
      "nan\n",
      "installment and acc_now_delinq have correlation value\n",
      "-0.004109333828941838\n",
      "installment and chargeoff_within_12_mths have correlation value\n",
      "nan\n",
      "installment and delinq_amnt have correlation value\n",
      "-0.0034949316887814747\n",
      "installment and pub_rec_bankruptcies have correlation value\n",
      "-0.03374556834004325\n",
      "installment and tax_liens have correlation value\n",
      "-0.005929489097770656\n",
      "annual_inc and funded_amnt_inv have correlation value\n",
      "0.2523294442748796\n",
      "annual_inc and installment have correlation value\n",
      "0.2783394394063826\n",
      "annual_inc and annual_inc have correlation value\n",
      "0.9999999999999972\n",
      "annual_inc and dti have correlation value\n",
      "-0.11655932802661069\n",
      "annual_inc and delinq_2yrs have correlation value\n",
      "0.02216081972395515\n",
      "annual_inc and inq_last_6mths have correlation value\n",
      "0.02776436210879988\n",
      "annual_inc and mths_since_last_delinq have correlation value\n",
      "-0.0007512253269367641\n",
      "annual_inc and open_acc have correlation value\n",
      "0.1681290211852174\n",
      "annual_inc and pub_rec have correlation value\n",
      "-0.016348244108026575\n",
      "annual_inc and total_acc have correlation value\n",
      "0.24616266563680736\n",
      "annual_inc and total_pymnt have correlation value\n",
      "0.2582063165175152\n",
      "annual_inc and total_pymnt_inv have correlation value\n",
      "0.2432446769096076\n",
      "annual_inc and total_rec_prncp have correlation value\n",
      "0.2595159266134673\n",
      "annual_inc and total_rec_int have correlation value\n",
      "0.1878311191396259\n",
      "annual_inc and total_rec_late_fee have correlation value\n",
      "0.009742834411867652\n",
      "annual_inc and recoveries have correlation value\n",
      "0.02531687455004693\n",
      "annual_inc and collection_recovery_fee have correlation value\n",
      "0.01721232638334692\n",
      "annual_inc and last_pymnt_amnt have correlation value\n",
      "0.13938708212166775\n",
      "annual_inc and collections_12_mths_ex_med have correlation value\n",
      "nan\n",
      "annual_inc and acc_now_delinq have correlation value\n",
      "-0.0009262735938877864\n",
      "annual_inc and chargeoff_within_12_mths have correlation value\n",
      "nan\n",
      "annual_inc and delinq_amnt have correlation value\n",
      "-0.0018092605084379621\n",
      "annual_inc and pub_rec_bankruptcies have correlation value\n",
      "-0.01543693372916692\n",
      "annual_inc and tax_liens have correlation value\n",
      "-0.0018276309100429629\n",
      "dti and funded_amnt_inv have correlation value\n",
      "0.07107280949831009\n",
      "dti and installment have correlation value\n",
      "0.054948014345328755\n",
      "dti and annual_inc have correlation value\n",
      "-0.1165593280266108\n",
      "dti and dti have correlation value\n",
      "0.9999999999999993\n",
      "dti and delinq_2yrs have correlation value\n",
      "-0.03657681398993085\n",
      "dti and inq_last_6mths have correlation value\n",
      "0.014241245835432908\n",
      "dti and mths_since_last_delinq have correlation value\n",
      "0.06696025395699894\n",
      "dti and open_acc have correlation value\n",
      "0.29795090370946903\n",
      "dti and pub_rec have correlation value\n",
      "-0.00285440755929414\n",
      "dti and total_acc have correlation value\n",
      "0.2413061313552665\n",
      "dti and total_pymnt have correlation value\n",
      "0.06390115517440245\n",
      "dti and total_pymnt_inv have correlation value\n",
      "0.0689558367173547\n",
      "dti and total_rec_prncp have correlation value\n",
      "0.041431543287889366\n",
      "dti and total_rec_int have correlation value\n",
      "0.10454669464190747\n",
      "dti and total_rec_late_fee have correlation value\n",
      "-0.010959349065037722\n",
      "dti and recoveries have correlation value\n",
      "0.02252379656152303\n",
      "dti and collection_recovery_fee have correlation value\n",
      "0.008541458511345605\n",
      "dti and last_pymnt_amnt have correlation value\n",
      "0.0037432158756684837\n",
      "dti and collections_12_mths_ex_med have correlation value\n",
      "nan\n",
      "dti and acc_now_delinq have correlation value\n",
      "-0.013131861248322973\n",
      "dti and chargeoff_within_12_mths have correlation value\n",
      "nan\n",
      "dti and delinq_amnt have correlation value\n",
      "-0.009262248116426798\n",
      "dti and pub_rec_bankruptcies have correlation value\n",
      "0.008671056933272681\n",
      "dti and tax_liens have correlation value\n",
      "-0.003346409225700181\n",
      "delinq_2yrs and funded_amnt_inv have correlation value\n",
      "-0.04386840872364419\n",
      "delinq_2yrs and installment have correlation value\n",
      "-0.020095953341045674\n",
      "delinq_2yrs and annual_inc have correlation value\n",
      "0.022160819723951695\n",
      "delinq_2yrs and dti have correlation value\n",
      "-0.03657681398992508\n",
      "delinq_2yrs and delinq_2yrs have correlation value\n",
      "0.9999999999998466\n",
      "delinq_2yrs and inq_last_6mths have correlation value\n",
      "0.02087229955970375\n",
      "delinq_2yrs and mths_since_last_delinq have correlation value\n",
      "-0.525531137809082\n",
      "delinq_2yrs and open_acc have correlation value\n",
      "0.014247130709570092\n",
      "delinq_2yrs and pub_rec have correlation value\n",
      "0.010304579573810086\n",
      "delinq_2yrs and total_acc have correlation value\n",
      "0.06852897247541688\n",
      "delinq_2yrs and total_pymnt have correlation value\n",
      "-0.023720994895679776\n",
      "delinq_2yrs and total_pymnt_inv have correlation value\n",
      "-0.033632102600320214\n",
      "delinq_2yrs and total_rec_prncp have correlation value\n",
      "-0.03899172169612943\n",
      "delinq_2yrs and total_rec_int have correlation value\n",
      "0.02013044398468061\n",
      "delinq_2yrs and total_rec_late_fee have correlation value\n",
      "0.03457448411859839\n",
      "delinq_2yrs and recoveries have correlation value\n",
      "0.012231819313883133\n",
      "delinq_2yrs and collection_recovery_fee have correlation value\n",
      "0.013721394037970526\n",
      "delinq_2yrs and last_pymnt_amnt have correlation value\n",
      "-0.013936979073943232\n",
      "delinq_2yrs and collections_12_mths_ex_med have correlation value\n"
     ]
    },
    {
     "name": "stdout",
     "output_type": "stream",
     "text": [
      "nan\n",
      "delinq_2yrs and acc_now_delinq have correlation value\n",
      "0.07284507270158894\n",
      "delinq_2yrs and chargeoff_within_12_mths have correlation value\n",
      "nan\n",
      "delinq_2yrs and delinq_amnt have correlation value\n",
      "0.12165062174442488\n",
      "delinq_2yrs and pub_rec_bankruptcies have correlation value\n",
      "0.004708236755420678\n",
      "delinq_2yrs and tax_liens have correlation value\n",
      "-0.0014519599796625736\n",
      "inq_last_6mths and funded_amnt_inv have correlation value\n",
      "-0.07491293936395405\n",
      "inq_last_6mths and installment have correlation value\n",
      "-0.010882479551144304\n",
      "inq_last_6mths and annual_inc have correlation value\n",
      "0.02776436210879991\n",
      "inq_last_6mths and dti have correlation value\n",
      "0.014241245835432896\n",
      "inq_last_6mths and delinq_2yrs have correlation value\n",
      "0.020872299559707028\n",
      "inq_last_6mths and inq_last_6mths have correlation value\n",
      "1.0\n",
      "inq_last_6mths and mths_since_last_delinq have correlation value\n",
      "-0.04655458009350681\n",
      "inq_last_6mths and open_acc have correlation value\n",
      "0.0950423274950654\n",
      "inq_last_6mths and pub_rec have correlation value\n",
      "0.05953316493551349\n",
      "inq_last_6mths and total_acc have correlation value\n",
      "0.09239590032234911\n",
      "inq_last_6mths and total_pymnt have correlation value\n",
      "-0.05570980159615855\n",
      "inq_last_6mths and total_pymnt_inv have correlation value\n",
      "-0.08532094004022066\n",
      "inq_last_6mths and total_rec_prncp have correlation value\n",
      "-0.07044394901849575\n",
      "inq_last_6mths and total_rec_int have correlation value\n",
      "-0.012826147236646003\n",
      "inq_last_6mths and total_rec_late_fee have correlation value\n",
      "0.061024064307960424\n",
      "inq_last_6mths and recoveries have correlation value\n",
      "0.03606261308329225\n",
      "inq_last_6mths and collection_recovery_fee have correlation value\n",
      "0.035746781256445474\n",
      "inq_last_6mths and last_pymnt_amnt have correlation value\n",
      "-0.007532315651315965\n",
      "inq_last_6mths and collections_12_mths_ex_med have correlation value\n",
      "nan\n",
      "inq_last_6mths and acc_now_delinq have correlation value\n",
      "0.0026584994528207773\n",
      "inq_last_6mths and chargeoff_within_12_mths have correlation value\n",
      "nan\n",
      "inq_last_6mths and delinq_amnt have correlation value\n",
      "0.015603632571971487\n",
      "inq_last_6mths and pub_rec_bankruptcies have correlation value\n",
      "0.04731129800935878\n",
      "inq_last_6mths and tax_liens have correlation value\n",
      "0.022088416786865895\n",
      "mths_since_last_delinq and funded_amnt_inv have correlation value\n",
      "0.10470716674132684\n",
      "mths_since_last_delinq and installment have correlation value\n",
      "0.003995539345622317\n",
      "mths_since_last_delinq and annual_inc have correlation value\n",
      "-0.0007512253269367648\n",
      "mths_since_last_delinq and dti have correlation value\n",
      "0.06696025395699881\n",
      "mths_since_last_delinq and delinq_2yrs have correlation value\n",
      "-0.5255311378090982\n",
      "mths_since_last_delinq and inq_last_6mths have correlation value\n",
      "-0.046554580093505944\n",
      "mths_since_last_delinq and mths_since_last_delinq have correlation value\n",
      "0.9999999999999984\n",
      "mths_since_last_delinq and open_acc have correlation value\n",
      "0.036091279657390445\n",
      "mths_since_last_delinq and pub_rec have correlation value\n",
      "0.05742795603728956\n",
      "mths_since_last_delinq and total_acc have correlation value\n",
      "0.0372272875306663\n",
      "mths_since_last_delinq and total_pymnt have correlation value\n",
      "0.02770626014519423\n",
      "mths_since_last_delinq and total_pymnt_inv have correlation value\n",
      "0.08974508832338611\n",
      "mths_since_last_delinq and total_rec_prncp have correlation value\n",
      "0.030625118600103925\n",
      "mths_since_last_delinq and total_rec_int have correlation value\n",
      "0.016428889882843547\n",
      "mths_since_last_delinq and total_rec_late_fee have correlation value\n",
      "-0.034575603669122906\n",
      "mths_since_last_delinq and recoveries have correlation value\n",
      "-0.006913990632450577\n",
      "mths_since_last_delinq and collection_recovery_fee have correlation value\n",
      "-0.013068958194120824\n",
      "mths_since_last_delinq and last_pymnt_amnt have correlation value\n",
      "0.019998446793666403\n",
      "mths_since_last_delinq and collections_12_mths_ex_med have correlation value\n",
      "nan\n",
      "mths_since_last_delinq and acc_now_delinq have correlation value\n",
      "-0.02429465786592485\n",
      "mths_since_last_delinq and chargeoff_within_12_mths have correlation value\n",
      "nan\n",
      "mths_since_last_delinq and delinq_amnt have correlation value\n",
      "-0.012198630057463652\n",
      "mths_since_last_delinq and pub_rec_bankruptcies have correlation value\n",
      "0.018825552862046974\n",
      "mths_since_last_delinq and tax_liens have correlation value\n",
      "-0.012603864310028646\n",
      "open_acc and funded_amnt_inv have correlation value\n",
      "0.15636121272406864\n",
      "open_acc and installment have correlation value\n",
      "0.17534893365468476\n",
      "open_acc and annual_inc have correlation value\n",
      "0.16812902118521894\n",
      "open_acc and dti have correlation value\n",
      "0.29795090370947125\n",
      "open_acc and delinq_2yrs have correlation value\n",
      "0.014247130709572446\n",
      "open_acc and inq_last_6mths have correlation value\n",
      "0.09504232749506619\n",
      "open_acc and mths_since_last_delinq have correlation value\n",
      "0.03609127965739059\n",
      "open_acc and open_acc have correlation value\n",
      "1.0\n",
      "open_acc and pub_rec have correlation value\n",
      "0.00512682869332511\n",
      "open_acc and total_acc have correlation value\n",
      "0.6931607138960556\n",
      "open_acc and total_pymnt have correlation value\n",
      "0.15932368725721693\n",
      "open_acc and total_pymnt_inv have correlation value\n",
      "0.1454608636399715\n",
      "open_acc and total_rec_prncp have correlation value\n",
      "0.15704669201662927\n",
      "open_acc and total_rec_int have correlation value\n",
      "0.12428148434530115\n",
      "open_acc and total_rec_late_fee have correlation value\n",
      "-0.013483893635546907\n",
      "open_acc and recoveries have correlation value\n",
      "0.016149818530760425\n",
      "open_acc and collection_recovery_fee have correlation value\n",
      "0.005685445087108109\n",
      "open_acc and last_pymnt_amnt have correlation value\n",
      "0.07455171262010671\n",
      "open_acc and collections_12_mths_ex_med have correlation value\n",
      "nan\n",
      "open_acc and acc_now_delinq have correlation value\n",
      "-0.0045179796480671955\n",
      "open_acc and chargeoff_within_12_mths have correlation value\n",
      "nan\n",
      "open_acc and delinq_amnt have correlation value\n",
      "-0.002496551298006148\n",
      "open_acc and pub_rec_bankruptcies have correlation value\n",
      "0.009678458509465115\n",
      "open_acc and tax_liens have correlation value\n",
      "-0.002532753946950714\n",
      "pub_rec and funded_amnt_inv have correlation value\n",
      "-0.05574213939509982\n",
      "pub_rec and installment have correlation value\n",
      "-0.04585037201393129\n",
      "pub_rec and annual_inc have correlation value\n",
      "-0.016348244108023612\n",
      "pub_rec and dti have correlation value\n",
      "-0.002854407559293617\n",
      "pub_rec and delinq_2yrs have correlation value\n",
      "0.010304579573809824\n",
      "pub_rec and inq_last_6mths have correlation value\n",
      "0.05953316493550264\n",
      "pub_rec and mths_since_last_delinq have correlation value\n",
      "0.05742795603728963\n",
      "pub_rec and open_acc have correlation value\n",
      "0.005126828693324132\n",
      "pub_rec and pub_rec have correlation value\n",
      "0.9999999999998213\n",
      "pub_rec and total_acc have correlation value\n",
      "-0.014433373598128869\n",
      "pub_rec and total_pymnt have correlation value\n",
      "-0.054450026088664595\n",
      "pub_rec and total_pymnt_inv have correlation value\n",
      "-0.056245456718488344\n",
      "pub_rec and total_rec_prncp have correlation value\n",
      "-0.06627934176496471\n",
      "pub_rec and total_rec_int have correlation value\n",
      "-0.008746280221728625\n",
      "pub_rec and total_rec_late_fee have correlation value\n",
      "-0.00015083153413854417\n",
      "pub_rec and recoveries have correlation value\n",
      "-0.0022282945386264312\n",
      "pub_rec and collection_recovery_fee have correlation value\n",
      "-0.0008583900605138577\n",
      "pub_rec and last_pymnt_amnt have correlation value\n",
      "-0.033085048999618005\n",
      "pub_rec and collections_12_mths_ex_med have correlation value\n",
      "nan\n",
      "pub_rec and acc_now_delinq have correlation value\n",
      "-0.002296150056532468\n",
      "pub_rec and chargeoff_within_12_mths have correlation value\n",
      "nan\n",
      "pub_rec and delinq_amnt have correlation value\n",
      "-0.0011531440815827664\n",
      "pub_rec and pub_rec_bankruptcies have correlation value\n",
      "0.8414536012625855\n",
      "pub_rec and tax_liens have correlation value\n",
      "0.01860963102354964\n",
      "total_acc and funded_amnt_inv have correlation value\n",
      "0.2408577717596036\n",
      "total_acc and installment have correlation value\n",
      "0.23390539884187558\n",
      "total_acc and annual_inc have correlation value\n",
      "0.2461626656368078\n",
      "total_acc and dti have correlation value\n",
      "0.2413061313552665\n",
      "total_acc and delinq_2yrs have correlation value\n",
      "0.0685289724754277\n",
      "total_acc and inq_last_6mths have correlation value\n",
      "0.09239590032234916\n",
      "total_acc and mths_since_last_delinq have correlation value\n",
      "0.03722728753066642\n",
      "total_acc and open_acc have correlation value\n",
      "0.6931607138960505\n",
      "total_acc and pub_rec have correlation value\n",
      "-0.014433373598131512\n",
      "total_acc and total_acc have correlation value\n"
     ]
    },
    {
     "name": "stdout",
     "output_type": "stream",
     "text": [
      "1.0\n",
      "total_acc and total_pymnt have correlation value\n",
      "0.22372108359369083\n",
      "total_acc and total_pymnt_inv have correlation value\n",
      "0.21620616140256013\n",
      "total_acc and total_rec_prncp have correlation value\n",
      "0.2292233595744811\n",
      "total_acc and total_rec_int have correlation value\n",
      "0.15028495998127567\n",
      "total_acc and total_rec_late_fee have correlation value\n",
      "-0.02226476740457329\n",
      "total_acc and recoveries have correlation value\n",
      "0.02383467206199596\n",
      "total_acc and collection_recovery_fee have correlation value\n",
      "0.011135703919504787\n",
      "total_acc and last_pymnt_amnt have correlation value\n",
      "0.15972100712868417\n",
      "total_acc and collections_12_mths_ex_med have correlation value\n",
      "nan\n",
      "total_acc and acc_now_delinq have correlation value\n",
      "-0.006589606082592947\n",
      "total_acc and chargeoff_within_12_mths have correlation value\n",
      "nan\n",
      "total_acc and delinq_amnt have correlation value\n",
      "-0.00047441667985058877\n",
      "total_acc and pub_rec_bankruptcies have correlation value\n",
      "-0.003934094556841592\n",
      "total_acc and tax_liens have correlation value\n",
      "-0.006340515957079547\n",
      "total_pymnt and funded_amnt_inv have correlation value\n",
      "0.8734095074241539\n",
      "total_pymnt and installment have correlation value\n",
      "0.8486097134056322\n",
      "total_pymnt and annual_inc have correlation value\n",
      "0.2582063165175159\n",
      "total_pymnt and dti have correlation value\n",
      "0.06390115517440241\n",
      "total_pymnt and delinq_2yrs have correlation value\n",
      "-0.023720994895683432\n",
      "total_pymnt and inq_last_6mths have correlation value\n",
      "-0.0557098015961584\n",
      "total_pymnt and mths_since_last_delinq have correlation value\n",
      "0.027706260145194297\n",
      "total_pymnt and open_acc have correlation value\n",
      "0.15932368725721519\n",
      "total_pymnt and pub_rec have correlation value\n",
      "-0.054450026088674365\n",
      "total_pymnt and total_acc have correlation value\n",
      "0.22372108359369003\n",
      "total_pymnt and total_pymnt have correlation value\n",
      "0.9999999999999982\n",
      "total_pymnt and total_pymnt_inv have correlation value\n",
      "0.9650694908391767\n",
      "total_pymnt and total_rec_prncp have correlation value\n",
      "0.9724430899178728\n",
      "total_pymnt and total_rec_int have correlation value\n",
      "0.8366637202605699\n",
      "total_pymnt and total_rec_late_fee have correlation value\n",
      "0.01707219742727584\n",
      "total_pymnt and recoveries have correlation value\n",
      "0.029781165899433804\n",
      "total_pymnt and collection_recovery_fee have correlation value\n",
      "0.028689512808291216\n",
      "total_pymnt and last_pymnt_amnt have correlation value\n",
      "0.46701576637007386\n",
      "total_pymnt and collections_12_mths_ex_med have correlation value\n",
      "nan\n",
      "total_pymnt and acc_now_delinq have correlation value\n",
      "-0.0038416674775892472\n",
      "total_pymnt and chargeoff_within_12_mths have correlation value\n",
      "nan\n",
      "total_pymnt and delinq_amnt have correlation value\n",
      "-0.0031066447745770015\n",
      "total_pymnt and pub_rec_bankruptcies have correlation value\n",
      "-0.04536726047545844\n",
      "total_pymnt and tax_liens have correlation value\n",
      "-0.005120153201802125\n",
      "total_pymnt_inv and funded_amnt_inv have correlation value\n",
      "0.913019572673545\n",
      "total_pymnt_inv and installment have correlation value\n",
      "0.7996523015891605\n",
      "total_pymnt_inv and annual_inc have correlation value\n",
      "0.2432446769096094\n",
      "total_pymnt_inv and dti have correlation value\n",
      "0.06895583671735467\n",
      "total_pymnt_inv and delinq_2yrs have correlation value\n",
      "-0.03363210260032567\n",
      "total_pymnt_inv and inq_last_6mths have correlation value\n",
      "-0.08532094004022109\n",
      "total_pymnt_inv and mths_since_last_delinq have correlation value\n",
      "0.08974508832338657\n",
      "total_pymnt_inv and open_acc have correlation value\n",
      "0.14546086363997104\n",
      "total_pymnt_inv and pub_rec have correlation value\n",
      "-0.05624545671849889\n",
      "total_pymnt_inv and total_acc have correlation value\n",
      "0.21620616140256105\n",
      "total_pymnt_inv and total_pymnt have correlation value\n",
      "0.9650694908391768\n",
      "total_pymnt_inv and total_pymnt_inv have correlation value\n",
      "0.9999999999999983\n",
      "total_pymnt_inv and total_rec_prncp have correlation value\n",
      "0.9351678760721336\n",
      "total_pymnt_inv and total_rec_int have correlation value\n",
      "0.8193815636775199\n",
      "total_pymnt_inv and total_rec_late_fee have correlation value\n",
      "-0.0017471141606314475\n",
      "total_pymnt_inv and recoveries have correlation value\n",
      "0.018928195625267413\n",
      "total_pymnt_inv and collection_recovery_fee have correlation value\n",
      "0.014965407430320593\n",
      "total_pymnt_inv and last_pymnt_amnt have correlation value\n",
      "0.4534471660446589\n",
      "total_pymnt_inv and collections_12_mths_ex_med have correlation value\n",
      "nan\n",
      "total_pymnt_inv and acc_now_delinq have correlation value\n",
      "-0.010976977429766768\n",
      "total_pymnt_inv and chargeoff_within_12_mths have correlation value\n",
      "nan\n",
      "total_pymnt_inv and delinq_amnt have correlation value\n",
      "-0.005390268921490896\n",
      "total_pymnt_inv and pub_rec_bankruptcies have correlation value\n",
      "-0.05033066126720834\n",
      "total_pymnt_inv and tax_liens have correlation value\n",
      "-0.0054360974853268\n",
      "total_rec_prncp and funded_amnt_inv have correlation value\n",
      "0.8415470569024155\n",
      "total_rec_prncp and installment have correlation value\n",
      "0.8433586154499926\n",
      "total_rec_prncp and annual_inc have correlation value\n",
      "0.2595159266134652\n",
      "total_rec_prncp and dti have correlation value\n",
      "0.04143154328789067\n",
      "total_rec_prncp and delinq_2yrs have correlation value\n",
      "-0.03899172169613487\n",
      "total_rec_prncp and inq_last_6mths have correlation value\n",
      "-0.07044394901849453\n",
      "total_rec_prncp and mths_since_last_delinq have correlation value\n",
      "0.030625118600104133\n",
      "total_rec_prncp and open_acc have correlation value\n",
      "0.15704669201662524\n",
      "total_rec_prncp and pub_rec have correlation value\n",
      "-0.06627934176497564\n",
      "total_rec_prncp and total_acc have correlation value\n",
      "0.22922335957447693\n",
      "total_rec_prncp and total_pymnt have correlation value\n",
      "0.9724430899179041\n",
      "total_rec_prncp and total_pymnt_inv have correlation value\n",
      "0.9351678760721636\n",
      "total_rec_prncp and total_rec_prncp have correlation value\n",
      "1.0\n",
      "total_rec_prncp and total_rec_int have correlation value\n",
      "0.6991298106147684\n",
      "total_rec_prncp and total_rec_late_fee have correlation value\n",
      "-0.016078833336300332\n",
      "total_rec_prncp and recoveries have correlation value\n",
      "-0.09324851476776731\n",
      "total_rec_prncp and collection_recovery_fee have correlation value\n",
      "-0.061119512223445\n",
      "total_rec_prncp and last_pymnt_amnt have correlation value\n",
      "0.5351746063667004\n",
      "total_rec_prncp and collections_12_mths_ex_med have correlation value\n",
      "nan\n",
      "total_rec_prncp and acc_now_delinq have correlation value\n",
      "-0.00409363074728224\n",
      "total_rec_prncp and chargeoff_within_12_mths have correlation value\n",
      "nan\n",
      "total_rec_prncp and delinq_amnt have correlation value\n",
      "-0.003174362916841027\n",
      "total_rec_prncp and pub_rec_bankruptcies have correlation value\n",
      "-0.05596008288110991\n",
      "total_rec_prncp and tax_liens have correlation value\n",
      "-0.005250876273380108\n",
      "total_rec_int and funded_amnt_inv have correlation value\n",
      "0.7265518460238046\n",
      "total_rec_int and installment have correlation value\n",
      "0.6336153498200624\n",
      "total_rec_int and annual_inc have correlation value\n",
      "0.1878311191396267\n",
      "total_rec_int and dti have correlation value\n",
      "0.10454669464190727\n",
      "total_rec_int and delinq_2yrs have correlation value\n",
      "0.020130443984683763\n",
      "total_rec_int and inq_last_6mths have correlation value\n",
      "-0.012826147236645996\n",
      "total_rec_int and mths_since_last_delinq have correlation value\n",
      "0.01642888988284356\n",
      "total_rec_int and open_acc have correlation value\n",
      "0.12428148434530005\n",
      "total_rec_int and pub_rec have correlation value\n",
      "-0.008746280221730216\n",
      "total_rec_int and total_acc have correlation value\n",
      "0.15028495998127547\n",
      "total_rec_int and total_pymnt have correlation value\n",
      "0.836663720260569\n",
      "total_rec_int and total_pymnt_inv have correlation value\n",
      "0.8193815636775189\n",
      "total_rec_int and total_rec_prncp have correlation value\n",
      "0.6991298106147452\n",
      "total_rec_int and total_rec_int have correlation value\n",
      "0.9999999999999972\n",
      "total_rec_int and total_rec_late_fee have correlation value\n",
      "0.07393436837145559\n",
      "total_rec_int and recoveries have correlation value\n",
      "0.07579251885075398\n",
      "total_rec_int and collection_recovery_fee have correlation value\n",
      "0.034834077749942856\n",
      "total_rec_int and last_pymnt_amnt have correlation value\n",
      "0.1920515759002863\n",
      "total_rec_int and collections_12_mths_ex_med have correlation value\n",
      "nan\n",
      "total_rec_int and acc_now_delinq have correlation value\n",
      "-0.0018706182035450726\n",
      "total_rec_int and chargeoff_within_12_mths have correlation value\n",
      "nan\n",
      "total_rec_int and delinq_amnt have correlation value\n",
      "-0.002006944822834341\n",
      "total_rec_int and pub_rec_bankruptcies have correlation value\n",
      "-0.005104832114797939\n",
      "total_rec_int and tax_liens have correlation value\n"
     ]
    },
    {
     "name": "stdout",
     "output_type": "stream",
     "text": [
      "-0.0033829046863235205\n",
      "total_rec_late_fee and funded_amnt_inv have correlation value\n",
      "0.020079288695276858\n",
      "total_rec_late_fee and installment have correlation value\n",
      "0.05724413999972037\n",
      "total_rec_late_fee and annual_inc have correlation value\n",
      "0.009742834411867119\n",
      "total_rec_late_fee and dti have correlation value\n",
      "-0.010959349065037552\n",
      "total_rec_late_fee and delinq_2yrs have correlation value\n",
      "0.03457448411860129\n",
      "total_rec_late_fee and inq_last_6mths have correlation value\n",
      "0.061024064307955955\n",
      "total_rec_late_fee and mths_since_last_delinq have correlation value\n",
      "-0.03457560366912297\n",
      "total_rec_late_fee and open_acc have correlation value\n",
      "-0.01348389363554581\n",
      "total_rec_late_fee and pub_rec have correlation value\n",
      "-0.00015083153413856062\n",
      "total_rec_late_fee and total_acc have correlation value\n",
      "-0.022264767404571638\n",
      "total_rec_late_fee and total_pymnt have correlation value\n",
      "0.017072197427275587\n",
      "total_rec_late_fee and total_pymnt_inv have correlation value\n",
      "-0.001747114160631421\n",
      "total_rec_late_fee and total_rec_prncp have correlation value\n",
      "-0.016078833336299572\n",
      "total_rec_late_fee and total_rec_int have correlation value\n",
      "0.07393436837145456\n",
      "total_rec_late_fee and total_rec_late_fee have correlation value\n",
      "0.9999999999999833\n",
      "total_rec_late_fee and recoveries have correlation value\n",
      "0.09577701546565737\n",
      "total_rec_late_fee and collection_recovery_fee have correlation value\n",
      "0.0908567580920893\n",
      "total_rec_late_fee and last_pymnt_amnt have correlation value\n",
      "-0.06389024047293376\n",
      "total_rec_late_fee and collections_12_mths_ex_med have correlation value\n",
      "nan\n",
      "total_rec_late_fee and acc_now_delinq have correlation value\n",
      "-0.0018801960058716552\n",
      "total_rec_late_fee and chargeoff_within_12_mths have correlation value\n",
      "nan\n",
      "total_rec_late_fee and delinq_amnt have correlation value\n",
      "-0.0009442487829652716\n",
      "total_rec_late_fee and pub_rec_bankruptcies have correlation value\n",
      "-0.006021357278871287\n",
      "total_rec_late_fee and tax_liens have correlation value\n",
      "-0.0009403114397390372\n",
      "recoveries and funded_amnt_inv have correlation value\n",
      "0.11585400909291395\n",
      "recoveries and installment have correlation value\n",
      "0.11793418175838495\n",
      "recoveries and annual_inc have correlation value\n",
      "0.02531687455005118\n",
      "recoveries and dti have correlation value\n",
      "0.022523796561526553\n",
      "recoveries and delinq_2yrs have correlation value\n",
      "0.012231819313886443\n",
      "recoveries and inq_last_6mths have correlation value\n",
      "0.03606261308329634\n",
      "recoveries and mths_since_last_delinq have correlation value\n",
      "-0.006913990632450541\n",
      "recoveries and open_acc have correlation value\n",
      "0.016149818530762125\n",
      "recoveries and pub_rec have correlation value\n",
      "-0.0022282945386270904\n",
      "recoveries and total_acc have correlation value\n",
      "0.023834672061998647\n",
      "recoveries and total_pymnt have correlation value\n",
      "0.029781165899438477\n",
      "recoveries and total_pymnt_inv have correlation value\n",
      "0.018928195625270375\n",
      "recoveries and total_rec_prncp have correlation value\n",
      "-0.09324851476777891\n",
      "recoveries and total_rec_int have correlation value\n",
      "0.07579251885076596\n",
      "recoveries and total_rec_late_fee have correlation value\n",
      "0.09577701546567381\n",
      "recoveries and recoveries have correlation value\n",
      "1.0\n",
      "recoveries and collection_recovery_fee have correlation value\n",
      "0.8204198417387336\n",
      "recoveries and last_pymnt_amnt have correlation value\n",
      "-0.0696938129553571\n",
      "recoveries and collections_12_mths_ex_med have correlation value\n",
      "nan\n",
      "recoveries and acc_now_delinq have correlation value\n",
      "-0.0013582169222884255\n",
      "recoveries and chargeoff_within_12_mths have correlation value\n",
      "nan\n",
      "recoveries and delinq_amnt have correlation value\n",
      "-0.0006821069036784225\n",
      "recoveries and pub_rec_bankruptcies have correlation value\n",
      "-0.0030251807592440996\n",
      "recoveries and tax_liens have correlation value\n",
      "-0.0006798816501918357\n",
      "collection_recovery_fee and funded_amnt_inv have correlation value\n",
      "0.05596372434789315\n",
      "collection_recovery_fee and installment have correlation value\n",
      "0.07637048548717505\n",
      "collection_recovery_fee and annual_inc have correlation value\n",
      "0.017212326383347923\n",
      "collection_recovery_fee and dti have correlation value\n",
      "0.00854145851134603\n",
      "collection_recovery_fee and delinq_2yrs have correlation value\n",
      "0.013721394037973577\n",
      "collection_recovery_fee and inq_last_6mths have correlation value\n",
      "0.035746781256447806\n",
      "collection_recovery_fee and mths_since_last_delinq have correlation value\n",
      "-0.013068958194120692\n",
      "collection_recovery_fee and open_acc have correlation value\n",
      "0.005685445087108433\n",
      "collection_recovery_fee and pub_rec have correlation value\n",
      "-0.0008583900605140703\n",
      "collection_recovery_fee and total_acc have correlation value\n",
      "0.011135703919505505\n",
      "collection_recovery_fee and total_pymnt have correlation value\n",
      "0.02868951280829266\n",
      "collection_recovery_fee and total_pymnt_inv have correlation value\n",
      "0.014965407430321345\n",
      "collection_recovery_fee and total_rec_prncp have correlation value\n",
      "-0.061119512223446096\n",
      "collection_recovery_fee and total_rec_int have correlation value\n",
      "0.034834077749944646\n",
      "collection_recovery_fee and total_rec_late_fee have correlation value\n",
      "0.09085675809209524\n",
      "collection_recovery_fee and recoveries have correlation value\n",
      "0.8204198417386462\n",
      "collection_recovery_fee and collection_recovery_fee have correlation value\n",
      "1.0\n",
      "collection_recovery_fee and last_pymnt_amnt have correlation value\n",
      "-0.04395435380980629\n",
      "collection_recovery_fee and collections_12_mths_ex_med have correlation value\n",
      "nan\n",
      "collection_recovery_fee and acc_now_delinq have correlation value\n",
      "-0.0008605004020453969\n",
      "collection_recovery_fee and chargeoff_within_12_mths have correlation value\n",
      "nan\n",
      "collection_recovery_fee and delinq_amnt have correlation value\n",
      "-0.00043214986886208834\n",
      "collection_recovery_fee and pub_rec_bankruptcies have correlation value\n",
      "-0.0031196685543281376\n",
      "collection_recovery_fee and tax_liens have correlation value\n",
      "-0.00043071529999168213\n",
      "last_pymnt_amnt and funded_amnt_inv have correlation value\n",
      "0.4415075523738684\n",
      "last_pymnt_amnt and installment have correlation value\n",
      "0.40016159077473795\n",
      "last_pymnt_amnt and annual_inc have correlation value\n",
      "0.139387082121668\n",
      "last_pymnt_amnt and dti have correlation value\n",
      "0.0037432158756684976\n",
      "last_pymnt_amnt and delinq_2yrs have correlation value\n",
      "-0.01393697907394542\n",
      "last_pymnt_amnt and inq_last_6mths have correlation value\n",
      "-0.007532315651315965\n",
      "last_pymnt_amnt and mths_since_last_delinq have correlation value\n",
      "0.019998446793666455\n",
      "last_pymnt_amnt and open_acc have correlation value\n",
      "0.07455171262010608\n",
      "last_pymnt_amnt and pub_rec have correlation value\n",
      "-0.033085048999624035\n",
      "last_pymnt_amnt and total_acc have correlation value\n",
      "0.15972100712868403\n",
      "last_pymnt_amnt and total_pymnt have correlation value\n",
      "0.46701576637007586\n",
      "last_pymnt_amnt and total_pymnt_inv have correlation value\n",
      "0.45344716604466084\n",
      "last_pymnt_amnt and total_rec_prncp have correlation value\n",
      "0.5351746063666856\n",
      "last_pymnt_amnt and total_rec_int have correlation value\n",
      "0.19205157590028732\n",
      "last_pymnt_amnt and total_rec_late_fee have correlation value\n",
      "-0.06389024047293498\n",
      "last_pymnt_amnt and recoveries have correlation value\n",
      "-0.06969381295534648\n",
      "last_pymnt_amnt and collection_recovery_fee have correlation value\n",
      "-0.04395435380980427\n",
      "last_pymnt_amnt and last_pymnt_amnt have correlation value\n",
      "1.0\n",
      "last_pymnt_amnt and collections_12_mths_ex_med have correlation value\n",
      "nan\n",
      "last_pymnt_amnt and acc_now_delinq have correlation value\n",
      "-0.005276266737721031\n",
      "last_pymnt_amnt and chargeoff_within_12_mths have correlation value\n",
      "nan\n",
      "last_pymnt_amnt and delinq_amnt have correlation value\n",
      "-0.002896610537540562\n",
      "last_pymnt_amnt and pub_rec_bankruptcies have correlation value\n",
      "-0.023336794013877123\n",
      "last_pymnt_amnt and tax_liens have correlation value\n",
      "-0.002819277875981813\n",
      "collections_12_mths_ex_med and funded_amnt_inv have correlation value\n",
      "nan\n",
      "collections_12_mths_ex_med and installment have correlation value\n",
      "nan\n",
      "collections_12_mths_ex_med and annual_inc have correlation value\n",
      "nan\n",
      "collections_12_mths_ex_med and dti have correlation value\n",
      "nan\n",
      "collections_12_mths_ex_med and delinq_2yrs have correlation value\n",
      "nan\n",
      "collections_12_mths_ex_med and inq_last_6mths have correlation value\n",
      "nan\n",
      "collections_12_mths_ex_med and mths_since_last_delinq have correlation value\n",
      "nan\n",
      "collections_12_mths_ex_med and open_acc have correlation value\n",
      "nan\n",
      "collections_12_mths_ex_med and pub_rec have correlation value\n"
     ]
    },
    {
     "name": "stdout",
     "output_type": "stream",
     "text": [
      "nan\n",
      "collections_12_mths_ex_med and total_acc have correlation value\n",
      "nan\n",
      "collections_12_mths_ex_med and total_pymnt have correlation value\n",
      "nan\n",
      "collections_12_mths_ex_med and total_pymnt_inv have correlation value\n",
      "nan\n",
      "collections_12_mths_ex_med and total_rec_prncp have correlation value\n",
      "nan\n",
      "collections_12_mths_ex_med and total_rec_int have correlation value\n",
      "nan\n",
      "collections_12_mths_ex_med and total_rec_late_fee have correlation value\n",
      "nan\n",
      "collections_12_mths_ex_med and recoveries have correlation value\n",
      "nan\n",
      "collections_12_mths_ex_med and collection_recovery_fee have correlation value\n",
      "nan\n",
      "collections_12_mths_ex_med and last_pymnt_amnt have correlation value\n",
      "nan\n",
      "collections_12_mths_ex_med and collections_12_mths_ex_med have correlation value\n",
      "nan\n",
      "collections_12_mths_ex_med and acc_now_delinq have correlation value\n",
      "nan\n",
      "collections_12_mths_ex_med and chargeoff_within_12_mths have correlation value\n",
      "nan\n",
      "collections_12_mths_ex_med and delinq_amnt have correlation value\n",
      "nan\n",
      "collections_12_mths_ex_med and pub_rec_bankruptcies have correlation value\n",
      "nan\n",
      "collections_12_mths_ex_med and tax_liens have correlation value\n",
      "nan\n",
      "acc_now_delinq and funded_amnt_inv have correlation value\n",
      "-0.012589665189935087\n",
      "acc_now_delinq and installment have correlation value\n",
      "-0.004109333828941864\n",
      "acc_now_delinq and annual_inc have correlation value\n",
      "-0.0009262735938877839\n",
      "acc_now_delinq and dti have correlation value\n",
      "-0.01313186124832291\n",
      "acc_now_delinq and delinq_2yrs have correlation value\n",
      "0.0728450727016001\n",
      "acc_now_delinq and inq_last_6mths have correlation value\n",
      "0.0026584994528207674\n",
      "acc_now_delinq and mths_since_last_delinq have correlation value\n",
      "-0.024294657865924905\n",
      "acc_now_delinq and open_acc have correlation value\n",
      "-0.004517979648067141\n",
      "acc_now_delinq and pub_rec have correlation value\n",
      "-0.0022961500565328776\n",
      "acc_now_delinq and total_acc have correlation value\n",
      "-0.006589606082592916\n",
      "acc_now_delinq and total_pymnt have correlation value\n",
      "-0.003841667477589243\n",
      "acc_now_delinq and total_pymnt_inv have correlation value\n",
      "-0.01097697742976667\n",
      "acc_now_delinq and total_rec_prncp have correlation value\n",
      "-0.004093630747282295\n",
      "acc_now_delinq and total_rec_int have correlation value\n",
      "-0.0018706182035450665\n",
      "acc_now_delinq and total_rec_late_fee have correlation value\n",
      "-0.0018801960058717857\n",
      "acc_now_delinq and recoveries have correlation value\n",
      "-0.0013582169222882661\n",
      "acc_now_delinq and collection_recovery_fee have correlation value\n",
      "-0.0008605004020453375\n",
      "acc_now_delinq and last_pymnt_amnt have correlation value\n",
      "-0.005276266737721012\n",
      "acc_now_delinq and collections_12_mths_ex_med have correlation value\n",
      "nan\n",
      "acc_now_delinq and acc_now_delinq have correlation value\n",
      "1.0\n",
      "acc_now_delinq and chargeoff_within_12_mths have correlation value\n",
      "nan\n",
      "acc_now_delinq and delinq_amnt have correlation value\n",
      "0.5022076315535758\n",
      "acc_now_delinq and pub_rec_bankruptcies have correlation value\n",
      "nan\n",
      "acc_now_delinq and tax_liens have correlation value\n",
      "-4.082329612637325e-05\n",
      "chargeoff_within_12_mths and funded_amnt_inv have correlation value\n",
      "nan\n",
      "chargeoff_within_12_mths and installment have correlation value\n",
      "nan\n",
      "chargeoff_within_12_mths and annual_inc have correlation value\n",
      "nan\n",
      "chargeoff_within_12_mths and dti have correlation value\n",
      "nan\n",
      "chargeoff_within_12_mths and delinq_2yrs have correlation value\n",
      "nan\n",
      "chargeoff_within_12_mths and inq_last_6mths have correlation value\n",
      "nan\n",
      "chargeoff_within_12_mths and mths_since_last_delinq have correlation value\n",
      "nan\n",
      "chargeoff_within_12_mths and open_acc have correlation value\n",
      "nan\n",
      "chargeoff_within_12_mths and pub_rec have correlation value\n",
      "nan\n",
      "chargeoff_within_12_mths and total_acc have correlation value\n",
      "nan\n",
      "chargeoff_within_12_mths and total_pymnt have correlation value\n",
      "nan\n",
      "chargeoff_within_12_mths and total_pymnt_inv have correlation value\n",
      "nan\n",
      "chargeoff_within_12_mths and total_rec_prncp have correlation value\n",
      "nan\n",
      "chargeoff_within_12_mths and total_rec_int have correlation value\n",
      "nan\n",
      "chargeoff_within_12_mths and total_rec_late_fee have correlation value\n",
      "nan\n",
      "chargeoff_within_12_mths and recoveries have correlation value\n",
      "nan\n",
      "chargeoff_within_12_mths and collection_recovery_fee have correlation value\n",
      "nan\n",
      "chargeoff_within_12_mths and last_pymnt_amnt have correlation value\n",
      "nan\n",
      "chargeoff_within_12_mths and collections_12_mths_ex_med have correlation value\n",
      "nan\n",
      "chargeoff_within_12_mths and acc_now_delinq have correlation value\n",
      "nan\n",
      "chargeoff_within_12_mths and chargeoff_within_12_mths have correlation value\n",
      "nan\n",
      "chargeoff_within_12_mths and delinq_amnt have correlation value\n",
      "nan\n",
      "chargeoff_within_12_mths and pub_rec_bankruptcies have correlation value\n",
      "nan\n",
      "chargeoff_within_12_mths and tax_liens have correlation value\n",
      "nan\n",
      "delinq_amnt and funded_amnt_inv have correlation value\n",
      "-0.006200591331065641\n",
      "delinq_amnt and installment have correlation value\n",
      "-0.003494931688781496\n",
      "delinq_amnt and annual_inc have correlation value\n",
      "-0.001809260508437957\n",
      "delinq_amnt and dti have correlation value\n",
      "-0.009262248116426753\n",
      "delinq_amnt and delinq_2yrs have correlation value\n",
      "0.12165062174444351\n",
      "delinq_amnt and inq_last_6mths have correlation value\n",
      "0.015603632571971424\n",
      "delinq_amnt and mths_since_last_delinq have correlation value\n",
      "-0.012198630057463678\n",
      "delinq_amnt and open_acc have correlation value\n",
      "-0.0024965512980061172\n",
      "delinq_amnt and pub_rec have correlation value\n",
      "-0.001153144081582972\n",
      "delinq_amnt and total_acc have correlation value\n",
      "-0.0004744166798505865\n",
      "delinq_amnt and total_pymnt have correlation value\n",
      "-0.003106644774576998\n",
      "delinq_amnt and total_pymnt_inv have correlation value\n",
      "-0.005390268921490847\n",
      "delinq_amnt and total_rec_prncp have correlation value\n",
      "-0.0031743629168410697\n",
      "delinq_amnt and total_rec_int have correlation value\n",
      "-0.0020069448228343337\n",
      "delinq_amnt and total_rec_late_fee have correlation value\n",
      "-0.0009442487829653368\n",
      "delinq_amnt and recoveries have correlation value\n",
      "-0.0006821069036783424\n",
      "delinq_amnt and collection_recovery_fee have correlation value\n",
      "-0.00043214986886205847\n",
      "delinq_amnt and last_pymnt_amnt have correlation value\n",
      "-0.0028966105375405507\n",
      "delinq_amnt and collections_12_mths_ex_med have correlation value\n",
      "nan\n",
      "delinq_amnt and acc_now_delinq have correlation value\n",
      "0.5022076315535757\n",
      "delinq_amnt and chargeoff_within_12_mths have correlation value\n",
      "nan\n",
      "delinq_amnt and delinq_amnt have correlation value\n",
      "0.9999999999999996\n",
      "delinq_amnt and pub_rec_bankruptcies have correlation value\n",
      "nan\n",
      "delinq_amnt and tax_liens have correlation value\n",
      "-2.3568785500485903e-05\n",
      "pub_rec_bankruptcies and funded_amnt_inv have correlation value\n",
      "-0.04612412888353589\n",
      "pub_rec_bankruptcies and installment have correlation value\n",
      "-0.03374556834004335\n",
      "pub_rec_bankruptcies and annual_inc have correlation value\n",
      "-0.015436933729166916\n",
      "pub_rec_bankruptcies and dti have correlation value\n",
      "0.008671056933272659\n",
      "pub_rec_bankruptcies and delinq_2yrs have correlation value\n",
      "0.004708236755420829\n",
      "pub_rec_bankruptcies and inq_last_6mths have correlation value\n",
      "0.0473112980093591\n",
      "pub_rec_bankruptcies and mths_since_last_delinq have correlation value\n",
      "0.01882555286204604\n",
      "pub_rec_bankruptcies and open_acc have correlation value\n",
      "0.00967845850946554\n",
      "pub_rec_bankruptcies and pub_rec have correlation value\n",
      "0.8414536012625479\n",
      "pub_rec_bankruptcies and total_acc have correlation value\n",
      "-0.003934094556841613\n",
      "pub_rec_bankruptcies and total_pymnt have correlation value\n",
      "-0.045367260475458256\n",
      "pub_rec_bankruptcies and total_pymnt_inv have correlation value\n",
      "-0.05033066126720825\n",
      "pub_rec_bankruptcies and total_rec_prncp have correlation value\n",
      "-0.0559600828811081\n",
      "pub_rec_bankruptcies and total_rec_int have correlation value\n",
      "-0.005104832114797938\n",
      "pub_rec_bankruptcies and total_rec_late_fee have correlation value\n",
      "-0.006021357278871855\n",
      "pub_rec_bankruptcies and recoveries have correlation value\n",
      "-0.003025180759243976\n",
      "pub_rec_bankruptcies and collection_recovery_fee have correlation value\n",
      "-0.0031196685543279637\n",
      "pub_rec_bankruptcies and last_pymnt_amnt have correlation value\n",
      "-0.023336794013877112\n",
      "pub_rec_bankruptcies and collections_12_mths_ex_med have correlation value\n",
      "nan\n",
      "pub_rec_bankruptcies and acc_now_delinq have correlation value\n",
      "nan\n",
      "pub_rec_bankruptcies and chargeoff_within_12_mths have correlation value\n",
      "nan\n",
      "pub_rec_bankruptcies and delinq_amnt have correlation value\n",
      "nan\n"
     ]
    },
    {
     "name": "stdout",
     "output_type": "stream",
     "text": [
      "pub_rec_bankruptcies and pub_rec_bankruptcies have correlation value\n",
      "0.9999999999999991\n",
      "pub_rec_bankruptcies and tax_liens have correlation value\n",
      "nan\n",
      "tax_liens and funded_amnt_inv have correlation value\n",
      "-0.006242190517593905\n",
      "tax_liens and installment have correlation value\n",
      "-0.005929489097770635\n",
      "tax_liens and annual_inc have correlation value\n",
      "-0.0018276309100429564\n",
      "tax_liens and dti have correlation value\n",
      "-0.0033464092257001906\n",
      "tax_liens and delinq_2yrs have correlation value\n",
      "-0.0014519599796627885\n",
      "tax_liens and inq_last_6mths have correlation value\n",
      "0.022088416786865923\n",
      "tax_liens and mths_since_last_delinq have correlation value\n",
      "-0.01260386431002884\n",
      "tax_liens and open_acc have correlation value\n",
      "-0.002532753946950848\n",
      "tax_liens and pub_rec have correlation value\n",
      "0.01860963102355094\n",
      "tax_liens and total_acc have correlation value\n",
      "-0.006340515957079534\n",
      "tax_liens and total_pymnt have correlation value\n",
      "-0.005120153201802136\n",
      "tax_liens and total_pymnt_inv have correlation value\n",
      "-0.005436097485326797\n",
      "tax_liens and total_rec_prncp have correlation value\n",
      "-0.005250876273380034\n",
      "tax_liens and total_rec_int have correlation value\n",
      "-0.003382904686323535\n",
      "tax_liens and total_rec_late_fee have correlation value\n",
      "-0.0009403114397389812\n",
      "tax_liens and recoveries have correlation value\n",
      "-0.0006798816501918347\n",
      "tax_liens and collection_recovery_fee have correlation value\n",
      "-0.00043071529999168576\n",
      "tax_liens and last_pymnt_amnt have correlation value\n",
      "-0.002819277875981819\n",
      "tax_liens and collections_12_mths_ex_med have correlation value\n",
      "nan\n",
      "tax_liens and acc_now_delinq have correlation value\n",
      "-4.0823296126373265e-05\n",
      "tax_liens and chargeoff_within_12_mths have correlation value\n",
      "nan\n",
      "tax_liens and delinq_amnt have correlation value\n",
      "-2.35687855004859e-05\n",
      "tax_liens and pub_rec_bankruptcies have correlation value\n",
      "nan\n",
      "tax_liens and tax_liens have correlation value\n",
      "1.0\n"
     ]
    }
   ],
   "source": [
    "x=[]\n",
    "y=[]\n",
    "z=[]\n",
    "\n",
    "for i in numeric:\n",
    "    \n",
    "    \n",
    "    for j in numeric:\n",
    "        \n",
    "        if data[i].dtype=='float64' or data[j].dtype=='float64':\n",
    "            \n",
    "            print(i, 'and', j ,'have correlation value')\n",
    "            print((data[pd.notna(data[i])][i]).corr(data[pd.notna(data[j])][j]))\n",
    "            x.append(i)\n",
    "            y.append(j)\n",
    "            z.append((data[pd.notna(data[i])][i]).corr(data[pd.notna(data[j])][j]))\n",
    "            corr=pd.DataFrame([x,y,z],index=('var1','var2','correlation'))"
   ]
  },
  {
   "cell_type": "code",
   "execution_count": 19,
   "metadata": {},
   "outputs": [
    {
     "data": {
      "text/html": [
       "<div>\n",
       "<style scoped>\n",
       "    .dataframe tbody tr th:only-of-type {\n",
       "        vertical-align: middle;\n",
       "    }\n",
       "\n",
       "    .dataframe tbody tr th {\n",
       "        vertical-align: top;\n",
       "    }\n",
       "\n",
       "    .dataframe thead th {\n",
       "        text-align: right;\n",
       "    }\n",
       "</style>\n",
       "<table border=\"1\" class=\"dataframe\">\n",
       "  <thead>\n",
       "    <tr style=\"text-align: right;\">\n",
       "      <th></th>\n",
       "      <th>var1</th>\n",
       "      <th>var2</th>\n",
       "      <th>correlation</th>\n",
       "    </tr>\n",
       "  </thead>\n",
       "  <tbody>\n",
       "    <tr>\n",
       "      <th>0</th>\n",
       "      <td>funded_amnt_inv</td>\n",
       "      <td>funded_amnt_inv</td>\n",
       "      <td>1</td>\n",
       "    </tr>\n",
       "    <tr>\n",
       "      <th>1</th>\n",
       "      <td>funded_amnt_inv</td>\n",
       "      <td>installment</td>\n",
       "      <td>0.890151</td>\n",
       "    </tr>\n",
       "    <tr>\n",
       "      <th>2</th>\n",
       "      <td>funded_amnt_inv</td>\n",
       "      <td>annual_inc</td>\n",
       "      <td>0.252329</td>\n",
       "    </tr>\n",
       "    <tr>\n",
       "      <th>3</th>\n",
       "      <td>funded_amnt_inv</td>\n",
       "      <td>dti</td>\n",
       "      <td>0.0710728</td>\n",
       "    </tr>\n",
       "    <tr>\n",
       "      <th>4</th>\n",
       "      <td>funded_amnt_inv</td>\n",
       "      <td>delinq_2yrs</td>\n",
       "      <td>-0.0438684</td>\n",
       "    </tr>\n",
       "  </tbody>\n",
       "</table>\n",
       "</div>"
      ],
      "text/plain": [
       "              var1             var2 correlation\n",
       "0  funded_amnt_inv  funded_amnt_inv           1\n",
       "1  funded_amnt_inv      installment    0.890151\n",
       "2  funded_amnt_inv       annual_inc    0.252329\n",
       "3  funded_amnt_inv              dti   0.0710728\n",
       "4  funded_amnt_inv      delinq_2yrs  -0.0438684"
      ]
     },
     "execution_count": 19,
     "metadata": {},
     "output_type": "execute_result"
    }
   ],
   "source": [
    "correlation=corr.T\n",
    "\n",
    "correlation.head()"
   ]
  },
  {
   "cell_type": "code",
   "execution_count": 20,
   "metadata": {},
   "outputs": [],
   "source": [
    "high=correlation[correlation['correlation']>0.5]"
   ]
  },
  {
   "cell_type": "code",
   "execution_count": 21,
   "metadata": {},
   "outputs": [
    {
     "data": {
      "text/html": [
       "<div>\n",
       "<style scoped>\n",
       "    .dataframe tbody tr th:only-of-type {\n",
       "        vertical-align: middle;\n",
       "    }\n",
       "\n",
       "    .dataframe tbody tr th {\n",
       "        vertical-align: top;\n",
       "    }\n",
       "\n",
       "    .dataframe thead th {\n",
       "        text-align: right;\n",
       "    }\n",
       "</style>\n",
       "<table border=\"1\" class=\"dataframe\">\n",
       "  <thead>\n",
       "    <tr style=\"text-align: right;\">\n",
       "      <th></th>\n",
       "      <th>var1</th>\n",
       "      <th>var2</th>\n",
       "      <th>correlation</th>\n",
       "    </tr>\n",
       "  </thead>\n",
       "  <tbody>\n",
       "    <tr>\n",
       "      <th>1</th>\n",
       "      <td>funded_amnt_inv</td>\n",
       "      <td>installment</td>\n",
       "      <td>0.890151</td>\n",
       "    </tr>\n",
       "    <tr>\n",
       "      <th>10</th>\n",
       "      <td>funded_amnt_inv</td>\n",
       "      <td>total_pymnt</td>\n",
       "      <td>0.87341</td>\n",
       "    </tr>\n",
       "    <tr>\n",
       "      <th>11</th>\n",
       "      <td>funded_amnt_inv</td>\n",
       "      <td>total_pymnt_inv</td>\n",
       "      <td>0.91302</td>\n",
       "    </tr>\n",
       "    <tr>\n",
       "      <th>12</th>\n",
       "      <td>funded_amnt_inv</td>\n",
       "      <td>total_rec_prncp</td>\n",
       "      <td>0.841547</td>\n",
       "    </tr>\n",
       "    <tr>\n",
       "      <th>13</th>\n",
       "      <td>funded_amnt_inv</td>\n",
       "      <td>total_rec_int</td>\n",
       "      <td>0.726552</td>\n",
       "    </tr>\n",
       "    <tr>\n",
       "      <th>24</th>\n",
       "      <td>installment</td>\n",
       "      <td>funded_amnt_inv</td>\n",
       "      <td>0.890151</td>\n",
       "    </tr>\n",
       "    <tr>\n",
       "      <th>25</th>\n",
       "      <td>installment</td>\n",
       "      <td>installment</td>\n",
       "      <td>1</td>\n",
       "    </tr>\n",
       "    <tr>\n",
       "      <th>34</th>\n",
       "      <td>installment</td>\n",
       "      <td>total_pymnt</td>\n",
       "      <td>0.84861</td>\n",
       "    </tr>\n",
       "    <tr>\n",
       "      <th>35</th>\n",
       "      <td>installment</td>\n",
       "      <td>total_pymnt_inv</td>\n",
       "      <td>0.799652</td>\n",
       "    </tr>\n",
       "    <tr>\n",
       "      <th>36</th>\n",
       "      <td>installment</td>\n",
       "      <td>total_rec_prncp</td>\n",
       "      <td>0.843359</td>\n",
       "    </tr>\n",
       "    <tr>\n",
       "      <th>37</th>\n",
       "      <td>installment</td>\n",
       "      <td>total_rec_int</td>\n",
       "      <td>0.633615</td>\n",
       "    </tr>\n",
       "    <tr>\n",
       "      <th>50</th>\n",
       "      <td>annual_inc</td>\n",
       "      <td>annual_inc</td>\n",
       "      <td>1</td>\n",
       "    </tr>\n",
       "    <tr>\n",
       "      <th>75</th>\n",
       "      <td>dti</td>\n",
       "      <td>dti</td>\n",
       "      <td>1</td>\n",
       "    </tr>\n",
       "    <tr>\n",
       "      <th>100</th>\n",
       "      <td>delinq_2yrs</td>\n",
       "      <td>delinq_2yrs</td>\n",
       "      <td>1</td>\n",
       "    </tr>\n",
       "    <tr>\n",
       "      <th>150</th>\n",
       "      <td>mths_since_last_delinq</td>\n",
       "      <td>mths_since_last_delinq</td>\n",
       "      <td>1</td>\n",
       "    </tr>\n",
       "    <tr>\n",
       "      <th>177</th>\n",
       "      <td>open_acc</td>\n",
       "      <td>total_acc</td>\n",
       "      <td>0.693161</td>\n",
       "    </tr>\n",
       "    <tr>\n",
       "      <th>200</th>\n",
       "      <td>pub_rec</td>\n",
       "      <td>pub_rec</td>\n",
       "      <td>1</td>\n",
       "    </tr>\n",
       "    <tr>\n",
       "      <th>214</th>\n",
       "      <td>pub_rec</td>\n",
       "      <td>pub_rec_bankruptcies</td>\n",
       "      <td>0.841454</td>\n",
       "    </tr>\n",
       "    <tr>\n",
       "      <th>223</th>\n",
       "      <td>total_acc</td>\n",
       "      <td>open_acc</td>\n",
       "      <td>0.693161</td>\n",
       "    </tr>\n",
       "    <tr>\n",
       "      <th>240</th>\n",
       "      <td>total_pymnt</td>\n",
       "      <td>funded_amnt_inv</td>\n",
       "      <td>0.87341</td>\n",
       "    </tr>\n",
       "    <tr>\n",
       "      <th>241</th>\n",
       "      <td>total_pymnt</td>\n",
       "      <td>installment</td>\n",
       "      <td>0.84861</td>\n",
       "    </tr>\n",
       "    <tr>\n",
       "      <th>250</th>\n",
       "      <td>total_pymnt</td>\n",
       "      <td>total_pymnt</td>\n",
       "      <td>1</td>\n",
       "    </tr>\n",
       "    <tr>\n",
       "      <th>251</th>\n",
       "      <td>total_pymnt</td>\n",
       "      <td>total_pymnt_inv</td>\n",
       "      <td>0.965069</td>\n",
       "    </tr>\n",
       "    <tr>\n",
       "      <th>252</th>\n",
       "      <td>total_pymnt</td>\n",
       "      <td>total_rec_prncp</td>\n",
       "      <td>0.972443</td>\n",
       "    </tr>\n",
       "    <tr>\n",
       "      <th>253</th>\n",
       "      <td>total_pymnt</td>\n",
       "      <td>total_rec_int</td>\n",
       "      <td>0.836664</td>\n",
       "    </tr>\n",
       "    <tr>\n",
       "      <th>264</th>\n",
       "      <td>total_pymnt_inv</td>\n",
       "      <td>funded_amnt_inv</td>\n",
       "      <td>0.91302</td>\n",
       "    </tr>\n",
       "    <tr>\n",
       "      <th>265</th>\n",
       "      <td>total_pymnt_inv</td>\n",
       "      <td>installment</td>\n",
       "      <td>0.799652</td>\n",
       "    </tr>\n",
       "    <tr>\n",
       "      <th>274</th>\n",
       "      <td>total_pymnt_inv</td>\n",
       "      <td>total_pymnt</td>\n",
       "      <td>0.965069</td>\n",
       "    </tr>\n",
       "    <tr>\n",
       "      <th>275</th>\n",
       "      <td>total_pymnt_inv</td>\n",
       "      <td>total_pymnt_inv</td>\n",
       "      <td>1</td>\n",
       "    </tr>\n",
       "    <tr>\n",
       "      <th>276</th>\n",
       "      <td>total_pymnt_inv</td>\n",
       "      <td>total_rec_prncp</td>\n",
       "      <td>0.935168</td>\n",
       "    </tr>\n",
       "    <tr>\n",
       "      <th>277</th>\n",
       "      <td>total_pymnt_inv</td>\n",
       "      <td>total_rec_int</td>\n",
       "      <td>0.819382</td>\n",
       "    </tr>\n",
       "    <tr>\n",
       "      <th>288</th>\n",
       "      <td>total_rec_prncp</td>\n",
       "      <td>funded_amnt_inv</td>\n",
       "      <td>0.841547</td>\n",
       "    </tr>\n",
       "    <tr>\n",
       "      <th>289</th>\n",
       "      <td>total_rec_prncp</td>\n",
       "      <td>installment</td>\n",
       "      <td>0.843359</td>\n",
       "    </tr>\n",
       "    <tr>\n",
       "      <th>298</th>\n",
       "      <td>total_rec_prncp</td>\n",
       "      <td>total_pymnt</td>\n",
       "      <td>0.972443</td>\n",
       "    </tr>\n",
       "    <tr>\n",
       "      <th>299</th>\n",
       "      <td>total_rec_prncp</td>\n",
       "      <td>total_pymnt_inv</td>\n",
       "      <td>0.935168</td>\n",
       "    </tr>\n",
       "    <tr>\n",
       "      <th>301</th>\n",
       "      <td>total_rec_prncp</td>\n",
       "      <td>total_rec_int</td>\n",
       "      <td>0.69913</td>\n",
       "    </tr>\n",
       "    <tr>\n",
       "      <th>305</th>\n",
       "      <td>total_rec_prncp</td>\n",
       "      <td>last_pymnt_amnt</td>\n",
       "      <td>0.535175</td>\n",
       "    </tr>\n",
       "    <tr>\n",
       "      <th>312</th>\n",
       "      <td>total_rec_int</td>\n",
       "      <td>funded_amnt_inv</td>\n",
       "      <td>0.726552</td>\n",
       "    </tr>\n",
       "    <tr>\n",
       "      <th>313</th>\n",
       "      <td>total_rec_int</td>\n",
       "      <td>installment</td>\n",
       "      <td>0.633615</td>\n",
       "    </tr>\n",
       "    <tr>\n",
       "      <th>322</th>\n",
       "      <td>total_rec_int</td>\n",
       "      <td>total_pymnt</td>\n",
       "      <td>0.836664</td>\n",
       "    </tr>\n",
       "    <tr>\n",
       "      <th>323</th>\n",
       "      <td>total_rec_int</td>\n",
       "      <td>total_pymnt_inv</td>\n",
       "      <td>0.819382</td>\n",
       "    </tr>\n",
       "    <tr>\n",
       "      <th>324</th>\n",
       "      <td>total_rec_int</td>\n",
       "      <td>total_rec_prncp</td>\n",
       "      <td>0.69913</td>\n",
       "    </tr>\n",
       "    <tr>\n",
       "      <th>325</th>\n",
       "      <td>total_rec_int</td>\n",
       "      <td>total_rec_int</td>\n",
       "      <td>1</td>\n",
       "    </tr>\n",
       "    <tr>\n",
       "      <th>350</th>\n",
       "      <td>total_rec_late_fee</td>\n",
       "      <td>total_rec_late_fee</td>\n",
       "      <td>1</td>\n",
       "    </tr>\n",
       "    <tr>\n",
       "      <th>376</th>\n",
       "      <td>recoveries</td>\n",
       "      <td>collection_recovery_fee</td>\n",
       "      <td>0.82042</td>\n",
       "    </tr>\n",
       "    <tr>\n",
       "      <th>399</th>\n",
       "      <td>collection_recovery_fee</td>\n",
       "      <td>recoveries</td>\n",
       "      <td>0.82042</td>\n",
       "    </tr>\n",
       "    <tr>\n",
       "      <th>420</th>\n",
       "      <td>last_pymnt_amnt</td>\n",
       "      <td>total_rec_prncp</td>\n",
       "      <td>0.535175</td>\n",
       "    </tr>\n",
       "    <tr>\n",
       "      <th>477</th>\n",
       "      <td>acc_now_delinq</td>\n",
       "      <td>delinq_amnt</td>\n",
       "      <td>0.502208</td>\n",
       "    </tr>\n",
       "    <tr>\n",
       "      <th>523</th>\n",
       "      <td>delinq_amnt</td>\n",
       "      <td>acc_now_delinq</td>\n",
       "      <td>0.502208</td>\n",
       "    </tr>\n",
       "    <tr>\n",
       "      <th>525</th>\n",
       "      <td>delinq_amnt</td>\n",
       "      <td>delinq_amnt</td>\n",
       "      <td>1</td>\n",
       "    </tr>\n",
       "    <tr>\n",
       "      <th>536</th>\n",
       "      <td>pub_rec_bankruptcies</td>\n",
       "      <td>pub_rec</td>\n",
       "      <td>0.841454</td>\n",
       "    </tr>\n",
       "    <tr>\n",
       "      <th>550</th>\n",
       "      <td>pub_rec_bankruptcies</td>\n",
       "      <td>pub_rec_bankruptcies</td>\n",
       "      <td>1</td>\n",
       "    </tr>\n",
       "  </tbody>\n",
       "</table>\n",
       "</div>"
      ],
      "text/plain": [
       "                        var1                     var2 correlation\n",
       "1            funded_amnt_inv              installment    0.890151\n",
       "10           funded_amnt_inv              total_pymnt     0.87341\n",
       "11           funded_amnt_inv          total_pymnt_inv     0.91302\n",
       "12           funded_amnt_inv          total_rec_prncp    0.841547\n",
       "13           funded_amnt_inv            total_rec_int    0.726552\n",
       "24               installment          funded_amnt_inv    0.890151\n",
       "25               installment              installment           1\n",
       "34               installment              total_pymnt     0.84861\n",
       "35               installment          total_pymnt_inv    0.799652\n",
       "36               installment          total_rec_prncp    0.843359\n",
       "37               installment            total_rec_int    0.633615\n",
       "50                annual_inc               annual_inc           1\n",
       "75                       dti                      dti           1\n",
       "100              delinq_2yrs              delinq_2yrs           1\n",
       "150   mths_since_last_delinq   mths_since_last_delinq           1\n",
       "177                 open_acc                total_acc    0.693161\n",
       "200                  pub_rec                  pub_rec           1\n",
       "214                  pub_rec     pub_rec_bankruptcies    0.841454\n",
       "223                total_acc                 open_acc    0.693161\n",
       "240              total_pymnt          funded_amnt_inv     0.87341\n",
       "241              total_pymnt              installment     0.84861\n",
       "250              total_pymnt              total_pymnt           1\n",
       "251              total_pymnt          total_pymnt_inv    0.965069\n",
       "252              total_pymnt          total_rec_prncp    0.972443\n",
       "253              total_pymnt            total_rec_int    0.836664\n",
       "264          total_pymnt_inv          funded_amnt_inv     0.91302\n",
       "265          total_pymnt_inv              installment    0.799652\n",
       "274          total_pymnt_inv              total_pymnt    0.965069\n",
       "275          total_pymnt_inv          total_pymnt_inv           1\n",
       "276          total_pymnt_inv          total_rec_prncp    0.935168\n",
       "277          total_pymnt_inv            total_rec_int    0.819382\n",
       "288          total_rec_prncp          funded_amnt_inv    0.841547\n",
       "289          total_rec_prncp              installment    0.843359\n",
       "298          total_rec_prncp              total_pymnt    0.972443\n",
       "299          total_rec_prncp          total_pymnt_inv    0.935168\n",
       "301          total_rec_prncp            total_rec_int     0.69913\n",
       "305          total_rec_prncp          last_pymnt_amnt    0.535175\n",
       "312            total_rec_int          funded_amnt_inv    0.726552\n",
       "313            total_rec_int              installment    0.633615\n",
       "322            total_rec_int              total_pymnt    0.836664\n",
       "323            total_rec_int          total_pymnt_inv    0.819382\n",
       "324            total_rec_int          total_rec_prncp     0.69913\n",
       "325            total_rec_int            total_rec_int           1\n",
       "350       total_rec_late_fee       total_rec_late_fee           1\n",
       "376               recoveries  collection_recovery_fee     0.82042\n",
       "399  collection_recovery_fee               recoveries     0.82042\n",
       "420          last_pymnt_amnt          total_rec_prncp    0.535175\n",
       "477           acc_now_delinq              delinq_amnt    0.502208\n",
       "523              delinq_amnt           acc_now_delinq    0.502208\n",
       "525              delinq_amnt              delinq_amnt           1\n",
       "536     pub_rec_bankruptcies                  pub_rec    0.841454\n",
       "550     pub_rec_bankruptcies     pub_rec_bankruptcies           1"
      ]
     },
     "execution_count": 21,
     "metadata": {},
     "output_type": "execute_result"
    }
   ],
   "source": [
    "high[high['correlation']<1]      #there is high multicollinearity"
   ]
  },
  {
   "cell_type": "code",
   "execution_count": 22,
   "metadata": {},
   "outputs": [
    {
     "data": {
      "text/plain": [
       "0    36\n",
       "1    60\n",
       "2    36\n",
       "3    36\n",
       "4    60\n",
       "Name: term, dtype: object"
      ]
     },
     "execution_count": 22,
     "metadata": {},
     "output_type": "execute_result"
    }
   ],
   "source": [
    "data['term']=data['term'].str.replace('[^0-9]','')   #treatment of term column\n",
    "\n",
    "data['term'].head(5)"
   ]
  },
  {
   "cell_type": "code",
   "execution_count": 23,
   "metadata": {},
   "outputs": [
    {
     "data": {
      "text/plain": [
       "0    10.65\n",
       "1    15.27\n",
       "2    15.96\n",
       "3    13.49\n",
       "4    12.69\n",
       "Name: int_rate, dtype: object"
      ]
     },
     "execution_count": 23,
     "metadata": {},
     "output_type": "execute_result"
    }
   ],
   "source": [
    "data['int_rate']=data['int_rate'].str.replace('[^0-9.]','')    #treatment for int_rate\n",
    "\n",
    "data['int_rate'].head()"
   ]
  },
  {
   "cell_type": "code",
   "execution_count": 24,
   "metadata": {},
   "outputs": [
    {
     "data": {
      "text/plain": [
       "0    10+\n",
       "1     <1\n",
       "2    10+\n",
       "3    10+\n",
       "4      1\n",
       "Name: emp_length, dtype: object"
      ]
     },
     "execution_count": 24,
     "metadata": {},
     "output_type": "execute_result"
    }
   ],
   "source": [
    "data['emp_length']=data['emp_length'].str.replace('[^0-9<+]','')\n",
    "\n",
    "data['emp_length'].head(5)"
   ]
  },
  {
   "cell_type": "code",
   "execution_count": 25,
   "metadata": {},
   "outputs": [
    {
     "data": {
      "text/plain": [
       "0-2 years      13400\n",
       "2-5 years      11471\n",
       "More than 9    10710\n",
       "5-8 years       5842\n",
       "Name: emp_length, dtype: int64"
      ]
     },
     "execution_count": 25,
     "metadata": {},
     "output_type": "execute_result"
    }
   ],
   "source": [
    "data['emp_length'].unique()\n",
    "\n",
    "data['emp_length'].replace(['<1','1','2'],'0-2 years',inplace=True)\n",
    "data['emp_length'].replace(['3','4','5'],'2-5 years',inplace=True)\n",
    "data['emp_length'].replace(['6','7','8'],'5-8 years',inplace=True)\n",
    "data['emp_length'].replace(['9','10+'],'More than 9',inplace=True)\n",
    "data['emp_length'].value_counts()"
   ]
  },
  {
   "cell_type": "code",
   "execution_count": 26,
   "metadata": {},
   "outputs": [
    {
     "data": {
      "text/plain": [
       "0     Fully Paid\n",
       "1    Charged Off\n",
       "2     Fully Paid\n",
       "3     Fully Paid\n",
       "4     Fully Paid\n",
       "Name: loan_status, dtype: object"
      ]
     },
     "execution_count": 26,
     "metadata": {},
     "output_type": "execute_result"
    }
   ],
   "source": [
    "data['loan_status']=data['loan_status'].replace(('Does not meet the credit policy. Status:Fully Paid','Does not meet the credit policy. Status:Charged Off'),('Fully Paid', 'Charged Off'))\n",
    "\n",
    "data['loan_status'].head(5)"
   ]
  },
  {
   "cell_type": "code",
   "execution_count": 27,
   "metadata": {},
   "outputs": [
    {
     "data": {
      "text/plain": [
       "0    83.70\n",
       "1     9.40\n",
       "2    98.50\n",
       "3       21\n",
       "4    53.90\n",
       "Name: revol_util, dtype: object"
      ]
     },
     "execution_count": 27,
     "metadata": {},
     "output_type": "execute_result"
    }
   ],
   "source": [
    "data['revol_util']=data['revol_util'].str.replace('[^0-9.]','')\n",
    "\n",
    "data['revol_util'].head(5)"
   ]
  },
  {
   "cell_type": "code",
   "execution_count": 28,
   "metadata": {},
   "outputs": [
    {
     "name": "stdout",
     "output_type": "stream",
     "text": [
      "emp_title 2626\n",
      "emp_length 1112\n",
      "annual_inc 4\n",
      "desc 13293\n",
      "title 13\n",
      "delinq_2yrs 29\n",
      "earliest_cr_line 29\n",
      "inq_last_6mths 29\n",
      "mths_since_last_delinq 26926\n",
      "open_acc 29\n",
      "pub_rec 29\n",
      "revol_util 90\n",
      "total_acc 29\n",
      "last_pymnt_d 83\n",
      "last_credit_pull_d 4\n",
      "collections_12_mths_ex_med 145\n",
      "acc_now_delinq 29\n",
      "chargeoff_within_12_mths 145\n",
      "delinq_amnt 29\n",
      "pub_rec_bankruptcies 1365\n",
      "tax_liens 105\n"
     ]
    }
   ],
   "source": [
    "for i in data.columns:\n",
    "    if data[i].isnull().sum()>0:\n",
    "        print(i,data[i].isnull().sum())"
   ]
  },
  {
   "cell_type": "code",
   "execution_count": 29,
   "metadata": {},
   "outputs": [
    {
     "data": {
      "text/html": [
       "<div>\n",
       "<style scoped>\n",
       "    .dataframe tbody tr th:only-of-type {\n",
       "        vertical-align: middle;\n",
       "    }\n",
       "\n",
       "    .dataframe tbody tr th {\n",
       "        vertical-align: top;\n",
       "    }\n",
       "\n",
       "    .dataframe thead th {\n",
       "        text-align: right;\n",
       "    }\n",
       "</style>\n",
       "<table border=\"1\" class=\"dataframe\">\n",
       "  <thead>\n",
       "    <tr style=\"text-align: right;\">\n",
       "      <th></th>\n",
       "      <th>funded_amnt_inv</th>\n",
       "      <th>installment</th>\n",
       "      <th>annual_inc</th>\n",
       "      <th>dti</th>\n",
       "      <th>delinq_2yrs</th>\n",
       "      <th>inq_last_6mths</th>\n",
       "      <th>mths_since_last_delinq</th>\n",
       "      <th>open_acc</th>\n",
       "      <th>pub_rec</th>\n",
       "      <th>total_acc</th>\n",
       "      <th>...</th>\n",
       "      <th>total_rec_late_fee</th>\n",
       "      <th>recoveries</th>\n",
       "      <th>collection_recovery_fee</th>\n",
       "      <th>last_pymnt_amnt</th>\n",
       "      <th>collections_12_mths_ex_med</th>\n",
       "      <th>acc_now_delinq</th>\n",
       "      <th>chargeoff_within_12_mths</th>\n",
       "      <th>delinq_amnt</th>\n",
       "      <th>pub_rec_bankruptcies</th>\n",
       "      <th>tax_liens</th>\n",
       "    </tr>\n",
       "    <tr>\n",
       "      <th>grade</th>\n",
       "      <th></th>\n",
       "      <th></th>\n",
       "      <th></th>\n",
       "      <th></th>\n",
       "      <th></th>\n",
       "      <th></th>\n",
       "      <th></th>\n",
       "      <th></th>\n",
       "      <th></th>\n",
       "      <th></th>\n",
       "      <th></th>\n",
       "      <th></th>\n",
       "      <th></th>\n",
       "      <th></th>\n",
       "      <th></th>\n",
       "      <th></th>\n",
       "      <th></th>\n",
       "      <th></th>\n",
       "      <th></th>\n",
       "      <th></th>\n",
       "      <th></th>\n",
       "    </tr>\n",
       "  </thead>\n",
       "  <tbody>\n",
       "    <tr>\n",
       "      <th>A</th>\n",
       "      <td>7000.0</td>\n",
       "      <td>222.06</td>\n",
       "      <td>57600.0</td>\n",
       "      <td>11.500</td>\n",
       "      <td>0.0</td>\n",
       "      <td>0.0</td>\n",
       "      <td>38.0</td>\n",
       "      <td>9.0</td>\n",
       "      <td>0.0</td>\n",
       "      <td>22.0</td>\n",
       "      <td>...</td>\n",
       "      <td>0.0</td>\n",
       "      <td>0.0</td>\n",
       "      <td>0.0</td>\n",
       "      <td>469.360</td>\n",
       "      <td>0.0</td>\n",
       "      <td>0.0</td>\n",
       "      <td>0.0</td>\n",
       "      <td>0.0</td>\n",
       "      <td>0.0</td>\n",
       "      <td>0.0</td>\n",
       "    </tr>\n",
       "    <tr>\n",
       "      <th>B</th>\n",
       "      <td>8975.0</td>\n",
       "      <td>273.23</td>\n",
       "      <td>57996.0</td>\n",
       "      <td>13.500</td>\n",
       "      <td>0.0</td>\n",
       "      <td>0.0</td>\n",
       "      <td>35.0</td>\n",
       "      <td>9.0</td>\n",
       "      <td>0.0</td>\n",
       "      <td>20.0</td>\n",
       "      <td>...</td>\n",
       "      <td>0.0</td>\n",
       "      <td>0.0</td>\n",
       "      <td>0.0</td>\n",
       "      <td>550.700</td>\n",
       "      <td>0.0</td>\n",
       "      <td>0.0</td>\n",
       "      <td>0.0</td>\n",
       "      <td>0.0</td>\n",
       "      <td>0.0</td>\n",
       "      <td>0.0</td>\n",
       "    </tr>\n",
       "    <tr>\n",
       "      <th>C</th>\n",
       "      <td>8000.0</td>\n",
       "      <td>276.06</td>\n",
       "      <td>56000.0</td>\n",
       "      <td>14.050</td>\n",
       "      <td>0.0</td>\n",
       "      <td>1.0</td>\n",
       "      <td>33.0</td>\n",
       "      <td>8.0</td>\n",
       "      <td>0.0</td>\n",
       "      <td>19.0</td>\n",
       "      <td>...</td>\n",
       "      <td>0.0</td>\n",
       "      <td>0.0</td>\n",
       "      <td>0.0</td>\n",
       "      <td>500.720</td>\n",
       "      <td>0.0</td>\n",
       "      <td>0.0</td>\n",
       "      <td>0.0</td>\n",
       "      <td>0.0</td>\n",
       "      <td>0.0</td>\n",
       "      <td>0.0</td>\n",
       "    </tr>\n",
       "    <tr>\n",
       "      <th>D</th>\n",
       "      <td>9550.0</td>\n",
       "      <td>306.36</td>\n",
       "      <td>58000.0</td>\n",
       "      <td>14.305</td>\n",
       "      <td>0.0</td>\n",
       "      <td>1.0</td>\n",
       "      <td>32.0</td>\n",
       "      <td>8.0</td>\n",
       "      <td>0.0</td>\n",
       "      <td>19.0</td>\n",
       "      <td>...</td>\n",
       "      <td>0.0</td>\n",
       "      <td>0.0</td>\n",
       "      <td>0.0</td>\n",
       "      <td>521.215</td>\n",
       "      <td>0.0</td>\n",
       "      <td>0.0</td>\n",
       "      <td>0.0</td>\n",
       "      <td>0.0</td>\n",
       "      <td>0.0</td>\n",
       "      <td>0.0</td>\n",
       "    </tr>\n",
       "    <tr>\n",
       "      <th>E</th>\n",
       "      <td>12000.0</td>\n",
       "      <td>361.52</td>\n",
       "      <td>62000.0</td>\n",
       "      <td>14.600</td>\n",
       "      <td>0.0</td>\n",
       "      <td>1.0</td>\n",
       "      <td>30.0</td>\n",
       "      <td>9.0</td>\n",
       "      <td>0.0</td>\n",
       "      <td>20.0</td>\n",
       "      <td>...</td>\n",
       "      <td>0.0</td>\n",
       "      <td>0.0</td>\n",
       "      <td>0.0</td>\n",
       "      <td>637.410</td>\n",
       "      <td>0.0</td>\n",
       "      <td>0.0</td>\n",
       "      <td>0.0</td>\n",
       "      <td>0.0</td>\n",
       "      <td>0.0</td>\n",
       "      <td>0.0</td>\n",
       "    </tr>\n",
       "    <tr>\n",
       "      <th>F</th>\n",
       "      <td>14650.0</td>\n",
       "      <td>452.77</td>\n",
       "      <td>70556.0</td>\n",
       "      <td>15.140</td>\n",
       "      <td>0.0</td>\n",
       "      <td>1.0</td>\n",
       "      <td>27.0</td>\n",
       "      <td>9.0</td>\n",
       "      <td>0.0</td>\n",
       "      <td>21.0</td>\n",
       "      <td>...</td>\n",
       "      <td>0.0</td>\n",
       "      <td>0.0</td>\n",
       "      <td>0.0</td>\n",
       "      <td>763.870</td>\n",
       "      <td>0.0</td>\n",
       "      <td>0.0</td>\n",
       "      <td>0.0</td>\n",
       "      <td>0.0</td>\n",
       "      <td>0.0</td>\n",
       "      <td>0.0</td>\n",
       "    </tr>\n",
       "    <tr>\n",
       "      <th>G</th>\n",
       "      <td>14400.0</td>\n",
       "      <td>526.73</td>\n",
       "      <td>75000.0</td>\n",
       "      <td>15.960</td>\n",
       "      <td>0.0</td>\n",
       "      <td>1.0</td>\n",
       "      <td>23.0</td>\n",
       "      <td>10.0</td>\n",
       "      <td>0.0</td>\n",
       "      <td>23.0</td>\n",
       "      <td>...</td>\n",
       "      <td>0.0</td>\n",
       "      <td>0.0</td>\n",
       "      <td>0.0</td>\n",
       "      <td>694.540</td>\n",
       "      <td>0.0</td>\n",
       "      <td>0.0</td>\n",
       "      <td>0.0</td>\n",
       "      <td>0.0</td>\n",
       "      <td>0.0</td>\n",
       "      <td>0.0</td>\n",
       "    </tr>\n",
       "  </tbody>\n",
       "</table>\n",
       "<p>7 rows × 24 columns</p>\n",
       "</div>"
      ],
      "text/plain": [
       "       funded_amnt_inv  installment  annual_inc     dti  delinq_2yrs  \\\n",
       "grade                                                                  \n",
       "A               7000.0       222.06     57600.0  11.500          0.0   \n",
       "B               8975.0       273.23     57996.0  13.500          0.0   \n",
       "C               8000.0       276.06     56000.0  14.050          0.0   \n",
       "D               9550.0       306.36     58000.0  14.305          0.0   \n",
       "E              12000.0       361.52     62000.0  14.600          0.0   \n",
       "F              14650.0       452.77     70556.0  15.140          0.0   \n",
       "G              14400.0       526.73     75000.0  15.960          0.0   \n",
       "\n",
       "       inq_last_6mths  mths_since_last_delinq  open_acc  pub_rec  total_acc  \\\n",
       "grade                                                                         \n",
       "A                 0.0                    38.0       9.0      0.0       22.0   \n",
       "B                 0.0                    35.0       9.0      0.0       20.0   \n",
       "C                 1.0                    33.0       8.0      0.0       19.0   \n",
       "D                 1.0                    32.0       8.0      0.0       19.0   \n",
       "E                 1.0                    30.0       9.0      0.0       20.0   \n",
       "F                 1.0                    27.0       9.0      0.0       21.0   \n",
       "G                 1.0                    23.0      10.0      0.0       23.0   \n",
       "\n",
       "         ...      total_rec_late_fee  recoveries  collection_recovery_fee  \\\n",
       "grade    ...                                                                \n",
       "A        ...                     0.0         0.0                      0.0   \n",
       "B        ...                     0.0         0.0                      0.0   \n",
       "C        ...                     0.0         0.0                      0.0   \n",
       "D        ...                     0.0         0.0                      0.0   \n",
       "E        ...                     0.0         0.0                      0.0   \n",
       "F        ...                     0.0         0.0                      0.0   \n",
       "G        ...                     0.0         0.0                      0.0   \n",
       "\n",
       "       last_pymnt_amnt  collections_12_mths_ex_med  acc_now_delinq  \\\n",
       "grade                                                                \n",
       "A              469.360                         0.0             0.0   \n",
       "B              550.700                         0.0             0.0   \n",
       "C              500.720                         0.0             0.0   \n",
       "D              521.215                         0.0             0.0   \n",
       "E              637.410                         0.0             0.0   \n",
       "F              763.870                         0.0             0.0   \n",
       "G              694.540                         0.0             0.0   \n",
       "\n",
       "       chargeoff_within_12_mths  delinq_amnt  pub_rec_bankruptcies  tax_liens  \n",
       "grade                                                                          \n",
       "A                           0.0          0.0                   0.0        0.0  \n",
       "B                           0.0          0.0                   0.0        0.0  \n",
       "C                           0.0          0.0                   0.0        0.0  \n",
       "D                           0.0          0.0                   0.0        0.0  \n",
       "E                           0.0          0.0                   0.0        0.0  \n",
       "F                           0.0          0.0                   0.0        0.0  \n",
       "G                           0.0          0.0                   0.0        0.0  \n",
       "\n",
       "[7 rows x 24 columns]"
      ]
     },
     "execution_count": 29,
     "metadata": {},
     "output_type": "execute_result"
    }
   ],
   "source": [
    "data[numeric].groupby(data['grade']).median()"
   ]
  },
  {
   "cell_type": "code",
   "execution_count": 30,
   "metadata": {},
   "outputs": [
    {
     "data": {
      "text/html": [
       "<div>\n",
       "<style scoped>\n",
       "    .dataframe tbody tr th:only-of-type {\n",
       "        vertical-align: middle;\n",
       "    }\n",
       "\n",
       "    .dataframe tbody tr th {\n",
       "        vertical-align: top;\n",
       "    }\n",
       "\n",
       "    .dataframe thead th {\n",
       "        text-align: right;\n",
       "    }\n",
       "</style>\n",
       "<table border=\"1\" class=\"dataframe\">\n",
       "  <thead>\n",
       "    <tr style=\"text-align: right;\">\n",
       "      <th></th>\n",
       "      <th>funded_amnt_inv</th>\n",
       "      <th>installment</th>\n",
       "      <th>annual_inc</th>\n",
       "      <th>dti</th>\n",
       "      <th>delinq_2yrs</th>\n",
       "      <th>inq_last_6mths</th>\n",
       "      <th>mths_since_last_delinq</th>\n",
       "      <th>open_acc</th>\n",
       "      <th>pub_rec</th>\n",
       "      <th>total_acc</th>\n",
       "      <th>...</th>\n",
       "      <th>total_rec_late_fee</th>\n",
       "      <th>recoveries</th>\n",
       "      <th>collection_recovery_fee</th>\n",
       "      <th>last_pymnt_amnt</th>\n",
       "      <th>collections_12_mths_ex_med</th>\n",
       "      <th>acc_now_delinq</th>\n",
       "      <th>chargeoff_within_12_mths</th>\n",
       "      <th>delinq_amnt</th>\n",
       "      <th>pub_rec_bankruptcies</th>\n",
       "      <th>tax_liens</th>\n",
       "    </tr>\n",
       "    <tr>\n",
       "      <th>grade</th>\n",
       "      <th></th>\n",
       "      <th></th>\n",
       "      <th></th>\n",
       "      <th></th>\n",
       "      <th></th>\n",
       "      <th></th>\n",
       "      <th></th>\n",
       "      <th></th>\n",
       "      <th></th>\n",
       "      <th></th>\n",
       "      <th></th>\n",
       "      <th></th>\n",
       "      <th></th>\n",
       "      <th></th>\n",
       "      <th></th>\n",
       "      <th></th>\n",
       "      <th></th>\n",
       "      <th></th>\n",
       "      <th></th>\n",
       "      <th></th>\n",
       "      <th></th>\n",
       "    </tr>\n",
       "  </thead>\n",
       "  <tbody>\n",
       "    <tr>\n",
       "      <th>A</th>\n",
       "      <td>8118.220295</td>\n",
       "      <td>255.976318</td>\n",
       "      <td>66728.344921</td>\n",
       "      <td>12.043492</td>\n",
       "      <td>0.044632</td>\n",
       "      <td>0.687180</td>\n",
       "      <td>38.954911</td>\n",
       "      <td>9.430495</td>\n",
       "      <td>0.014943</td>\n",
       "      <td>23.432560</td>\n",
       "      <td>...</td>\n",
       "      <td>0.551002</td>\n",
       "      <td>21.383188</td>\n",
       "      <td>3.241618</td>\n",
       "      <td>1935.115788</td>\n",
       "      <td>0.0</td>\n",
       "      <td>0.000098</td>\n",
       "      <td>0.0</td>\n",
       "      <td>0.000000</td>\n",
       "      <td>0.012881</td>\n",
       "      <td>0.000000</td>\n",
       "    </tr>\n",
       "    <tr>\n",
       "      <th>B</th>\n",
       "      <td>10218.879847</td>\n",
       "      <td>319.429080</td>\n",
       "      <td>67915.047804</td>\n",
       "      <td>13.392900</td>\n",
       "      <td>0.114630</td>\n",
       "      <td>0.867275</td>\n",
       "      <td>36.444554</td>\n",
       "      <td>9.189918</td>\n",
       "      <td>0.054770</td>\n",
       "      <td>21.946926</td>\n",
       "      <td>...</td>\n",
       "      <td>1.046598</td>\n",
       "      <td>61.769195</td>\n",
       "      <td>7.434201</td>\n",
       "      <td>2644.902052</td>\n",
       "      <td>0.0</td>\n",
       "      <td>0.000000</td>\n",
       "      <td>0.0</td>\n",
       "      <td>0.000000</td>\n",
       "      <td>0.045222</td>\n",
       "      <td>0.000000</td>\n",
       "    </tr>\n",
       "    <tr>\n",
       "      <th>C</th>\n",
       "      <td>9802.378579</td>\n",
       "      <td>317.827420</td>\n",
       "      <td>68177.588568</td>\n",
       "      <td>13.846410</td>\n",
       "      <td>0.184681</td>\n",
       "      <td>1.312228</td>\n",
       "      <td>34.969595</td>\n",
       "      <td>9.191550</td>\n",
       "      <td>0.077513</td>\n",
       "      <td>21.197504</td>\n",
       "      <td>...</td>\n",
       "      <td>1.881723</td>\n",
       "      <td>106.481146</td>\n",
       "      <td>16.077534</td>\n",
       "      <td>2507.631596</td>\n",
       "      <td>0.0</td>\n",
       "      <td>0.000000</td>\n",
       "      <td>0.0</td>\n",
       "      <td>0.000000</td>\n",
       "      <td>0.059458</td>\n",
       "      <td>0.000000</td>\n",
       "    </tr>\n",
       "    <tr>\n",
       "      <th>D</th>\n",
       "      <td>10795.355016</td>\n",
       "      <td>353.858813</td>\n",
       "      <td>68261.487146</td>\n",
       "      <td>13.970959</td>\n",
       "      <td>0.247548</td>\n",
       "      <td>1.381380</td>\n",
       "      <td>33.916667</td>\n",
       "      <td>9.199335</td>\n",
       "      <td>0.082294</td>\n",
       "      <td>20.995844</td>\n",
       "      <td>...</td>\n",
       "      <td>2.115440</td>\n",
       "      <td>139.721438</td>\n",
       "      <td>19.340380</td>\n",
       "      <td>2731.072146</td>\n",
       "      <td>0.0</td>\n",
       "      <td>0.000000</td>\n",
       "      <td>0.0</td>\n",
       "      <td>0.000000</td>\n",
       "      <td>0.059526</td>\n",
       "      <td>0.000000</td>\n",
       "    </tr>\n",
       "    <tr>\n",
       "      <th>E</th>\n",
       "      <td>13044.810309</td>\n",
       "      <td>403.603179</td>\n",
       "      <td>75892.024558</td>\n",
       "      <td>14.175636</td>\n",
       "      <td>0.259652</td>\n",
       "      <td>1.494842</td>\n",
       "      <td>32.626131</td>\n",
       "      <td>9.609785</td>\n",
       "      <td>0.087533</td>\n",
       "      <td>22.098143</td>\n",
       "      <td>...</td>\n",
       "      <td>2.709039</td>\n",
       "      <td>236.872641</td>\n",
       "      <td>30.804766</td>\n",
       "      <td>3754.931450</td>\n",
       "      <td>0.0</td>\n",
       "      <td>0.000589</td>\n",
       "      <td>0.0</td>\n",
       "      <td>1.783967</td>\n",
       "      <td>0.066374</td>\n",
       "      <td>0.000296</td>\n",
       "    </tr>\n",
       "    <tr>\n",
       "      <th>F</th>\n",
       "      <td>15112.898833</td>\n",
       "      <td>478.282967</td>\n",
       "      <td>83062.405772</td>\n",
       "      <td>14.641453</td>\n",
       "      <td>0.322829</td>\n",
       "      <td>1.705611</td>\n",
       "      <td>30.696065</td>\n",
       "      <td>10.304381</td>\n",
       "      <td>0.096080</td>\n",
       "      <td>23.762490</td>\n",
       "      <td>...</td>\n",
       "      <td>3.654254</td>\n",
       "      <td>455.147503</td>\n",
       "      <td>67.169654</td>\n",
       "      <td>4145.242444</td>\n",
       "      <td>0.0</td>\n",
       "      <td>0.000000</td>\n",
       "      <td>0.0</td>\n",
       "      <td>0.000000</td>\n",
       "      <td>0.078203</td>\n",
       "      <td>0.000000</td>\n",
       "    </tr>\n",
       "    <tr>\n",
       "      <th>G</th>\n",
       "      <td>14607.703878</td>\n",
       "      <td>507.923145</td>\n",
       "      <td>93055.818184</td>\n",
       "      <td>15.686172</td>\n",
       "      <td>0.398438</td>\n",
       "      <td>2.304688</td>\n",
       "      <td>27.933121</td>\n",
       "      <td>11.445312</td>\n",
       "      <td>0.093750</td>\n",
       "      <td>25.507812</td>\n",
       "      <td>...</td>\n",
       "      <td>5.512362</td>\n",
       "      <td>467.334453</td>\n",
       "      <td>77.097563</td>\n",
       "      <td>4291.797402</td>\n",
       "      <td>0.0</td>\n",
       "      <td>0.001953</td>\n",
       "      <td>0.0</td>\n",
       "      <td>0.052734</td>\n",
       "      <td>0.077098</td>\n",
       "      <td>0.000000</td>\n",
       "    </tr>\n",
       "  </tbody>\n",
       "</table>\n",
       "<p>7 rows × 24 columns</p>\n",
       "</div>"
      ],
      "text/plain": [
       "       funded_amnt_inv  installment    annual_inc        dti  delinq_2yrs  \\\n",
       "grade                                                                       \n",
       "A          8118.220295   255.976318  66728.344921  12.043492     0.044632   \n",
       "B         10218.879847   319.429080  67915.047804  13.392900     0.114630   \n",
       "C          9802.378579   317.827420  68177.588568  13.846410     0.184681   \n",
       "D         10795.355016   353.858813  68261.487146  13.970959     0.247548   \n",
       "E         13044.810309   403.603179  75892.024558  14.175636     0.259652   \n",
       "F         15112.898833   478.282967  83062.405772  14.641453     0.322829   \n",
       "G         14607.703878   507.923145  93055.818184  15.686172     0.398438   \n",
       "\n",
       "       inq_last_6mths  mths_since_last_delinq   open_acc   pub_rec  total_acc  \\\n",
       "grade                                                                           \n",
       "A            0.687180               38.954911   9.430495  0.014943  23.432560   \n",
       "B            0.867275               36.444554   9.189918  0.054770  21.946926   \n",
       "C            1.312228               34.969595   9.191550  0.077513  21.197504   \n",
       "D            1.381380               33.916667   9.199335  0.082294  20.995844   \n",
       "E            1.494842               32.626131   9.609785  0.087533  22.098143   \n",
       "F            1.705611               30.696065  10.304381  0.096080  23.762490   \n",
       "G            2.304688               27.933121  11.445312  0.093750  25.507812   \n",
       "\n",
       "         ...      total_rec_late_fee  recoveries  collection_recovery_fee  \\\n",
       "grade    ...                                                                \n",
       "A        ...                0.551002   21.383188                 3.241618   \n",
       "B        ...                1.046598   61.769195                 7.434201   \n",
       "C        ...                1.881723  106.481146                16.077534   \n",
       "D        ...                2.115440  139.721438                19.340380   \n",
       "E        ...                2.709039  236.872641                30.804766   \n",
       "F        ...                3.654254  455.147503                67.169654   \n",
       "G        ...                5.512362  467.334453                77.097563   \n",
       "\n",
       "       last_pymnt_amnt  collections_12_mths_ex_med  acc_now_delinq  \\\n",
       "grade                                                                \n",
       "A          1935.115788                         0.0        0.000098   \n",
       "B          2644.902052                         0.0        0.000000   \n",
       "C          2507.631596                         0.0        0.000000   \n",
       "D          2731.072146                         0.0        0.000000   \n",
       "E          3754.931450                         0.0        0.000589   \n",
       "F          4145.242444                         0.0        0.000000   \n",
       "G          4291.797402                         0.0        0.001953   \n",
       "\n",
       "       chargeoff_within_12_mths  delinq_amnt  pub_rec_bankruptcies  tax_liens  \n",
       "grade                                                                          \n",
       "A                           0.0     0.000000              0.012881   0.000000  \n",
       "B                           0.0     0.000000              0.045222   0.000000  \n",
       "C                           0.0     0.000000              0.059458   0.000000  \n",
       "D                           0.0     0.000000              0.059526   0.000000  \n",
       "E                           0.0     1.783967              0.066374   0.000296  \n",
       "F                           0.0     0.000000              0.078203   0.000000  \n",
       "G                           0.0     0.052734              0.077098   0.000000  \n",
       "\n",
       "[7 rows x 24 columns]"
      ]
     },
     "execution_count": 30,
     "metadata": {},
     "output_type": "execute_result"
    }
   ],
   "source": [
    "data[numeric].groupby(data['grade']).mean()"
   ]
  },
  {
   "cell_type": "markdown",
   "metadata": {},
   "source": [
    "#### Adding Region wise "
   ]
  },
  {
   "cell_type": "code",
   "execution_count": 31,
   "metadata": {},
   "outputs": [
    {
     "data": {
      "text/plain": [
       "array(['AZ', 'GA', 'IL', 'CA', 'OR', 'NC', 'TX', 'VA', 'MO', 'CT', 'UT',\n",
       "       'FL', 'NY', 'PA', 'MN', 'NJ', 'KY', 'OH', 'SC', 'RI', 'LA', 'MA',\n",
       "       'WA', 'WI', 'AL', 'CO', 'KS', 'NV', 'AK', 'MD', 'WV', 'VT', 'MI',\n",
       "       'DC', 'SD', 'NH', 'AR', 'NM', 'MT', 'HI', 'WY', 'OK', 'DE', 'MS',\n",
       "       'TN', 'IA', 'NE', 'ID', 'IN', 'ME'], dtype=object)"
      ]
     },
     "execution_count": 31,
     "metadata": {},
     "output_type": "execute_result"
    }
   ],
   "source": [
    "data['addr_state'].unique()"
   ]
  },
  {
   "cell_type": "code",
   "execution_count": 32,
   "metadata": {},
   "outputs": [],
   "source": [
    "data['addr_state'].replace(['WA','OR','ID','MT','WY','CO','UT','NV','CA'],'WEST',inplace=True)"
   ]
  },
  {
   "cell_type": "code",
   "execution_count": 33,
   "metadata": {},
   "outputs": [],
   "source": [
    "data['addr_state'].replace(['ND','MN','WI','MI','OH','IN','IL','MO','KS','NE','SD','IA'],'MID-WEST',inplace=True)"
   ]
  },
  {
   "cell_type": "code",
   "execution_count": 34,
   "metadata": {},
   "outputs": [],
   "source": [
    "data['addr_state'].replace(['MD','PA','NY','VT','ME','NH','MA','RI','CT','NJ'],'NORTH-EAST',inplace=True)"
   ]
  },
  {
   "cell_type": "code",
   "execution_count": 35,
   "metadata": {},
   "outputs": [],
   "source": [
    "data['addr_state'].replace(['DE','DC','WV','VA','NC','SC','GA','FL','KL','AL','MS','LA','AR','TN','KY'],'SOUTH-EAST',inplace=True)"
   ]
  },
  {
   "cell_type": "code",
   "execution_count": 36,
   "metadata": {},
   "outputs": [],
   "source": [
    "data['addr_state'].replace(['TX','OK','NM','AZ'],'SOUTH-WEST',inplace=True)"
   ]
  },
  {
   "cell_type": "code",
   "execution_count": 37,
   "metadata": {},
   "outputs": [],
   "source": [
    "data['addr_state'].replace(['HI','AK'],'WEST',inplace=True)"
   ]
  },
  {
   "cell_type": "code",
   "execution_count": 38,
   "metadata": {},
   "outputs": [
    {
     "data": {
      "text/plain": [
       "NORTH-EAST    11539\n",
       "WEST          10906\n",
       "SOUTH-EAST     9583\n",
       "MID-WEST       6137\n",
       "SOUTH-WEST     4370\n",
       "Name: addr_state, dtype: int64"
      ]
     },
     "execution_count": 38,
     "metadata": {},
     "output_type": "execute_result"
    }
   ],
   "source": [
    "data['addr_state'].value_counts()"
   ]
  },
  {
   "cell_type": "code",
   "execution_count": 39,
   "metadata": {},
   "outputs": [
    {
     "data": {
      "text/plain": [
       "addr_state\n",
       "NORTH-EAST    125653850\n",
       "WEST          119053775\n",
       "SOUTH-EAST    102177275\n",
       "MID-WEST       65144475\n",
       "SOUTH-WEST     48266775\n",
       "Name: funded_amnt, dtype: int64"
      ]
     },
     "execution_count": 39,
     "metadata": {},
     "output_type": "execute_result"
    }
   ],
   "source": [
    "data.groupby(['addr_state'])['funded_amnt'].sum().sort_values(ascending=False)"
   ]
  },
  {
   "cell_type": "code",
   "execution_count": 40,
   "metadata": {},
   "outputs": [
    {
     "data": {
      "text/plain": [
       "Text(0.5,1,'Region Wise Loan funded')"
      ]
     },
     "execution_count": 40,
     "metadata": {},
     "output_type": "execute_result"
    },
    {
     "data": {
      "image/png": "[encoded data removed]",
      "text/plain": [
       "<Figure size 432x288 with 1 Axes>"
      ]
     },
     "metadata": {
      "needs_background": "light"
     },
     "output_type": "display_data"
    }
   ],
   "source": [
    "data.groupby(['addr_state'])['funded_amnt'].sum().sort_values(ascending=False).plot(kind='bar')\n",
    "plt.title(\"Region Wise Loan funded\")"
   ]
  },
  {
   "cell_type": "code",
   "execution_count": 41,
   "metadata": {},
   "outputs": [],
   "source": [
    "#imputing ussue_date"
   ]
  },
  {
   "cell_type": "code",
   "execution_count": 42,
   "metadata": {},
   "outputs": [],
   "source": [
    "data['issue_d']=data['issue_d'].replace(('11-Dec','11-Nov','11-Oct','11-Sep','11-Aug','11-Jul','11-Jun','11-May','11-Apr','11-Mar','11-Feb','11-Jan'),2011)\n",
    "data['issue_d']=data['issue_d'].replace(('10-Dec','10-Nov','10-Oct','10-Sep','10-Aug','10-Jul','10-Jun','10-May','10-Apr','10-Mar','10-Feb','10-Jan'),2010)\n",
    "data['issue_d']=data['issue_d'].replace(('9-Dec','9-Nov','9-Oct','9-Sep','9-Aug','9-Jul','9-Jun','9-May','9-Apr','9-Mar','9-Feb','9-Jan'),2009)\n",
    "data['issue_d']=data['issue_d'].replace(('8-Dec','8-Nov','8-Oct','8-Sep','8-Aug','8-Jul','8-Jun','8-May','8-Apr','8-Mar','8-Feb','8-Jan'),2008)\n",
    "data['issue_d']=data['issue_d'].replace(('7-Dec','7-Nov','7-Oct','7-Sep','7-Aug','7-Jul','7-Jun','7-May','7-Apr','7-Mar','7-Feb','7-Jan'),2007)\n"
   ]
  },
  {
   "cell_type": "code",
   "execution_count": 43,
   "metadata": {},
   "outputs": [
    {
     "data": {
      "text/plain": [
       "array([2011, 2010, 2009, 2008, 2007], dtype=int64)"
      ]
     },
     "execution_count": 43,
     "metadata": {},
     "output_type": "execute_result"
    }
   ],
   "source": [
    "data['issue_d'].unique()"
   ]
  },
  {
   "cell_type": "code",
   "execution_count": 44,
   "metadata": {},
   "outputs": [
    {
     "name": "stdout",
     "output_type": "stream",
     "text": [
      "emp_title 2626\n",
      "[nan 'Ryder' 'AIR RESOURCES BOARD' ... 'Tanks Tavern'\n",
      " 'Halping hands company inc.' 'Homemaker']\n",
      "30659\n",
      "emp_length 1112\n",
      "['More than 9' '0-2 years' '2-5 years' '5-8 years' nan]\n",
      "5\n",
      "annual_inc 4\n",
      "[24000. 30000. 12252. ...  7280. 66624.  6500.]\n",
      "5598\n",
      "desc 13293\n",
      "['  Borrower added on 12/22/11 > I need to upgrade my business technologies.<br>'\n",
      " '  Borrower added on 12/22/11 > I plan to use this money to finance the motorcycle i am looking at. I plan to have it paid off as soon as possible/when i sell my old bike. I only need this money because the deal im looking at is to good to pass up.<br><br>  Borrower added on 12/22/11 > I plan to use this money to finance the motorcycle i am looking at. I plan to have it paid off as soon as possible/when i sell my old bike.I only need this money because the deal im looking at is to good to pass up. I have finished college with an associates degree in business and its takingmeplaces<br>'\n",
      " nan ...\n",
      " 'I need to pay $2,100 for fixing my Volvo :)  Any help appreciated!'\n",
      " \"Hi,   I'm buying  a used car. Anybody on facebook wants to finance me?   Thanks\"\n",
      " 'I need to make several improvements around the house - fix garage, fix back fencing, and misc other.']\n",
      "28964\n",
      "title 13\n",
      "['Computer' 'bike' 'real estate business' ... 'delight' 'Car repair bill'\n",
      " 'Aroundthehouse']\n",
      "21253\n",
      "delinq_2yrs 29\n",
      "[ 0.  2.  3.  1.  4.  6.  5.  8.  7.  9. 11. nan 13.]\n",
      "13\n",
      "earliest_cr_line 29\n",
      "['Jan-85' 'Apr-99' '1-Nov' 'Feb-96' 'Jan-96' '4-Nov' '5-Jul' '7-Jan'\n",
      " '4-Apr' '4-Sep' 'Jan-98' 'Oct-89' '3-Jul' 'May-91' '7-Sep' 'Oct-98'\n",
      " 'Aug-93' '3-Oct' '1-Jan' 'Nov-97' 'Feb-83' 'Jul-85' '3-Apr' '1-Jun'\n",
      " '2-Feb' 'Aug-84' '6-Nov' 'Dec-87' 'Nov-81' 'Feb-97' '5-Apr' '7-Oct'\n",
      " 'Dec-00' '7-Apr' '1-Dec' '3-Jan' 'Mar-94' 'Sep-98' '4-Jun' 'Nov-95'\n",
      " 'Jul-99' 'Jun-95' 'Sep-92' '2-Jan' 'Apr-92' '6-Oct' 'May-00' 'Dec-98'\n",
      " '4-Dec' 'Oct-00' '2-May' '6-May' '2-Jul' '6-Jul' 'May-97' '5-Oct'\n",
      " 'Apr-95' '2-Oct' 'Jan-00' 'Apr-00' 'Dec-94' '5-Sep' 'Dec-84' 'Dec-99'\n",
      " '3-Nov' 'Jun-89' '3-Jun' 'Oct-96' '3-May' '2-Jun' '7-Jun' 'Dec-96'\n",
      " 'Feb-84' '2-Sep' 'Jan-86' 'May-98' 'Jan-97' '5-Jun' 'Feb-90' '4-Mar'\n",
      " 'Jul-95' 'Aug-94' 'Jun-92' 'Mar-97' '6-Apr' 'Apr-90' 'Aug-99' 'Sep-00'\n",
      " '1-Feb' 'Dec-88' 'Feb-99' 'Dec-91' 'Aug-00' '4-Oct' '4-Aug' '5-Feb'\n",
      " '5-Nov' 'Nov-00' '7-May' 'Jan-91' 'Jun-00' '6-Aug' '2-Dec' 'Jun-93'\n",
      " '6-Jun' '4-Feb' 'Dec-90' 'Mar-00' 'Feb-95' '1-Jul' '2-Apr' '6-Sep'\n",
      " 'May-99' 'Aug-98' '5-Dec' '4-May' '1-Oct' 'Jun-83' 'Mar-86' 'Apr-80'\n",
      " '4-Jul' '8-Jul' 'May-96' '4-Jan' '2-Nov' '2-Aug' '1-Aug' 'Mar-91'\n",
      " 'Sep-89' 'Sep-94' '3-Sep' 'Sep-99' '5-Aug' 'Dec-86' 'Nov-98' '6-Feb'\n",
      " 'May-94' '7-Nov' 'Feb-93' 'Nov-91' '5-May' 'Dec-73' '1-May' 'Mar-90'\n",
      " 'Mar-96' 'Oct-79' 'Jun-81' '1-Mar' '1-Apr' 'Jun-99' 'Nov-93' '6-Jan'\n",
      " 'Dec-97' 'Nov-94' 'Jul-97' 'Oct-91' 'Jun-94' '6-Mar' 'Sep-96' 'Apr-91'\n",
      " 'Jul-93' 'Jan-95' 'Sep-87' '3-Mar' 'Oct-99' 'Jul-96' '3-Dec' 'Aug-88'\n",
      " 'Jan-92' 'Mar-98' '7-Feb' 'Aug-82' 'Mar-95' 'Dec-92' 'Jul-98' 'Jul-89'\n",
      " 'May-90' 'Jul-94' '1-Sep' 'Mar-84' '3-Aug' 'Nov-99' '7-Mar' '8-Mar'\n",
      " 'Apr-94' '5-Jan' 'Jul-86' 'Aug-90' 'May-92' 'Jul-00' 'Mar-88' 'May-83'\n",
      " 'Apr-93' 'Jul-78' 'Feb-00' 'Dec-81' 'Mar-92' 'Jan-81' 'Sep-90' 'Jun-98'\n",
      " 'May-93' 'Nov-96' '2-Mar' 'Jan-88' 'Aug-97' 'Aug-87' '8-Aug' 'Oct-94'\n",
      " 'Oct-86' 'Feb-94' 'Jun-96' 'Feb-98' '8-Nov' 'Apr-98' 'Jul-79' 'Jan-93'\n",
      " 'May-87' 'Jul-71' '7-Aug' 'Jun-97' 'Mar-80' '6-Dec' '7-Jul' 'Oct-95'\n",
      " 'Jul-91' 'Jul-92' 'Dec-72' 'Dec-93' 'Jan-99' '3-Feb' 'Apr-97' 'Dec-95'\n",
      " 'Apr-96' 'Jul-90' 'Mar-70' 'Nov-84' 'Apr-84' 'Jul-84' 'Aug-95' 'Mar-99'\n",
      " 'Sep-88' 'Mar-89' 'Mar-87' 'Oct-97' 'Dec-80' 'Jan-94' 'Sep-95' '5-Mar'\n",
      " 'Jan-89' 'Feb-92' 'Jan-90' 'Nov-90' 'Mar-69' 'Jun-75' 'Mar-85' '7-Dec'\n",
      " 'Oct-93' 'Dec-89' 'Sep-80' 'Jun-88' 'May-78' 'Apr-73' 'Aug-89' 'Oct-90'\n",
      " 'Sep-91' 'Feb-82' 'Feb-87' 'Nov-85' 'Jan-84' 'Jul-88' '8-May' 'Oct-85'\n",
      " 'Mar-83' 'Aug-91' 'Sep-86' 'Jun-90' 'Feb-86' 'Sep-97' 'Jun-84' 'Sep-81'\n",
      " 'Apr-86' 'Aug-79' 'Aug-80' 'Nov-92' 'Sep-93' 'Jun-87' 'Sep-82' 'Aug-92'\n",
      " 'Aug-85' 'Jul-83' 'Jun-91' 'Dec-83' 'Jan-87' 'Nov-78' 'Oct-84' 'Aug-96'\n",
      " 'Nov-89' 'Sep-76' 'Nov-86' 'Oct-87' '8-Sep' 'May-77' 'May-86' 'Mar-81'\n",
      " 'Jan-83' 'Nov-76' 'Sep-79' 'Oct-83' 'Sep-62' 'Jun-85' 'May-82' 'Feb-88'\n",
      " 'Oct-92' 'Aug-83' 'Jun-73' 'Apr-85' 'Oct-88' 'Oct-81' 'Sep-68' 'Jul-74'\n",
      " 'Nov-87' 'May-95' 'Feb-91' 'Nov-88' 'Mar-93' '8-Jun' 'Jul-80' 'Dec-82'\n",
      " 'Mar-75' 'Feb-80' 'Apr-88' 'Dec-79' 'Sep-85' 'Sep-71' 'Mar-78' '8-Feb'\n",
      " 'Aug-78' 'Nov-70' 'Jun-79' 'Jun-80' 'Apr-89' 'Sep-83' 'Feb-89' 'Nov-83'\n",
      " 'Jun-86' 'Oct-82' 'Aug-86' 'Oct-80' 'May-88' 'Dec-85' 'Jan-82' 'Sep-77'\n",
      " 'Dec-76' 'Apr-82' 'May-84' '8-Apr' 'Feb-79' '8-Jan' 'Sep-64' 'Jul-87'\n",
      " 'Jan-78' 'May-89' 'Oct-77' 'Dec-75' 'Feb-85' '8-Oct' 'Nov-82' 'May-75'\n",
      " 'May-85' 'Feb-71' 'Jun-77' 'Apr-81' 'May-79' 'Jan-72' 'Sep-67' 'Apr-78'\n",
      " 'Feb-65' 'Apr-83' 'Nov-75' 'Jun-67' 'Mar-74' 'Jul-72' 'Aug-67' 'Apr-71'\n",
      " 'Sep-84' 'May-81' 'Dec-70' 'Oct-73' 'Jan-71' 'Dec-63' 'Apr-74' 'Jan-80'\n",
      " 'Aug-69' 'Apr-75' 'Jul-77' 'Mar-77' 'Nov-69' 'Jan-76' 'Mar-82' 'Apr-87'\n",
      " 'Dec-69' 'May-74' 'Aug-74' 'Jun-72' 'Mar-63' 'Nov-79' 'Aug-75' 'Sep-74'\n",
      " 'Aug-81' 'May-73' 'Sep-73' 'Mar-73' 'Dec-77' 'Oct-76' 'Jan-74' 'Jan-70'\n",
      " 'Aug-68' 'Feb-76' 'Jan-75' 'Oct-72' 'Dec-74' 'Feb-73' 'Nov-65' 'Mar-72'\n",
      " 'Jun-82' 'Jun-74' 'May-65' 'Jun-71' 'Oct-70' 'Apr-76' 'Oct-71' 'Apr-77'\n",
      " 'Sep-78' 'Oct-78' 'Oct-54' 'Feb-81' 'Jan-77' 'Aug-77' 'Dec-78' 'Aug-76'\n",
      " 'Jun-68' 'Jun-78' 'Jun-69' 'May-80' 'Jan-79' 'Oct-65' 'Nov-74' 'Apr-66'\n",
      " 'Jun-76' 'Feb-72' 'May-76' 'Mar-68' 'Mar-76' 'Jul-70' 'Mar-79' 'Jul-76'\n",
      " 'Jul-82' 'Sep-65' 'Apr-67' 'Oct-63' 'Feb-70' 'Jul-73' 'Feb-78' 'Nov-71'\n",
      " 'Aug-72' 'Jul-75' 'Sep-70' 'Jul-81' 'Oct-64' 'Sep-72' 'May-70' 'May-63'\n",
      " 'Feb-69' 'Nov-80' 'Jul-67' 'Apr-70' 'Nov-77' 'Nov-66' 'May-71' 'Apr-79'\n",
      " 'May-72' 'Feb-68' 'Jul-64' 'Nov-67' 'Apr-64' 'Feb-75' 'Jun-59' 'Sep-56'\n",
      " 'Jun-66' 'Jan-46' 'Mar-66' 'Jan-63' 'Dec-50' 'Jul-69' 'Jan-68' 'Nov-73'\n",
      " 'Jun-70' 'Feb-77' 'Feb-74' 'Jan-73' 'Feb-66' 'Dec-61' 'Aug-73' 'Aug-70'\n",
      " 'Sep-69' 'Sep-75' 'Dec-68' 'Nov-54' 'Oct-69' 'Dec-65' 'Apr-72' 'Nov-72'\n",
      " 'Sep-63' 'Apr-69' 'Nov-62' 'Oct-67' 'May-67' 'Nov-61' 'Feb-67' 'Nov-68'\n",
      " 'Oct-75' 'Mar-71' 'Aug-71' 'Dec-66' 'Oct-68' 'Oct-74' 'Nov-63' 'Apr-68'\n",
      " 'May-69' 'Nov-59' nan]\n",
      "531\n",
      "inq_last_6mths 29\n",
      "[ 1.  5.  2.  0.  3.  4.  6.  7.  8.  9. 10. 11. 12. 15. 14. 33. 17. 32.\n",
      " 24. 13. 18. 16. 31. 28. 25. 27. 20. 19. nan]\n",
      "29\n",
      "mths_since_last_delinq 26926\n",
      "[ nan  35.  38.  61.   8.  20.  18.  68.  45.  48.  41.  40.  74.  25.\n",
      "  53.  39.  10.  26.  56.  77.  28.  52.  24.  16.  60.  54.  23.   9.\n",
      "  11.  13.  65.  19.  80.  22.  59.  79.  44.  64.  57.  14.  63.  49.\n",
      "  15.  73.  70.  29.  51.   5.  75.  55.   2.  30.  47.  33.  69.   4.\n",
      "  43.  21.  27.  46.  81.  78.  82.  31.  76.  62.  72.  42.  50.   3.\n",
      "  12.  67.  36.  34.  58.  17.  71.  66.  32.   6.  37.   7.   1.  83.\n",
      "  86. 115.  96. 103. 120. 106.  89. 107.  85.  97.  95.   0.]\n",
      "96\n",
      "open_acc 29\n",
      "[ 3.  2. 10. 15.  9.  7.  4. 11. 14. 12. 20.  8.  6. 17.  5. 13. 16. 30.\n",
      " 21. 18. 19. 27. 23. 34. 25. 22. 24. 26. 32. 28. 29. 33. 31. 39. 35. 36.\n",
      " 38. 44. 41. 42.  1. 46. 37. 47. nan]\n",
      "45\n",
      "pub_rec 29\n",
      "[ 0.  1.  2.  3.  4.  5. nan]\n",
      "7\n",
      "revol_util 90\n",
      "['83.70' '9.40' '98.50' ... '103.50' '105.30' '105.70']\n",
      "1120\n",
      "total_acc 29\n",
      "[ 9.  4. 10. 37. 38. 12. 11. 13.  3. 23. 34. 29. 28. 42. 14. 22. 21. 17.\n",
      "  7. 31. 44. 26. 16.  6. 18. 27. 24. 25. 40. 35.  8. 20. 15. 19. 36. 51.\n",
      " 32. 30. 33. 46.  5. 61. 56. 50. 41. 39. 79. 62. 43. 47. 53. 45. 60. 55.\n",
      " 52. 58. 54. 57. 49. 63. 48. 59. 77. 87. 75. 72. 64. 67. 78. 76. 74. 66.\n",
      " 81. 90. 80. 71. 69. 73. 70. 68. 65.  2.  1. nan]\n",
      "84\n",
      "last_pymnt_d 83\n",
      "['15-Jan' '13-Apr' '14-Jun' '17-Jan' '16-May' '12-Apr' '12-Nov' '13-Jun'\n",
      " '13-Sep' '12-Jul' '13-Oct' '13-May' '15-Feb' '15-Aug' '12-Oct' '12-Sep'\n",
      " nan '12-Dec' '14-Dec' '13-Aug' '13-Nov' '14-Jan' '14-Apr' '14-Aug'\n",
      " '14-Oct' '12-Aug' '14-Jul' '13-Jul' '16-Jan' '16-Feb' '15-Apr' '14-Feb'\n",
      " '14-Sep' '12-Jun' '13-Feb' '16-Jun' '13-Mar' '14-May' '15-Mar' '13-Jan'\n",
      " '13-Dec' '12-Feb' '14-Mar' '15-Sep' '15-Nov' '16-Mar' '12-Jan' '15-Oct'\n",
      " '16-Dec' '14-Nov' '12-Mar' '12-May' '16-Aug' '16-Jul' '16-Oct' '15-Dec'\n",
      " '15-Jun' '17-Feb' '16-Sep' '16-Nov' '15-May' '15-Jul' '16-Apr' '17-Apr'\n",
      " '11-Dec' '11-Nov' '11-Oct' '11-Sep' '11-Aug' '11-Jul' '11-Jun' '11-May'\n",
      " '11-Apr' '11-Mar' '11-Feb' '11-Jan' '10-Dec' '10-Nov' '10-Oct' '10-Sep'\n",
      " '10-Aug' '10-Jul' '10-Jun' '10-May' '10-Apr' '10-Mar' '10-Feb' '10-Jan'\n",
      " '9-Dec' '9-Nov' '9-Oct' '9-Sep' '9-Aug' '9-Jul' '9-Jun' '9-May' '9-Apr'\n",
      " '9-Mar' '9-Feb' '9-Jan' '8-Dec' '8-Oct' '8-Aug' '8-Jul' '8-Sep' '8-Jun'\n",
      " '8-May' '8-Nov' '8-Apr' '8-Mar' '8-Feb' '8-Jan' '7-Dec']\n",
      "113\n"
     ]
    },
    {
     "name": "stdout",
     "output_type": "stream",
     "text": [
      "last_credit_pull_d 4\n",
      "['18-Dec' '16-Oct' '17-Jun' '16-Apr' '18-Apr' '17-Feb' '14-Dec' '16-Dec'\n",
      " '18-Nov' '17-Apr' '18-Oct' '18-Sep' '14-May' '15-Jul' '16-Feb' '19-Apr'\n",
      " '18-Jan' '14-Mar' '12-Sep' '19-Feb' '15-Jan' '18-Mar' '17-Jan' '18-Aug'\n",
      " '18-Jun' '19-Mar' '15-Dec' '12-Jun' '19-Jan' '18-Jul' '15-Mar' '14-Sep'\n",
      " '16-Jan' '14-Apr' '14-Oct' '18-Feb' '14-Feb' '15-Nov' '14-Jul' '12-Dec'\n",
      " '13-Feb' '17-Jul' '16-Jun' '17-Oct' '16-Jul' '15-Jun' '18-May' '12-Feb'\n",
      " '13-Nov' '16-Nov' '15-Oct' '16-May' '17-Nov' '12-Apr' '17-Aug' '15-Sep'\n",
      " '16-Mar' '13-May' '14-Jun' '12-Aug' '13-Sep' '17-Sep' '12-Jan' '14-Aug'\n",
      " '13-Oct' '17-May' '17-Mar' '12-May' '16-Aug' '12-Jul' '14-Jan' '13-Jun'\n",
      " '17-Dec' '15-Aug' '13-Dec' '14-Nov' '16-Sep' '12-Nov' '13-Mar' '13-Apr'\n",
      " '15-May' '15-Apr' '15-Feb' '13-Jul' '12-Mar' '13-Aug' '12-Oct' '11-Nov'\n",
      " '11-Dec' '11-Oct' '11-Sep' '13-Jan' '11-Aug' '11-Jul' '11-Jun' '11-May'\n",
      " '11-Apr' '11-Mar' '11-Feb' '11-Jan' '10-Dec' '10-Nov' '10-Oct' nan\n",
      " '10-Sep' '10-Aug' '10-Jul' '10-Jun' '10-May' '10-Apr' '10-Mar' '10-Feb'\n",
      " '7-Aug' '10-Jan' '9-Dec' '9-Nov' '9-Oct' '9-Sep' '9-Jul' '9-Aug' '9-May'\n",
      " '9-Jun' '9-Apr' '9-Mar' '9-Feb' '8-Dec' '9-Jan' '8-Jun' '8-Sep' '8-Aug'\n",
      " '8-Mar' '8-Oct' '8-Feb' '8-Jan' '7-Dec' '8-Jul' '7-Oct' '7-Sep' '7-Jun'\n",
      " '7-May' '7-Jul' '7-Nov']\n",
      "142\n",
      "collections_12_mths_ex_med 145\n",
      "[ 0. nan]\n",
      "2\n",
      "acc_now_delinq 29\n",
      "[ 0.  1. nan]\n",
      "3\n",
      "chargeoff_within_12_mths 145\n",
      "[ 0. nan]\n",
      "2\n",
      "delinq_amnt 29\n",
      "[   0.   nan   27. 6053.]\n",
      "4\n",
      "pub_rec_bankruptcies 1365\n",
      "[ 0.  1.  2. nan]\n",
      "4\n",
      "tax_liens 105\n",
      "[ 0. nan  1.]\n",
      "3\n"
     ]
    }
   ],
   "source": [
    "for i in data.columns:\n",
    "    if data[i].isnull().sum()>0:\n",
    "        print(i,data[i].isnull().sum())\n",
    "        print(data[i].unique())\n",
    "        print(len(data[i].unique()))"
   ]
  },
  {
   "cell_type": "code",
   "execution_count": 45,
   "metadata": {},
   "outputs": [
    {
     "name": "stdout",
     "output_type": "stream",
     "text": [
      "loan_amnt : [ 5000  2500  2400 10000  3000  7000  5600  5375  6500 12000  9000  1000\n",
      "  3600  6000  9200 20250 21000 15000  4000  8500  4375 31825 12400 10800\n",
      " 12500  9600  4400 14000 11000 25600 16000  7100 13000 17500 17675  8000\n",
      "  3500 16425  8200 20975  6400 14400  7250 18000 35000 11800  4500 10500\n",
      " 15300 20000  6200  7200  9500 18825 24000  2100  5500 26800 25000 19750\n",
      " 13650 28000 10625  8850  6375 11100  4200  8875 13500 21600  8450 13475\n",
      " 22000  7325  7750 13350 22475  8400 13250  7350 11500 29500  2000 11625\n",
      " 15075  5300  8650  7400 24250 26000  1500 19600  4225 16500 15600 14125\n",
      " 13200 12300  1400  3200 11875  1800 23200  4800  7300 10400  6600 30000\n",
      "  4475  6300  8250  9875 21500  7800  9750 15550 17000  7500  5800  8050\n",
      "  5400  4125  9800 15700  9900  6250 10200 23000 25975 21250 33425  8125\n",
      " 18800 19200 12875  2625 11300  4100 18225 18500 16800  2200 14050 16100\n",
      " 10525 19775 14500 11700  4150 12375  1700 22250 11200 22500 15900  3150\n",
      " 18550  8575  7700 24500 22200 21400  9400 16950 22400  5825  7650 20675\n",
      " 27050 20500 12800 27575  7600 29000  9575 14575  7125 10700 10375  3050\n",
      " 27000 28625 14100 20050 24925 13600 26400  7150 32000 15500 17475  2250\n",
      " 17050  3250 22750  1200  5900 12600  6750 17250 19075 17200 13225 11775\n",
      " 16400 10075  9350  8075 15625 20125  8300  2425  6950  5350  5875  9450\n",
      " 19000 20400 21650 20300  2300 24575  5850  4750  5275  9175 34475 10050\n",
      " 19400 18200  8800 34000 19500  5200 11900 29100 25850  3300 12200 22575\n",
      "  7175 18250 16750 12950  6350 14750  6625  6900 18650  9250 22800 27300\n",
      " 12250  4350 21200  2700  6025  3825  5325 14150  1600  2800 18975  2575\n",
      "  5450  3800  2125 14650 11250 31000  6075  8475  3625 31300  4250 12650\n",
      " 27600 13150  4300 10275 23600  7875 14550  9925 15850  1325  6325 29700\n",
      " 15200 28100 15250  6800 11325 13975 13800  3100  3975 25450  3575 33600\n",
      " 23700 28200  6475 27700 17375 15800 17625 16675  5250 22950  1950  4650\n",
      " 10250  6100  8325  4850  9425 12700 25475 14850 14300 33000  5150 21625\n",
      "  3775 21575 16250  8375 18725 11125  3525 19800  9300 19125  5575  1450\n",
      " 12900 10150 20450 23500 16600  1300  6925 14675 11550 17400  1100  3400\n",
      " 12775  5050 12100 26375  6975 26300  3125 23325 11600  5100 10175 18400\n",
      " 30750 16550  5650 16450 18950  3650 33950 10125 16775  5700 20200 10600\n",
      "  3725 19425 25900 23800  4025  2600  8900 10900 17600 14825  7925 14950\n",
      "  6700  8600  1925 30500  4900 15575  3175 14800 32275  5750 14600 25200\n",
      "  6550 30400 22900  6850  4600 11425 29850 10675  6650 10775 17325 27250\n",
      "  3700  6450 20800 13575 29275  4725 24800 15750 17100 15875 10925  4950\n",
      " 10575  2850 32875 21100 11050 20375  9325  9375  7475 22125 27525 25500\n",
      " 17750  8675  7450 24625 17900 12075  6725 24400  5225 14075 17175  9475\n",
      "  9975 20900 12150 17725 15350  4925  4550 18750 15125 10950 12475  2750\n",
      "  4625 12175  7575 23525 12350 17950  9525  8975 11975 12850 19850 21850\n",
      "  4425 32250  2550 11400 21725 23100 13700  9950 21750 13750 12025 23400\n",
      " 14975 19700 27500  3900 14725 17800  5175 15025 29550 23850 31500  9100\n",
      " 27400 23675  9825 16200 11650 18875 29175  3950  2050 19950 12750 24375\n",
      "  2875 25875 16275 10300 17450  3450  1825 13100 23275  8700  3675  8150\n",
      " 23975  3350  7075  8625 31800 26200 34675 11025  7850 14175  9150 19925\n",
      " 14275 25400 17825 16875 21800 14475 14225 10225 10650 12725 31400  1550\n",
      " 31700 31200  1875 16300 12550 11725 22600 26500  6225  4450  3875 13275\n",
      " 34525 31025  6775 19450  2900  2450 27200 21300  4700  7425 19575 31150\n",
      " 19100 30100 24600 32350  1900 29300  2350 15950 13300  2975 28250  8100\n",
      " 28600  6425  4050 23450 32400 13675 21350  9050  2675  5025  5950 12625\n",
      " 29800  1750 10825 24700 13125  6125 26850 28800  7275  6825 14775 10975\n",
      " 20950  3850 28500 31325 11750 15825  7525  3550  7950 13400  3375  1250\n",
      " 29600 22350  1850 17850 17875  7550  6175 30800 21125 30225  3750 10025\n",
      " 14350  7775 33500 18900  8025  5125 13775  3075 29900 12050 11525  5550\n",
      "  5975 32500 22100 25300 14700  3325  5075  5625 27175 11575 16325 24200\n",
      " 15050  5425 17700 12450 19725 19550  3025 22875 23075 15450 10750  4325\n",
      "  3275  8175 20700  1775  4775  8225  4575 15775 19475 14200 21225 17225\n",
      " 12425  7900 14525  2650  8275 13325 30600  6275  4075  1625  1275 13075\n",
      " 23750 24650 14250  8825  5775  8350 19150  9725 18575  8725 16050 26250\n",
      " 16075  6150  8750 11075 10875 16350  2275  3925 11375  4275 18325  9650\n",
      "  2725 10425  6575  2075 13175  9550 12675 15425 18300 18600  5525 10550\n",
      " 22325 15175 12225 12525 28750 15650 11450 23350  1525 31725 13625 32775\n",
      " 20600  8550 15975  9775 13425  1050  2950 12925 29375 12325  9075  1350\n",
      " 21700 15400  4975 11275  7725  9225  2325 13725  8775 19250 14900 34800\n",
      " 17300  9700  2150 10100 10350  2825 17975  1650 15275  7975  2925  2525\n",
      "  2225  5725 23425  4875  2475  3425 16700  2775 13050 34200  5925 26025\n",
      " 16225  9275 11350 21450 10850  7225  1425  5475 19300  7050 24175  1225\n",
      " 13850 32525 17075  1375  1675 18275  9125 33250 16525 11850 22300  2375\n",
      "  7675  8525 31050  4525  7025 14625 13375  4675 25375 24975 12825 18150\n",
      " 18050  9850 14875 17425 16725 13550  9625 15150 19875  1475 22650 17150\n",
      "  6875  7375  5675  7625  6525  3225  6675  1075 15675 17275 11475 12975\n",
      " 15325  1125  8950 11675 12275  3475 21425 18125 23050 11175 10450 21825\n",
      " 10475 20150 24750 13900  4175 24100 17925 24150 19975 19900 13950 12125\n",
      " 11225 23475 19650 13450 10725  1150 20475 17525   500   725 23575   700\n",
      "   950 19275   900   750 17350   800 10325 13025 22550 24950  1025   600\n",
      " 13925 20825 15100 22725  6050   925   550 13525   850 20425] 898\n",
      "funded_amnt : [5000 2500 2400 ...  925  550  850] 1051\n",
      "funded_amnt_inv : [4975.        2500.        2400.        ...  899.99576    749.9994052\n",
      " 1099.996405 ] 9244\n",
      "term : ['36' '60'] 2\n",
      "int_rate : ['10.65' '15.27' '15.96' '13.49' '12.69' '7.90' '18.64' '21.28' '14.65'\n",
      " '9.91' '16.29' '6.03' '11.71' '12.42' '14.27' '16.77' '7.51' '8.90'\n",
      " '18.25' '6.62' '19.91' '17.27' '17.58' '21.67' '19.42' '22.06' '20.89'\n",
      " '20.30' '23.91' '19.03' '23.52' '23.13' '22.74' '22.35' '24.11' '6.00'\n",
      " '22.11' '7.49' '11.99' '5.99' '10.99' '9.99' '18.79' '11.49' '8.49'\n",
      " '15.99' '16.49' '6.99' '12.99' '15.23' '14.79' '5.42' '10.59' '17.49'\n",
      " '15.62' '21.36' '19.29' '13.99' '18.39' '16.89' '17.99' '20.62' '20.99'\n",
      " '22.85' '19.69' '20.25' '23.22' '21.74' '22.48' '23.59' '12.62' '18.07'\n",
      " '11.63' '7.91' '7.42' '11.14' '20.20' '12.12' '19.39' '16.11' '17.54'\n",
      " '22.64' '13.84' '16.59' '17.19' '12.87' '20.69' '9.67' '21.82' '19.79'\n",
      " '18.49' '22.94' '24.59' '24.40' '21.48' '14.82' '14.17' '7.29' '17.88'\n",
      " '20.11' '16.02' '17.51' '13.43' '14.91' '13.06' '15.28' '15.65' '17.14'\n",
      " '11.11' '10.37' '16.40' '7.66' '10.00' '18.62' '10.74' '5.79' '6.92'\n",
      " '9.63' '14.54' '12.68' '19.36' '13.80' '18.99' '21.59' '20.85' '21.22'\n",
      " '19.74' '20.48' '6.91' '12.23' '12.61' '10.36' '6.17' '6.54' '9.25'\n",
      " '16.69' '15.95' '8.88' '13.35' '9.62' '16.32' '12.98' '14.83' '13.72'\n",
      " '14.09' '14.46' '20.03' '17.80' '15.20' '15.57' '18.54' '19.66' '17.06'\n",
      " '18.17' '17.43' '20.40' '20.77' '18.91' '21.14' '17.44' '13.23' '7.88'\n",
      " '11.12' '13.61' '10.38' '17.56' '17.93' '15.58' '13.98' '14.84' '15.21'\n",
      " '6.76' '6.39' '11.86' '7.14' '14.35' '16.82' '10.75' '14.72' '16.45'\n",
      " '18.67' '20.53' '19.41' '20.16' '21.27' '18.30' '19.04' '20.90' '21.64'\n",
      " '12.73' '10.25' '13.11' '10.62' '13.48' '14.59' '16.07' '15.70' '9.88'\n",
      " '11.36' '15.33' '13.85' '14.96' '14.22' '7.74' '13.22' '13.57' '8.59'\n",
      " '17.04' '14.61' '8.94' '12.18' '11.83' '11.48' '16.35' '13.92' '15.31'\n",
      " '14.26' '19.13' '12.53' '16.70' '16.00' '17.39' '18.09' '7.40' '18.43'\n",
      " '17.74' '7.05' '20.52' '20.86' '19.47' '18.78' '21.21' '19.82' '20.17'\n",
      " '13.16' '8.00' '13.47' '12.21' '16.63' '9.32' '12.84' '11.26' '15.68'\n",
      " '15.37' '10.95' '11.89' '14.11' '13.79' '7.68' '11.58' '7.37' '16.95'\n",
      " '15.05' '18.53' '14.74' '14.42' '18.21' '17.26' '18.84' '17.90' '19.16'\n",
      " '13.67' '9.38' '12.72' '13.36' '11.46' '10.51' '9.07' '13.04' '11.78'\n",
      " '12.41' '10.83' '12.09' '17.46' '14.30' '17.15' '15.25' '10.20' '15.88'\n",
      " '14.93' '16.20' '18.72' '14.62' '8.32' '14.12' '10.96' '10.33' '10.01'\n",
      " '12.86' '11.28' '11.59' '8.63' '12.54' '12.22' '11.91' '15.38' '16.96'\n",
      " '13.17' '9.70' '16.33' '14.75' '15.07' '16.01' '10.71' '10.64' '9.76'\n",
      " '11.34' '10.39' '13.87' '11.03' '11.66' '13.24' '10.08' '9.45' '13.55'\n",
      " '12.29' '11.97' '12.92' '15.45' '14.50' '14.18' '15.13' '16.08' '15.76'\n",
      " '17.03' '17.34' '16.71' '9.83' '13.62' '10.46' '9.51' '9.20' '13.30'\n",
      " '10.78' '7.75' '8.38' '12.36' '12.67' '11.72' '13.93' '8.07' '7.43'\n",
      " '12.04' '14.25' '14.88' '11.41' '11.09' '10.14' '16.15' '15.83' '7.12'\n",
      " '18.36' '9.64' '9.96' '11.22' '9.01' '9.33' '11.54' '12.17' '12.80'\n",
      " '14.38' '13.75' '14.70' '12.49' '14.07' '10.91' '13.12' '10.28' '8.70'\n",
      " '14.67' '15.01' '17.78' '16.83' '17.59' '14.43' '16.65' '17.91' '17.28'\n",
      " '18.86' '18.61' '17.66' '18.29' '17.97' '18.04' '14.57' '17.72' '17.09'\n",
      " '15.51' '16.46' '17.41' '17.22' '16.91' '16.28' '17.86'] 394\n",
      "installment : [162.87  59.83  84.33 ...  32.11  80.69 204.84] 16459\n"
     ]
    },
    {
     "name": "stdout",
     "output_type": "stream",
     "text": [
      "grade : ['B' 'C' 'A' 'E' 'F' 'D' 'G'] 7\n",
      "sub_grade : ['B2' 'C4' 'C5' 'C1' 'B5' 'A4' 'E1' 'F2' 'C3' 'B1' 'D1' 'A1' 'B3' 'B4'\n",
      " 'C2' 'D2' 'A3' 'A5' 'D5' 'A2' 'E4' 'D3' 'D4' 'F3' 'E3' 'F4' 'F1' 'E5'\n",
      " 'G4' 'E2' 'G3' 'G2' 'G1' 'F5' 'G5'] 35\n",
      "emp_title : [nan 'Ryder' 'AIR RESOURCES BOARD' ... 'Tanks Tavern'\n",
      " 'Halping hands company inc.' 'Homemaker'] 30659\n",
      "emp_length : ['More than 9' '0-2 years' '2-5 years' '5-8 years' nan] 5\n",
      "home_ownership : ['RENT' 'OWN' 'MORTGAGE' 'OTHER' 'NONE'] 5\n",
      "annual_inc : [24000. 30000. 12252. ...  7280. 66624.  6500.] 5598\n",
      "verification_status : ['Verified' 'Source Verified' 'Not Verified'] 3\n",
      "issue_d : [2011 2010 2009 2008 2007] 5\n",
      "loan_status : ['Fully Paid' 'Charged Off'] 2\n",
      "pymnt_plan : ['n'] 1\n",
      "desc : ['  Borrower added on 12/22/11 > I need to upgrade my business technologies.<br>'\n",
      " '  Borrower added on 12/22/11 > I plan to use this money to finance the motorcycle i am looking at. I plan to have it paid off as soon as possible/when i sell my old bike. I only need this money because the deal im looking at is to good to pass up.<br><br>  Borrower added on 12/22/11 > I plan to use this money to finance the motorcycle i am looking at. I plan to have it paid off as soon as possible/when i sell my old bike.I only need this money because the deal im looking at is to good to pass up. I have finished college with an associates degree in business and its takingmeplaces<br>'\n",
      " nan ...\n",
      " 'I need to pay $2,100 for fixing my Volvo :)  Any help appreciated!'\n",
      " \"Hi,   I'm buying  a used car. Anybody on facebook wants to finance me?   Thanks\"\n",
      " 'I need to make several improvements around the house - fix garage, fix back fencing, and misc other.'] 28964\n",
      "purpose : ['credit_card' 'car' 'small_business' 'other' 'wedding'\n",
      " 'debt_consolidation' 'home_improvement' 'major_purchase' 'medical'\n",
      " 'moving' 'vacation' 'house' 'renewable_energy' 'educational'] 14\n",
      "title : ['Computer' 'bike' 'real estate business' ... 'delight' 'Car repair bill'\n",
      " 'Aroundthehouse'] 21253\n",
      "zip_code : ['860xx' '309xx' '606xx' '917xx' '972xx' '852xx' '280xx' '900xx' '958xx'\n",
      " '774xx' '853xx' '913xx' '245xx' '951xx' '641xx' '921xx' '067xx' '890xx'\n",
      " '770xx' '335xx' '799xx' '605xx' '103xx' '150xx' '326xx' '564xx' '141xx'\n",
      " '080xx' '330xx' '974xx' '934xx' '405xx' '946xx' '445xx' '850xx' '604xx'\n",
      " '292xx' '088xx' '180xx' '029xx' '700xx' '010xx' '441xx' '104xx' '061xx'\n",
      " '616xx' '947xx' '914xx' '765xx' '980xx' '017xx' '752xx' '787xx' '077xx'\n",
      " '540xx' '225xx' '440xx' '437xx' '559xx' '912xx' '325xx' '300xx' '923xx'\n",
      " '352xx' '013xx' '146xx' '074xx' '786xx' '937xx' '331xx' '115xx' '191xx'\n",
      " '114xx' '908xx' '902xx' '992xx' '750xx' '950xx' '329xx' '226xx' '614xx'\n",
      " '802xx' '672xx' '083xx' '100xx' '926xx' '931xx' '712xx' '060xx' '707xx'\n",
      " '342xx' '895xx' '430xx' '919xx' '996xx' '891xx' '935xx' '801xx' '928xx'\n",
      " '233xx' '927xx' '970xx' '211xx' '303xx' '070xx' '194xx' '263xx' '403xx'\n",
      " '301xx' '553xx' '993xx' '312xx' '432xx' '602xx' '216xx' '151xx' '971xx'\n",
      " '305xx' '334xx' '050xx' '129xx' '925xx' '483xx' '760xx' '961xx' '200xx'\n",
      " '085xx' '981xx' '601xx' '117xx' '063xx' '920xx' '543xx' '775xx' '570xx'\n",
      " '038xx' '221xx' '985xx' '113xx' '275xx' '236xx' '148xx' '028xx' '450xx'\n",
      " '532xx' '729xx' '321xx' '959xx' '941xx' '955xx' '217xx' '880xx' '660xx'\n",
      " '062xx' '193xx' '761xx' '857xx' '306xx' '271xx' '142xx' '956xx' '983xx'\n",
      " '945xx' '109xx' '112xx' '187xx' '630xx' '435xx' '488xx' '287xx' '705xx'\n",
      " '592xx' '318xx' '549xx' '212xx' '347xx' '274xx' '265xx' '785xx' '027xx'\n",
      " '089xx' '813xx' '069xx' '260xx' '201xx' '349xx' '322xx' '075xx' '124xx'\n",
      " '940xx' '967xx' '111xx' '773xx' '997xx' '076xx' '538xx' '021xx' '304xx'\n",
      " '234xx' '308xx' '809xx' '071xx' '363xx' '296xx' '240xx' '830xx' '011xx'\n",
      " '622xx' '207xx' '140xx' '336xx' '619xx' '208xx' '618xx' '014xx' '644xx'\n",
      " '283xx' '276xx' '631xx' '243xx' '960xx' '181xx' '922xx' '224xx' '975xx'\n",
      " '105xx' '986xx' '218xx' '652xx' '782xx' '410xx' '480xx' '328xx' '719xx'\n",
      " '982xx' '065xx' '081xx' '954xx' '346xx' '442xx' '025xx' '122xx' '173xx'\n",
      " '282xx' '120xx' '082xx' '766xx' '229xx' '840xx' '744xx' '933xx' '451xx'\n",
      " '907xx' '728xx' '159xx' '333xx' '293xx' '701xx' '984xx' '811xx' '597xx'\n",
      " '957xx' '165xx' '720xx' '119xx' '359xx' '195xx' '084xx' '969xx' '924xx'\n",
      " '531xx' '716xx' '337xx' '841xx' '323xx' '740xx' '179xx' '805xx' '285xx'\n",
      " '551xx' '658xx' '944xx' '232xx' '905xx' '600xx' '327xx' '711xx' '906xx'\n",
      " '444xx' '856xx' '064xx' '777xx' '072xx' '554xx' '145xx' '537xx' '152xx'\n",
      " '847xx' '295xx' '829xx' '320xx' '131xx' '939xx' '572xx' '281xx' '550xx'\n",
      " '078xx' '452xx' '778xx' '313xx' '851xx' '784xx' '804xx' '571xx' '210xx'\n",
      " '988xx' '400xx' '995xx' '023xx' '158xx' '657xx' '016xx' '019xx' '290xx'\n",
      " '190xx' '366xx' '066xx' '991xx' '968xx' '721xx' '439xx' '640xx' '546xx'\n",
      " '024xx' '751xx' '431xx' '741xx' '904xx' '156xx' '316xx' '299xx' '087xx'\n",
      " '739xx' '949xx' '261xx' '073xx' '222xx' '244xx' '617xx' '018xx' '286xx'\n",
      " '759xx' '952xx' '930xx' '911xx' '220xx' '731xx' '730xx' '262xx' '338xx'\n",
      " '160xx' '031xx' '054xx' '223xx' '272xx' '882xx' '557xx' '797xx' '725xx'\n",
      " '130xx' '030xx' '206xx' '324xx' '170xx' '291xx' '161xx' '647xx' '916xx'\n",
      " '665xx' '209xx' '915xx' '110xx' '086xx' '484xx' '844xx' '020xx' '354xx'\n",
      " '448xx' '978xx' '757xx' '953xx' '577xx' '315xx' '664xx' '186xx' '182xx'\n",
      " '574xx' '800xx' '197xx' '137xx' '314xx' '755xx' '973xx' '603xx' '481xx'\n",
      " '780xx' '894xx' '341xx' '361xx' '178xx' '068xx' '565xx' '611xx' '288xx'\n",
      " '443xx' '662xx' '874xx' '560xx' '535xx' '499xx' '162xx' '756xx' '168xx'\n",
      " '827xx' '541xx' '615xx' '989xx' '037xx' '863xx' '339xx' '367xx' '273xx'\n",
      " '052xx' '623xx' '416xx' '648xx' '918xx' '436xx' '898xx' '674xx' '496xx'\n",
      " '294xx' '762xx' '128xx' '903xx' '932xx' '650xx' '246xx' '633xx' '666xx'\n",
      " '228xx' '015xx' '302xx' '573xx' '118xx' '998xx' '767xx' '490xx' '350xx'\n",
      " '591xx' '254xx' '566xx' '596xx' '637xx' '032xx' '763xx' '871xx' '494xx'\n",
      " '402xx' '545xx' '184xx' '458xx' '239xx' '977xx' '297xx' '284xx' '144xx'\n",
      " '748xx' '310xx' '147xx' '153xx' '544xx' '948xx' '576xx' '976xx' '107xx'\n",
      " '846xx' '344xx' '351xx' '754xx' '910xx' '656xx' '357xx' '791xx' '493xx'\n",
      " '855xx' '278xx' '125xx' '175xx' '530xx' '171xx' '703xx' '620xx' '438xx'\n",
      " '626xx' '307xx' '636xx' '319xx' '116xx' '645xx' '708xx' '816xx' '625xx'\n",
      " '133xx' '612xx' '238xx' '166xx' '231xx' '241xx' '826xx' '783xx' '793xx'\n",
      " '646xx' '188xx' '108xx' '653xx' '057xx' '796xx' '990xx' '219xx' '724xx'\n",
      " '456xx' '214xx' '237xx' '737xx' '121xx' '199xx' '548xx' '453xx' '704xx'\n",
      " '368xx' '828xx' '598xx' '136xx' '610xx' '433xx' '722xx' '743xx' '810xx'\n",
      " '706xx' '235xx' '139xx' '613xx' '454xx' '317xx' '746xx' '446xx' '486xx'\n",
      " '033xx' '279xx' '407xx' '803xx' '794xx' '457xx' '189xx' '196xx' '539xx'\n",
      " '424xx' '492xx' '482xx' '667xx' '845xx' '608xx' '401xx' '362xx' '627xx'\n",
      " '717xx' '356xx' '607xx' '963xx' '198xx' '936xx' '713xx' '227xx' '883xx'\n",
      " '563xx' '893xx' '079xx' '806xx' '360xx' '172xx' '422xx' '768xx' '034xx'\n",
      " '735xx' '870xx' '012xx' '594xx' '215xx' '628xx' '749xx' '101xx' '814xx'\n",
      " '255xx' '745xx' '495xx' '132xx' '183xx' '864xx' '106xx' '663xx' '943xx'\n",
      " '094xx' '177xx' '365xx' '897xx' '776xx' '843xx' '421xx' '253xx' '795xx'\n",
      " '727xx' '528xx' '270xx' '808xx' '277xx' '447xx' '358xx' '815xx' '250xx'\n",
      " '230xx' '790xx' '884xx' '242xx' '534xx' '404xx' '397xx' '434xx' '671xx'\n",
      " '655xx' '675xx' '053xx' '859xx' '126xx' '102xx' '256xx' '673xx' '489xx'\n",
      " '258xx' '423xx' '497xx' '788xx' '127xx' '176xx' '380xx' '058xx' '635xx'\n",
      " '498xx' '820xx' '599xx' '822xx' '638xx' '723xx' '449xx' '420xx' '157xx'\n",
      " '726xx' '185xx' '527xx' '298xx' '769xx' '257xx' '881xx' '575xx' '624xx'\n",
      " '134xx' '877xx' '781xx' '718xx' '670xx' '138xx' '026xx' '678xx' '398xx'\n",
      " '411xx' '149xx' '247xx' '875xx' '838xx' '651xx' '364xx' '203xx' '427xx'\n",
      " '629xx' '355xx' '174xx' '547xx' '567xx' '558xx' '135xx' '035xx' '999xx'\n",
      " '634xx' '455xx' '143xx' '154xx' '562xx' '779xx' '561xx' '734xx' '789xx'\n",
      " '812xx' '268xx' '051xx' '865xx' '406xx' '661xx' '758xx' '676xx' '491xx'\n",
      " '267xx' '609xx' '595xx' '259xx' '163xx' '264xx' '409xx' '376xx' '471xx'\n",
      " '375xx' '747xx' '123xx' '714xx' '590xx' '639xx' '412xx' '425xx' '022xx'\n",
      " '369xx' '164xx' '825xx' '266xx' '096xx' '487xx' '251xx' '593xx' '169xx'\n",
      " '413xx' '155xx' '764xx' '710xx' '408xx' '668xx' '056xx' '669xx' '167xx'\n",
      " '542xx' '679xx' '462xx' '792xx' '824xx' '249xx' '798xx' '370xx' '485xx'\n",
      " '654xx' '289xx' '807xx' '252xx' '556xx' '353xx' '677xx' '090xx' '371xx'\n",
      " '831xx' '736xx' '007xx' '332xx' '468xx' '461xx' '093xx' '248xx' '463xx'\n",
      " '391xx' '381xx' '415xx' '378xx' '414xx' '396xx' '836xx' '044xx' '392xx'\n",
      " '772xx' '374xx' '823xx' '395xx' '394xx' '965xx' '390xx' '388xx' '386xx'\n",
      " '040xx' '385xx' '379xx' '681xx' '837xx' '373xx' '753xx' '834xx' '383xx'\n",
      " '384xx' '372xx' '833xx' '522xx' '523xx' '474xx' '465xx' '689xx' '473xx'\n",
      " '041xx' '685xx' '479xx' '469xx' '738xx' '418xx' '204xx' '059xx' '878xx'\n",
      " '460xx' '426xx' '514xx' '500xx' '503xx' '832xx' '691xx' '470xx' '036xx'] 837\n",
      "addr_state : ['SOUTH-WEST' 'SOUTH-EAST' 'MID-WEST' 'WEST' 'NORTH-EAST'] 5\n",
      "dti : [27.65  1.    8.72 ... 28.16 29.41 28.43] 2894\n",
      "delinq_2yrs : [ 0.  2.  3.  1.  4.  6.  5.  8.  7.  9. 11. nan 13.] 13\n",
      "earliest_cr_line : ['Jan-85' 'Apr-99' '1-Nov' 'Feb-96' 'Jan-96' '4-Nov' '5-Jul' '7-Jan'\n",
      " '4-Apr' '4-Sep' 'Jan-98' 'Oct-89' '3-Jul' 'May-91' '7-Sep' 'Oct-98'\n",
      " 'Aug-93' '3-Oct' '1-Jan' 'Nov-97' 'Feb-83' 'Jul-85' '3-Apr' '1-Jun'\n",
      " '2-Feb' 'Aug-84' '6-Nov' 'Dec-87' 'Nov-81' 'Feb-97' '5-Apr' '7-Oct'\n",
      " 'Dec-00' '7-Apr' '1-Dec' '3-Jan' 'Mar-94' 'Sep-98' '4-Jun' 'Nov-95'\n",
      " 'Jul-99' 'Jun-95' 'Sep-92' '2-Jan' 'Apr-92' '6-Oct' 'May-00' 'Dec-98'\n",
      " '4-Dec' 'Oct-00' '2-May' '6-May' '2-Jul' '6-Jul' 'May-97' '5-Oct'\n",
      " 'Apr-95' '2-Oct' 'Jan-00' 'Apr-00' 'Dec-94' '5-Sep' 'Dec-84' 'Dec-99'\n",
      " '3-Nov' 'Jun-89' '3-Jun' 'Oct-96' '3-May' '2-Jun' '7-Jun' 'Dec-96'\n",
      " 'Feb-84' '2-Sep' 'Jan-86' 'May-98' 'Jan-97' '5-Jun' 'Feb-90' '4-Mar'\n",
      " 'Jul-95' 'Aug-94' 'Jun-92' 'Mar-97' '6-Apr' 'Apr-90' 'Aug-99' 'Sep-00'\n",
      " '1-Feb' 'Dec-88' 'Feb-99' 'Dec-91' 'Aug-00' '4-Oct' '4-Aug' '5-Feb'\n",
      " '5-Nov' 'Nov-00' '7-May' 'Jan-91' 'Jun-00' '6-Aug' '2-Dec' 'Jun-93'\n",
      " '6-Jun' '4-Feb' 'Dec-90' 'Mar-00' 'Feb-95' '1-Jul' '2-Apr' '6-Sep'\n",
      " 'May-99' 'Aug-98' '5-Dec' '4-May' '1-Oct' 'Jun-83' 'Mar-86' 'Apr-80'\n",
      " '4-Jul' '8-Jul' 'May-96' '4-Jan' '2-Nov' '2-Aug' '1-Aug' 'Mar-91'\n",
      " 'Sep-89' 'Sep-94' '3-Sep' 'Sep-99' '5-Aug' 'Dec-86' 'Nov-98' '6-Feb'\n",
      " 'May-94' '7-Nov' 'Feb-93' 'Nov-91' '5-May' 'Dec-73' '1-May' 'Mar-90'\n",
      " 'Mar-96' 'Oct-79' 'Jun-81' '1-Mar' '1-Apr' 'Jun-99' 'Nov-93' '6-Jan'\n",
      " 'Dec-97' 'Nov-94' 'Jul-97' 'Oct-91' 'Jun-94' '6-Mar' 'Sep-96' 'Apr-91'\n",
      " 'Jul-93' 'Jan-95' 'Sep-87' '3-Mar' 'Oct-99' 'Jul-96' '3-Dec' 'Aug-88'\n",
      " 'Jan-92' 'Mar-98' '7-Feb' 'Aug-82' 'Mar-95' 'Dec-92' 'Jul-98' 'Jul-89'\n",
      " 'May-90' 'Jul-94' '1-Sep' 'Mar-84' '3-Aug' 'Nov-99' '7-Mar' '8-Mar'\n",
      " 'Apr-94' '5-Jan' 'Jul-86' 'Aug-90' 'May-92' 'Jul-00' 'Mar-88' 'May-83'\n",
      " 'Apr-93' 'Jul-78' 'Feb-00' 'Dec-81' 'Mar-92' 'Jan-81' 'Sep-90' 'Jun-98'\n",
      " 'May-93' 'Nov-96' '2-Mar' 'Jan-88' 'Aug-97' 'Aug-87' '8-Aug' 'Oct-94'\n",
      " 'Oct-86' 'Feb-94' 'Jun-96' 'Feb-98' '8-Nov' 'Apr-98' 'Jul-79' 'Jan-93'\n",
      " 'May-87' 'Jul-71' '7-Aug' 'Jun-97' 'Mar-80' '6-Dec' '7-Jul' 'Oct-95'\n",
      " 'Jul-91' 'Jul-92' 'Dec-72' 'Dec-93' 'Jan-99' '3-Feb' 'Apr-97' 'Dec-95'\n",
      " 'Apr-96' 'Jul-90' 'Mar-70' 'Nov-84' 'Apr-84' 'Jul-84' 'Aug-95' 'Mar-99'\n",
      " 'Sep-88' 'Mar-89' 'Mar-87' 'Oct-97' 'Dec-80' 'Jan-94' 'Sep-95' '5-Mar'\n",
      " 'Jan-89' 'Feb-92' 'Jan-90' 'Nov-90' 'Mar-69' 'Jun-75' 'Mar-85' '7-Dec'\n",
      " 'Oct-93' 'Dec-89' 'Sep-80' 'Jun-88' 'May-78' 'Apr-73' 'Aug-89' 'Oct-90'\n",
      " 'Sep-91' 'Feb-82' 'Feb-87' 'Nov-85' 'Jan-84' 'Jul-88' '8-May' 'Oct-85'\n",
      " 'Mar-83' 'Aug-91' 'Sep-86' 'Jun-90' 'Feb-86' 'Sep-97' 'Jun-84' 'Sep-81'\n",
      " 'Apr-86' 'Aug-79' 'Aug-80' 'Nov-92' 'Sep-93' 'Jun-87' 'Sep-82' 'Aug-92'\n",
      " 'Aug-85' 'Jul-83' 'Jun-91' 'Dec-83' 'Jan-87' 'Nov-78' 'Oct-84' 'Aug-96'\n",
      " 'Nov-89' 'Sep-76' 'Nov-86' 'Oct-87' '8-Sep' 'May-77' 'May-86' 'Mar-81'\n",
      " 'Jan-83' 'Nov-76' 'Sep-79' 'Oct-83' 'Sep-62' 'Jun-85' 'May-82' 'Feb-88'\n",
      " 'Oct-92' 'Aug-83' 'Jun-73' 'Apr-85' 'Oct-88' 'Oct-81' 'Sep-68' 'Jul-74'\n",
      " 'Nov-87' 'May-95' 'Feb-91' 'Nov-88' 'Mar-93' '8-Jun' 'Jul-80' 'Dec-82'\n",
      " 'Mar-75' 'Feb-80' 'Apr-88' 'Dec-79' 'Sep-85' 'Sep-71' 'Mar-78' '8-Feb'\n",
      " 'Aug-78' 'Nov-70' 'Jun-79' 'Jun-80' 'Apr-89' 'Sep-83' 'Feb-89' 'Nov-83'\n",
      " 'Jun-86' 'Oct-82' 'Aug-86' 'Oct-80' 'May-88' 'Dec-85' 'Jan-82' 'Sep-77'\n",
      " 'Dec-76' 'Apr-82' 'May-84' '8-Apr' 'Feb-79' '8-Jan' 'Sep-64' 'Jul-87'\n",
      " 'Jan-78' 'May-89' 'Oct-77' 'Dec-75' 'Feb-85' '8-Oct' 'Nov-82' 'May-75'\n",
      " 'May-85' 'Feb-71' 'Jun-77' 'Apr-81' 'May-79' 'Jan-72' 'Sep-67' 'Apr-78'\n",
      " 'Feb-65' 'Apr-83' 'Nov-75' 'Jun-67' 'Mar-74' 'Jul-72' 'Aug-67' 'Apr-71'\n",
      " 'Sep-84' 'May-81' 'Dec-70' 'Oct-73' 'Jan-71' 'Dec-63' 'Apr-74' 'Jan-80'\n",
      " 'Aug-69' 'Apr-75' 'Jul-77' 'Mar-77' 'Nov-69' 'Jan-76' 'Mar-82' 'Apr-87'\n",
      " 'Dec-69' 'May-74' 'Aug-74' 'Jun-72' 'Mar-63' 'Nov-79' 'Aug-75' 'Sep-74'\n",
      " 'Aug-81' 'May-73' 'Sep-73' 'Mar-73' 'Dec-77' 'Oct-76' 'Jan-74' 'Jan-70'\n",
      " 'Aug-68' 'Feb-76' 'Jan-75' 'Oct-72' 'Dec-74' 'Feb-73' 'Nov-65' 'Mar-72'\n",
      " 'Jun-82' 'Jun-74' 'May-65' 'Jun-71' 'Oct-70' 'Apr-76' 'Oct-71' 'Apr-77'\n",
      " 'Sep-78' 'Oct-78' 'Oct-54' 'Feb-81' 'Jan-77' 'Aug-77' 'Dec-78' 'Aug-76'\n",
      " 'Jun-68' 'Jun-78' 'Jun-69' 'May-80' 'Jan-79' 'Oct-65' 'Nov-74' 'Apr-66'\n",
      " 'Jun-76' 'Feb-72' 'May-76' 'Mar-68' 'Mar-76' 'Jul-70' 'Mar-79' 'Jul-76'\n",
      " 'Jul-82' 'Sep-65' 'Apr-67' 'Oct-63' 'Feb-70' 'Jul-73' 'Feb-78' 'Nov-71'\n",
      " 'Aug-72' 'Jul-75' 'Sep-70' 'Jul-81' 'Oct-64' 'Sep-72' 'May-70' 'May-63'\n",
      " 'Feb-69' 'Nov-80' 'Jul-67' 'Apr-70' 'Nov-77' 'Nov-66' 'May-71' 'Apr-79'\n",
      " 'May-72' 'Feb-68' 'Jul-64' 'Nov-67' 'Apr-64' 'Feb-75' 'Jun-59' 'Sep-56'\n",
      " 'Jun-66' 'Jan-46' 'Mar-66' 'Jan-63' 'Dec-50' 'Jul-69' 'Jan-68' 'Nov-73'\n",
      " 'Jun-70' 'Feb-77' 'Feb-74' 'Jan-73' 'Feb-66' 'Dec-61' 'Aug-73' 'Aug-70'\n",
      " 'Sep-69' 'Sep-75' 'Dec-68' 'Nov-54' 'Oct-69' 'Dec-65' 'Apr-72' 'Nov-72'\n",
      " 'Sep-63' 'Apr-69' 'Nov-62' 'Oct-67' 'May-67' 'Nov-61' 'Feb-67' 'Nov-68'\n",
      " 'Oct-75' 'Mar-71' 'Aug-71' 'Dec-66' 'Oct-68' 'Oct-74' 'Nov-63' 'Apr-68'\n",
      " 'May-69' 'Nov-59' nan] 531\n",
      "inq_last_6mths : [ 1.  5.  2.  0.  3.  4.  6.  7.  8.  9. 10. 11. 12. 15. 14. 33. 17. 32.\n",
      " 24. 13. 18. 16. 31. 28. 25. 27. 20. 19. nan] 29\n",
      "mths_since_last_delinq : [ nan  35.  38.  61.   8.  20.  18.  68.  45.  48.  41.  40.  74.  25.\n",
      "  53.  39.  10.  26.  56.  77.  28.  52.  24.  16.  60.  54.  23.   9.\n",
      "  11.  13.  65.  19.  80.  22.  59.  79.  44.  64.  57.  14.  63.  49.\n",
      "  15.  73.  70.  29.  51.   5.  75.  55.   2.  30.  47.  33.  69.   4.\n",
      "  43.  21.  27.  46.  81.  78.  82.  31.  76.  62.  72.  42.  50.   3.\n",
      "  12.  67.  36.  34.  58.  17.  71.  66.  32.   6.  37.   7.   1.  83.\n",
      "  86. 115.  96. 103. 120. 106.  89. 107.  85.  97.  95.   0.] 96\n",
      "open_acc : [ 3.  2. 10. 15.  9.  7.  4. 11. 14. 12. 20.  8.  6. 17.  5. 13. 16. 30.\n",
      " 21. 18. 19. 27. 23. 34. 25. 22. 24. 26. 32. 28. 29. 33. 31. 39. 35. 36.\n",
      " 38. 44. 41. 42.  1. 46. 37. 47. nan] 45\n"
     ]
    },
    {
     "name": "stdout",
     "output_type": "stream",
     "text": [
      "pub_rec : [ 0.  1.  2.  3.  4.  5. nan] 7\n",
      "revol_bal : [13648  1687  2956 ...  4494  7406  5251] 22709\n",
      "revol_util : ['83.70' '9.40' '98.50' ... '103.50' '105.30' '105.70'] 1120\n",
      "total_acc : [ 9.  4. 10. 37. 38. 12. 11. 13.  3. 23. 34. 29. 28. 42. 14. 22. 21. 17.\n",
      "  7. 31. 44. 26. 16.  6. 18. 27. 24. 25. 40. 35.  8. 20. 15. 19. 36. 51.\n",
      " 32. 30. 33. 46.  5. 61. 56. 50. 41. 39. 79. 62. 43. 47. 53. 45. 60. 55.\n",
      " 52. 58. 54. 57. 49. 63. 48. 59. 77. 87. 75. 72. 64. 67. 78. 76. 74. 66.\n",
      " 81. 90. 80. 71. 69. 73. 70. 68. 65.  2.  1. nan] 84\n",
      "initial_list_status : ['f'] 1\n",
      "out_prncp : [0] 1\n",
      "out_prncp_inv : [0] 1\n",
      "total_pymnt : [5863.155187 1014.53     3005.666844 ... 2904.498829 7373.904962\n",
      " 5619.76209 ] 40520\n",
      "total_pymnt_inv : [5833.84 1014.53 3005.67 ...  261.27  239.11  258.82] 40102\n",
      "total_rec_prncp : [5000.    456.46 2400.   ... 1962.69  340.5  1791.32] 7691\n",
      "total_rec_int : [863.16 435.17 605.67 ... 155.6  379.5  619.76] 37462\n",
      "total_rec_late_fee : [  0.          16.97        15.00000003 ...  51.78        21.64\n",
      " 120.        ] 1557\n",
      "recoveries : [   0.    122.9   190.54 ...   28.7   872.89 4897.93] 5059\n",
      "collection_recovery_fee : [0.000000e+00 1.110000e+00 2.090000e+00 ... 6.680000e+00 3.055105e+02\n",
      " 1.714270e+03] 2896\n",
      "last_pymnt_d : ['15-Jan' '13-Apr' '14-Jun' '17-Jan' '16-May' '12-Apr' '12-Nov' '13-Jun'\n",
      " '13-Sep' '12-Jul' '13-Oct' '13-May' '15-Feb' '15-Aug' '12-Oct' '12-Sep'\n",
      " nan '12-Dec' '14-Dec' '13-Aug' '13-Nov' '14-Jan' '14-Apr' '14-Aug'\n",
      " '14-Oct' '12-Aug' '14-Jul' '13-Jul' '16-Jan' '16-Feb' '15-Apr' '14-Feb'\n",
      " '14-Sep' '12-Jun' '13-Feb' '16-Jun' '13-Mar' '14-May' '15-Mar' '13-Jan'\n",
      " '13-Dec' '12-Feb' '14-Mar' '15-Sep' '15-Nov' '16-Mar' '12-Jan' '15-Oct'\n",
      " '16-Dec' '14-Nov' '12-Mar' '12-May' '16-Aug' '16-Jul' '16-Oct' '15-Dec'\n",
      " '15-Jun' '17-Feb' '16-Sep' '16-Nov' '15-May' '15-Jul' '16-Apr' '17-Apr'\n",
      " '11-Dec' '11-Nov' '11-Oct' '11-Sep' '11-Aug' '11-Jul' '11-Jun' '11-May'\n",
      " '11-Apr' '11-Mar' '11-Feb' '11-Jan' '10-Dec' '10-Nov' '10-Oct' '10-Sep'\n",
      " '10-Aug' '10-Jul' '10-Jun' '10-May' '10-Apr' '10-Mar' '10-Feb' '10-Jan'\n",
      " '9-Dec' '9-Nov' '9-Oct' '9-Sep' '9-Aug' '9-Jul' '9-Jun' '9-May' '9-Apr'\n",
      " '9-Mar' '9-Feb' '9-Jan' '8-Dec' '8-Oct' '8-Aug' '8-Jul' '8-Sep' '8-Jun'\n",
      " '8-May' '8-Nov' '8-Apr' '8-Mar' '8-Feb' '8-Jan' '7-Dec'] 113\n",
      "last_pymnt_amnt : [171.62 119.66 649.91 ...  82.03 205.32 156.39] 37260\n",
      "last_credit_pull_d : ['18-Dec' '16-Oct' '17-Jun' '16-Apr' '18-Apr' '17-Feb' '14-Dec' '16-Dec'\n",
      " '18-Nov' '17-Apr' '18-Oct' '18-Sep' '14-May' '15-Jul' '16-Feb' '19-Apr'\n",
      " '18-Jan' '14-Mar' '12-Sep' '19-Feb' '15-Jan' '18-Mar' '17-Jan' '18-Aug'\n",
      " '18-Jun' '19-Mar' '15-Dec' '12-Jun' '19-Jan' '18-Jul' '15-Mar' '14-Sep'\n",
      " '16-Jan' '14-Apr' '14-Oct' '18-Feb' '14-Feb' '15-Nov' '14-Jul' '12-Dec'\n",
      " '13-Feb' '17-Jul' '16-Jun' '17-Oct' '16-Jul' '15-Jun' '18-May' '12-Feb'\n",
      " '13-Nov' '16-Nov' '15-Oct' '16-May' '17-Nov' '12-Apr' '17-Aug' '15-Sep'\n",
      " '16-Mar' '13-May' '14-Jun' '12-Aug' '13-Sep' '17-Sep' '12-Jan' '14-Aug'\n",
      " '13-Oct' '17-May' '17-Mar' '12-May' '16-Aug' '12-Jul' '14-Jan' '13-Jun'\n",
      " '17-Dec' '15-Aug' '13-Dec' '14-Nov' '16-Sep' '12-Nov' '13-Mar' '13-Apr'\n",
      " '15-May' '15-Apr' '15-Feb' '13-Jul' '12-Mar' '13-Aug' '12-Oct' '11-Nov'\n",
      " '11-Dec' '11-Oct' '11-Sep' '13-Jan' '11-Aug' '11-Jul' '11-Jun' '11-May'\n",
      " '11-Apr' '11-Mar' '11-Feb' '11-Jan' '10-Dec' '10-Nov' '10-Oct' nan\n",
      " '10-Sep' '10-Aug' '10-Jul' '10-Jun' '10-May' '10-Apr' '10-Mar' '10-Feb'\n",
      " '7-Aug' '10-Jan' '9-Dec' '9-Nov' '9-Oct' '9-Sep' '9-Jul' '9-Aug' '9-May'\n",
      " '9-Jun' '9-Apr' '9-Mar' '9-Feb' '8-Dec' '9-Jan' '8-Jun' '8-Sep' '8-Aug'\n",
      " '8-Mar' '8-Oct' '8-Feb' '8-Jan' '7-Dec' '8-Jul' '7-Oct' '7-Sep' '7-Jun'\n",
      " '7-May' '7-Jul' '7-Nov'] 142\n",
      "collections_12_mths_ex_med : [ 0. nan] 2\n",
      "policy_code : [1] 1\n",
      "application_type : ['Individual'] 1\n",
      "acc_now_delinq : [ 0.  1. nan] 3\n",
      "chargeoff_within_12_mths : [ 0. nan] 2\n",
      "delinq_amnt : [   0.   nan   27. 6053.] 4\n",
      "pub_rec_bankruptcies : [ 0.  1.  2. nan] 4\n",
      "tax_liens : [ 0. nan  1.] 3\n",
      "hardship_flag : ['N'] 1\n",
      "debt_settlement_flag : ['N' 'Y'] 2\n"
     ]
    }
   ],
   "source": [
    "for i in data.columns:\n",
    "    print(i,':',data[i].unique(),len(data[i].unique()))"
   ]
  },
  {
   "cell_type": "code",
   "execution_count": 46,
   "metadata": {},
   "outputs": [],
   "source": [
    "data.drop(['emp_title','desc','title','earliest_cr_line','inq_last_6mths','last_pymnt_d','last_credit_pull_d','collections_12_mths_ex_med','chargeoff_within_12_mths','pymnt_plan','initial_list_status','out_prncp','out_prncp_inv','policy_code','application_type','hardship_flag'],axis=1,inplace=True)\n",
    "\n"
   ]
  },
  {
   "cell_type": "code",
   "execution_count": 47,
   "metadata": {},
   "outputs": [
    {
     "data": {
      "text/plain": [
       "(42535, 38)"
      ]
     },
     "execution_count": 47,
     "metadata": {},
     "output_type": "execute_result"
    }
   ],
   "source": [
    "data.shape"
   ]
  },
  {
   "cell_type": "code",
   "execution_count": 48,
   "metadata": {},
   "outputs": [
    {
     "name": "stdout",
     "output_type": "stream",
     "text": [
      "emp_length 1112\n",
      "['More than 9' '0-2 years' '2-5 years' '5-8 years' nan]\n",
      "annual_inc 4\n",
      "[24000. 30000. 12252. ...  7280. 66624.  6500.]\n",
      "delinq_2yrs 29\n",
      "[ 0.  2.  3.  1.  4.  6.  5.  8.  7.  9. 11. nan 13.]\n",
      "mths_since_last_delinq 26926\n",
      "[ nan  35.  38.  61.   8.  20.  18.  68.  45.  48.  41.  40.  74.  25.\n",
      "  53.  39.  10.  26.  56.  77.  28.  52.  24.  16.  60.  54.  23.   9.\n",
      "  11.  13.  65.  19.  80.  22.  59.  79.  44.  64.  57.  14.  63.  49.\n",
      "  15.  73.  70.  29.  51.   5.  75.  55.   2.  30.  47.  33.  69.   4.\n",
      "  43.  21.  27.  46.  81.  78.  82.  31.  76.  62.  72.  42.  50.   3.\n",
      "  12.  67.  36.  34.  58.  17.  71.  66.  32.   6.  37.   7.   1.  83.\n",
      "  86. 115.  96. 103. 120. 106.  89. 107.  85.  97.  95.   0.]\n",
      "open_acc 29\n",
      "[ 3.  2. 10. 15.  9.  7.  4. 11. 14. 12. 20.  8.  6. 17.  5. 13. 16. 30.\n",
      " 21. 18. 19. 27. 23. 34. 25. 22. 24. 26. 32. 28. 29. 33. 31. 39. 35. 36.\n",
      " 38. 44. 41. 42.  1. 46. 37. 47. nan]\n",
      "pub_rec 29\n",
      "[ 0.  1.  2.  3.  4.  5. nan]\n",
      "revol_util 90\n",
      "['83.70' '9.40' '98.50' ... '103.50' '105.30' '105.70']\n",
      "total_acc 29\n",
      "[ 9.  4. 10. 37. 38. 12. 11. 13.  3. 23. 34. 29. 28. 42. 14. 22. 21. 17.\n",
      "  7. 31. 44. 26. 16.  6. 18. 27. 24. 25. 40. 35.  8. 20. 15. 19. 36. 51.\n",
      " 32. 30. 33. 46.  5. 61. 56. 50. 41. 39. 79. 62. 43. 47. 53. 45. 60. 55.\n",
      " 52. 58. 54. 57. 49. 63. 48. 59. 77. 87. 75. 72. 64. 67. 78. 76. 74. 66.\n",
      " 81. 90. 80. 71. 69. 73. 70. 68. 65.  2.  1. nan]\n",
      "acc_now_delinq 29\n",
      "[ 0.  1. nan]\n",
      "delinq_amnt 29\n",
      "[   0.   nan   27. 6053.]\n",
      "pub_rec_bankruptcies 1365\n",
      "[ 0.  1.  2. nan]\n",
      "tax_liens 105\n",
      "[ 0. nan  1.]\n"
     ]
    }
   ],
   "source": [
    "for i in data.columns:\n",
    "    if data[i].isnull().sum()>0:\n",
    "        print(i,data[i].isnull().sum())\n",
    "        print(data[i].unique())"
   ]
  },
  {
   "cell_type": "code",
   "execution_count": 49,
   "metadata": {},
   "outputs": [
    {
     "data": {
      "text/plain": [
       "grade\n",
       "A    57600.0\n",
       "B    57996.0\n",
       "C    56000.0\n",
       "D    58000.0\n",
       "E    62000.0\n",
       "F    70556.0\n",
       "G    75000.0\n",
       "Name: annual_inc, dtype: float64"
      ]
     },
     "execution_count": 49,
     "metadata": {},
     "output_type": "execute_result"
    }
   ],
   "source": [
    "data['annual_inc'].groupby(data['grade']).median()"
   ]
  },
  {
   "cell_type": "code",
   "execution_count": 50,
   "metadata": {},
   "outputs": [],
   "source": [
    "## imputation for annual_inc\n",
    "\n",
    "data['annual_inc']=data['annual_inc'].fillna(data['annual_inc'].median())"
   ]
  },
  {
   "cell_type": "code",
   "execution_count": 51,
   "metadata": {},
   "outputs": [
    {
     "data": {
      "text/plain": [
       "0"
      ]
     },
     "execution_count": 51,
     "metadata": {},
     "output_type": "execute_result"
    }
   ],
   "source": [
    "data['annual_inc'].isnull().sum()\n"
   ]
  },
  {
   "cell_type": "code",
   "execution_count": 52,
   "metadata": {},
   "outputs": [
    {
     "data": {
      "text/plain": [
       "grade  emp_length \n",
       "A      0-2 years      3013\n",
       "       2-5 years      2694\n",
       "       More than 9    2656\n",
       "       5-8 years      1427\n",
       "B      0-2 years      3859\n",
       "       2-5 years      3376\n",
       "       More than 9    3145\n",
       "       5-8 years      1665\n",
       "C      0-2 years      2926\n",
       "       2-5 years      2368\n",
       "       More than 9    2062\n",
       "       5-8 years      1202\n",
       "D      0-2 years      1947\n",
       "       2-5 years      1654\n",
       "       More than 9    1460\n",
       "       5-8 years       835\n",
       "E      0-2 years      1098\n",
       "       More than 9     904\n",
       "       2-5 years       884\n",
       "       5-8 years       459\n",
       "F      0-2 years       389\n",
       "       2-5 years       355\n",
       "       More than 9     347\n",
       "       5-8 years       188\n",
       "G      0-2 years       168\n",
       "       2-5 years       140\n",
       "       More than 9     136\n",
       "       5-8 years        66\n",
       "Name: emp_length, dtype: int64"
      ]
     },
     "execution_count": 52,
     "metadata": {},
     "output_type": "execute_result"
    }
   ],
   "source": [
    "data['emp_length'].groupby(data['grade']).value_counts()"
   ]
  },
  {
   "cell_type": "code",
   "execution_count": 53,
   "metadata": {},
   "outputs": [
    {
     "data": {
      "text/plain": [
       "0-2 years      13400\n",
       "2-5 years      11471\n",
       "More than 9    10710\n",
       "5-8 years       5842\n",
       "Name: emp_length, dtype: int64"
      ]
     },
     "execution_count": 53,
     "metadata": {},
     "output_type": "execute_result"
    }
   ],
   "source": [
    "data['emp_length'].value_counts()"
   ]
  },
  {
   "cell_type": "code",
   "execution_count": 54,
   "metadata": {},
   "outputs": [],
   "source": [
    "data['emp_length']=data['emp_length'].fillna('0-2 years')"
   ]
  },
  {
   "cell_type": "code",
   "execution_count": 55,
   "metadata": {},
   "outputs": [
    {
     "data": {
      "text/plain": [
       "0.0     37771\n",
       "1.0      3595\n",
       "2.0       771\n",
       "3.0       244\n",
       "4.0        72\n",
       "5.0        27\n",
       "6.0        13\n",
       "7.0         6\n",
       "8.0         3\n",
       "11.0        2\n",
       "13.0        1\n",
       "9.0         1\n",
       "Name: delinq_2yrs, dtype: int64"
      ]
     },
     "execution_count": 55,
     "metadata": {},
     "output_type": "execute_result"
    }
   ],
   "source": [
    "#iputation for delinq_2yrs\n",
    "\n",
    "data['delinq_2yrs'].value_counts()"
   ]
  },
  {
   "cell_type": "code",
   "execution_count": 56,
   "metadata": {},
   "outputs": [
    {
     "data": {
      "text/plain": [
       "grade  delinq_2yrs\n",
       "A      0.0             9774\n",
       "       1.0              352\n",
       "       2.0               38\n",
       "       3.0                6\n",
       "       4.0                2\n",
       "B      0.0            11251\n",
       "       1.0              928\n",
       "       2.0              141\n",
       "       3.0               43\n",
       "       4.0                9\n",
       "       5.0                3\n",
       "       6.0                3\n",
       "       11.0               1\n",
       "C      0.0             7557\n",
       "       1.0              885\n",
       "       2.0              197\n",
       "       3.0               68\n",
       "       4.0               14\n",
       "       5.0                8\n",
       "       6.0                3\n",
       "       7.0                1\n",
       "       9.0                1\n",
       "D      0.0             4982\n",
       "       1.0              739\n",
       "       2.0              201\n",
       "       3.0               55\n",
       "       4.0               20\n",
       "       5.0               10\n",
       "       6.0                4\n",
       "       7.0                3\n",
       "       8.0                1\n",
       "E      0.0             2794\n",
       "       1.0              429\n",
       "       2.0              106\n",
       "       3.0               39\n",
       "       4.0               17\n",
       "       5.0                3\n",
       "       6.0                2\n",
       "       7.0                1\n",
       "       8.0                1\n",
       "       13.0               1\n",
       "F      0.0             1030\n",
       "       1.0              178\n",
       "       2.0               60\n",
       "       3.0               20\n",
       "       4.0                8\n",
       "       5.0                3\n",
       "       7.0                1\n",
       "       8.0                1\n",
       "G      0.0              383\n",
       "       1.0               84\n",
       "       2.0               28\n",
       "       3.0               13\n",
       "       4.0                2\n",
       "       6.0                1\n",
       "       11.0               1\n",
       "Name: delinq_2yrs, dtype: int64"
      ]
     },
     "execution_count": 56,
     "metadata": {},
     "output_type": "execute_result"
    }
   ],
   "source": [
    "data['delinq_2yrs'].groupby(data['grade']).value_counts()"
   ]
  },
  {
   "cell_type": "code",
   "execution_count": 57,
   "metadata": {},
   "outputs": [],
   "source": [
    "data['delinq_2yrs']=data['delinq_2yrs'].fillna(0.0)"
   ]
  },
  {
   "cell_type": "code",
   "execution_count": null,
   "metadata": {},
   "outputs": [],
   "source": []
  },
  {
   "cell_type": "code",
   "execution_count": 58,
   "metadata": {},
   "outputs": [
    {
     "data": {
      "text/plain": [
       "grade\n",
       "A    38.0\n",
       "B    35.0\n",
       "C    33.0\n",
       "D    32.0\n",
       "E    30.0\n",
       "F    27.0\n",
       "G    23.0\n",
       "Name: mths_since_last_delinq, dtype: float64"
      ]
     },
     "execution_count": 58,
     "metadata": {},
     "output_type": "execute_result"
    }
   ],
   "source": [
    "#imputation for mths_since_last_delinq\n",
    "\n",
    "data['mths_since_last_delinq'].groupby(data['grade']).median()"
   ]
  },
  {
   "cell_type": "code",
   "execution_count": 59,
   "metadata": {},
   "outputs": [
    {
     "data": {
      "text/plain": [
       "33.0"
      ]
     },
     "execution_count": 59,
     "metadata": {},
     "output_type": "execute_result"
    }
   ],
   "source": [
    "data['mths_since_last_delinq'].median()\n"
   ]
  },
  {
   "cell_type": "code",
   "execution_count": 60,
   "metadata": {},
   "outputs": [],
   "source": [
    "data['mths_since_last_delinq'].fillna(data['mths_since_last_delinq'].median(),inplace=True)"
   ]
  },
  {
   "cell_type": "code",
   "execution_count": 61,
   "metadata": {},
   "outputs": [
    {
     "data": {
      "text/plain": [
       "0"
      ]
     },
     "execution_count": 61,
     "metadata": {},
     "output_type": "execute_result"
    }
   ],
   "source": [
    "data['mths_since_last_delinq'].isnull().sum()"
   ]
  },
  {
   "cell_type": "code",
   "execution_count": 62,
   "metadata": {},
   "outputs": [],
   "source": [
    "#imputation for open_acc"
   ]
  },
  {
   "cell_type": "code",
   "execution_count": 63,
   "metadata": {},
   "outputs": [
    {
     "data": {
      "text/plain": [
       "7.0     4252\n",
       "8.0     4176\n",
       "6.0     4172\n",
       "9.0     3922\n",
       "10.0    3386\n",
       "5.0     3368\n",
       "11.0    2944\n",
       "4.0     2508\n",
       "12.0    2398\n",
       "13.0    2060\n",
       "3.0     1608\n",
       "14.0    1597\n",
       "15.0    1290\n",
       "16.0    1022\n",
       "17.0     812\n",
       "2.0      692\n",
       "18.0     588\n",
       "19.0     442\n",
       "20.0     335\n",
       "21.0     276\n",
       "22.0     170\n",
       "23.0     121\n",
       "24.0      87\n",
       "25.0      63\n",
       "26.0      40\n",
       "1.0       39\n",
       "28.0      29\n",
       "27.0      29\n",
       "30.0      17\n",
       "29.0      16\n",
       "31.0      13\n",
       "34.0       8\n",
       "32.0       6\n",
       "33.0       5\n",
       "35.0       4\n",
       "38.0       2\n",
       "36.0       2\n",
       "41.0       1\n",
       "46.0       1\n",
       "39.0       1\n",
       "47.0       1\n",
       "44.0       1\n",
       "37.0       1\n",
       "42.0       1\n",
       "Name: open_acc, dtype: int64"
      ]
     },
     "execution_count": 63,
     "metadata": {},
     "output_type": "execute_result"
    }
   ],
   "source": [
    "data['open_acc'].value_counts()"
   ]
  },
  {
   "cell_type": "code",
   "execution_count": 64,
   "metadata": {},
   "outputs": [
    {
     "data": {
      "text/plain": [
       "grade\n",
       "A     9.0\n",
       "B     9.0\n",
       "C     8.0\n",
       "D     8.0\n",
       "E     9.0\n",
       "F     9.0\n",
       "G    10.0\n",
       "Name: open_acc, dtype: float64"
      ]
     },
     "execution_count": 64,
     "metadata": {},
     "output_type": "execute_result"
    }
   ],
   "source": [
    "data['open_acc'].groupby(data['grade']).median()"
   ]
  },
  {
   "cell_type": "code",
   "execution_count": 65,
   "metadata": {},
   "outputs": [],
   "source": [
    "def give_med(x):\n",
    "    temp=data[data['grade']==x]\n",
    "    get_med=temp['open_acc'].median()\n",
    "    return get_med"
   ]
  },
  {
   "cell_type": "code",
   "execution_count": 66,
   "metadata": {},
   "outputs": [],
   "source": [
    "#imputation groupwise"
   ]
  },
  {
   "cell_type": "code",
   "execution_count": 67,
   "metadata": {},
   "outputs": [
    {
     "name": "stderr",
     "output_type": "stream",
     "text": [
      "F:\\PGPDSE\\Python\\lib\\site-packages\\ipykernel_launcher.py:1: SettingWithCopyWarning: \n",
      "A value is trying to be set on a copy of a slice from a DataFrame\n",
      "\n",
      "See the caveats in the documentation: http://pandas.pydata.org/pandas-docs/stable/indexing.html#indexing-view-versus-copy\n",
      "  \"\"\"Entry point for launching an IPython kernel.\n",
      "F:\\PGPDSE\\Python\\lib\\site-packages\\ipykernel_launcher.py:2: SettingWithCopyWarning: \n",
      "A value is trying to be set on a copy of a slice from a DataFrame\n",
      "\n",
      "See the caveats in the documentation: http://pandas.pydata.org/pandas-docs/stable/indexing.html#indexing-view-versus-copy\n",
      "  \n",
      "F:\\PGPDSE\\Python\\lib\\site-packages\\ipykernel_launcher.py:3: SettingWithCopyWarning: \n",
      "A value is trying to be set on a copy of a slice from a DataFrame\n",
      "\n",
      "See the caveats in the documentation: http://pandas.pydata.org/pandas-docs/stable/indexing.html#indexing-view-versus-copy\n",
      "  This is separate from the ipykernel package so we can avoid doing imports until\n",
      "F:\\PGPDSE\\Python\\lib\\site-packages\\ipykernel_launcher.py:4: SettingWithCopyWarning: \n",
      "A value is trying to be set on a copy of a slice from a DataFrame\n",
      "\n",
      "See the caveats in the documentation: http://pandas.pydata.org/pandas-docs/stable/indexing.html#indexing-view-versus-copy\n",
      "  after removing the cwd from sys.path.\n",
      "F:\\PGPDSE\\Python\\lib\\site-packages\\ipykernel_launcher.py:5: SettingWithCopyWarning: \n",
      "A value is trying to be set on a copy of a slice from a DataFrame\n",
      "\n",
      "See the caveats in the documentation: http://pandas.pydata.org/pandas-docs/stable/indexing.html#indexing-view-versus-copy\n",
      "  \"\"\"\n",
      "F:\\PGPDSE\\Python\\lib\\site-packages\\ipykernel_launcher.py:6: SettingWithCopyWarning: \n",
      "A value is trying to be set on a copy of a slice from a DataFrame\n",
      "\n",
      "See the caveats in the documentation: http://pandas.pydata.org/pandas-docs/stable/indexing.html#indexing-view-versus-copy\n",
      "  \n",
      "F:\\PGPDSE\\Python\\lib\\site-packages\\ipykernel_launcher.py:7: SettingWithCopyWarning: \n",
      "A value is trying to be set on a copy of a slice from a DataFrame\n",
      "\n",
      "See the caveats in the documentation: http://pandas.pydata.org/pandas-docs/stable/indexing.html#indexing-view-versus-copy\n",
      "  import sys\n"
     ]
    }
   ],
   "source": [
    "data['open_acc'][(data['grade']=='A') & (data['open_acc'].isnull())]=give_med('A')\n",
    "data['open_acc'][(data['grade']=='B')& (data['open_acc'].isnull())]=give_med('B')\n",
    "data['open_acc'][(data['grade']=='C')& (data['open_acc'].isnull())]=give_med('C')\n",
    "data['open_acc'][(data['grade']=='D')& (data['open_acc'].isnull())]=give_med('D')\n",
    "data['open_acc'][(data['grade']=='E')& (data['open_acc'].isnull())]=give_med('E')\n",
    "data['open_acc'][(data['grade']=='F')& (data['open_acc'].isnull())]=give_med('F')\n",
    "data['open_acc'][(data['grade']=='C')& (data['open_acc'].isnull())]=give_med('G')"
   ]
  },
  {
   "cell_type": "code",
   "execution_count": 68,
   "metadata": {},
   "outputs": [
    {
     "data": {
      "text/plain": [
       "0"
      ]
     },
     "execution_count": 68,
     "metadata": {},
     "output_type": "execute_result"
    }
   ],
   "source": [
    "data['open_acc'].isnull().sum()"
   ]
  },
  {
   "cell_type": "code",
   "execution_count": 69,
   "metadata": {},
   "outputs": [],
   "source": [
    "#imputation for pub_rec"
   ]
  },
  {
   "cell_type": "code",
   "execution_count": 70,
   "metadata": {},
   "outputs": [
    {
     "data": {
      "text/plain": [
       "0.0    40130\n",
       "1.0     2298\n",
       "2.0       64\n",
       "3.0       11\n",
       "4.0        2\n",
       "5.0        1\n",
       "Name: pub_rec, dtype: int64"
      ]
     },
     "execution_count": 70,
     "metadata": {},
     "output_type": "execute_result"
    }
   ],
   "source": [
    "data['pub_rec'].value_counts()\n"
   ]
  },
  {
   "cell_type": "code",
   "execution_count": 71,
   "metadata": {},
   "outputs": [],
   "source": [
    "data['pub_rec'].fillna(0.0,inplace=True)"
   ]
  },
  {
   "cell_type": "code",
   "execution_count": 72,
   "metadata": {},
   "outputs": [],
   "source": [
    "#imputation for revol_util"
   ]
  },
  {
   "cell_type": "code",
   "execution_count": 73,
   "metadata": {},
   "outputs": [
    {
     "data": {
      "text/plain": [
       "49.7"
      ]
     },
     "execution_count": 73,
     "metadata": {},
     "output_type": "execute_result"
    }
   ],
   "source": [
    "data['revol_util'].median()\n"
   ]
  },
  {
   "cell_type": "code",
   "execution_count": 74,
   "metadata": {},
   "outputs": [],
   "source": [
    "data['revol_util'].fillna(data['revol_util'].median(),inplace=True)"
   ]
  },
  {
   "cell_type": "code",
   "execution_count": 75,
   "metadata": {},
   "outputs": [],
   "source": [
    "#imputation for acc_now_delinq"
   ]
  },
  {
   "cell_type": "code",
   "execution_count": 76,
   "metadata": {},
   "outputs": [
    {
     "data": {
      "text/plain": [
       "0.0    42502\n",
       "1.0        4\n",
       "Name: acc_now_delinq, dtype: int64"
      ]
     },
     "execution_count": 76,
     "metadata": {},
     "output_type": "execute_result"
    }
   ],
   "source": [
    "data['acc_now_delinq'].value_counts()"
   ]
  },
  {
   "cell_type": "code",
   "execution_count": 77,
   "metadata": {},
   "outputs": [],
   "source": [
    "data['acc_now_delinq'].fillna(0.0,inplace=True)"
   ]
  },
  {
   "cell_type": "code",
   "execution_count": 78,
   "metadata": {},
   "outputs": [],
   "source": [
    "#imputation for delinq_amnt"
   ]
  },
  {
   "cell_type": "code",
   "execution_count": 79,
   "metadata": {},
   "outputs": [
    {
     "data": {
      "text/plain": [
       "0.0       42504\n",
       "6053.0        1\n",
       "27.0          1\n",
       "Name: delinq_amnt, dtype: int64"
      ]
     },
     "execution_count": 79,
     "metadata": {},
     "output_type": "execute_result"
    }
   ],
   "source": [
    "data['delinq_amnt'].value_counts()"
   ]
  },
  {
   "cell_type": "code",
   "execution_count": 80,
   "metadata": {},
   "outputs": [],
   "source": [
    "data['delinq_amnt'].fillna(0.0,inplace=True)"
   ]
  },
  {
   "cell_type": "code",
   "execution_count": 81,
   "metadata": {},
   "outputs": [],
   "source": [
    "#imputation for pub_rec_bankruptcies"
   ]
  },
  {
   "cell_type": "code",
   "execution_count": 82,
   "metadata": {},
   "outputs": [
    {
     "data": {
      "text/plain": [
       "0.0    39316\n",
       "1.0     1846\n",
       "2.0        8\n",
       "Name: pub_rec_bankruptcies, dtype: int64"
      ]
     },
     "execution_count": 82,
     "metadata": {},
     "output_type": "execute_result"
    }
   ],
   "source": [
    "data['pub_rec_bankruptcies'].value_counts()"
   ]
  },
  {
   "cell_type": "code",
   "execution_count": 83,
   "metadata": {},
   "outputs": [],
   "source": [
    "data['pub_rec_bankruptcies'].fillna(0.0,inplace=True)"
   ]
  },
  {
   "cell_type": "code",
   "execution_count": 84,
   "metadata": {},
   "outputs": [
    {
     "data": {
      "text/plain": [
       "0.0    42429\n",
       "1.0        1\n",
       "Name: tax_liens, dtype: int64"
      ]
     },
     "execution_count": 84,
     "metadata": {},
     "output_type": "execute_result"
    }
   ],
   "source": [
    "data['tax_liens'].value_counts()"
   ]
  },
  {
   "cell_type": "code",
   "execution_count": 85,
   "metadata": {},
   "outputs": [],
   "source": [
    "data['tax_liens'].fillna(0.0,inplace=True)"
   ]
  },
  {
   "cell_type": "code",
   "execution_count": 86,
   "metadata": {},
   "outputs": [],
   "source": [
    "#imputation for revol_util"
   ]
  },
  {
   "cell_type": "code",
   "execution_count": 87,
   "metadata": {},
   "outputs": [
    {
     "data": {
      "text/plain": [
       "49.7"
      ]
     },
     "execution_count": 87,
     "metadata": {},
     "output_type": "execute_result"
    }
   ],
   "source": [
    "data['revol_util'].median()"
   ]
  },
  {
   "cell_type": "code",
   "execution_count": 88,
   "metadata": {},
   "outputs": [],
   "source": [
    "data['revol_util'].fillna(data['revol_util'].median(),inplace=True)"
   ]
  },
  {
   "cell_type": "code",
   "execution_count": 89,
   "metadata": {},
   "outputs": [],
   "source": [
    "#imputation for total_acc"
   ]
  },
  {
   "cell_type": "code",
   "execution_count": 90,
   "metadata": {},
   "outputs": [
    {
     "data": {
      "text/plain": [
       "grade\n",
       "A    22.0\n",
       "B    20.0\n",
       "C    19.0\n",
       "D    19.0\n",
       "E    20.0\n",
       "F    21.0\n",
       "G    23.0\n",
       "Name: total_acc, dtype: float64"
      ]
     },
     "execution_count": 90,
     "metadata": {},
     "output_type": "execute_result"
    }
   ],
   "source": [
    "data['total_acc'].groupby(data['grade']).median()"
   ]
  },
  {
   "cell_type": "code",
   "execution_count": 91,
   "metadata": {},
   "outputs": [
    {
     "name": "stderr",
     "output_type": "stream",
     "text": [
      "F:\\PGPDSE\\Python\\lib\\site-packages\\ipykernel_launcher.py:1: SettingWithCopyWarning: \n",
      "A value is trying to be set on a copy of a slice from a DataFrame\n",
      "\n",
      "See the caveats in the documentation: http://pandas.pydata.org/pandas-docs/stable/indexing.html#indexing-view-versus-copy\n",
      "  \"\"\"Entry point for launching an IPython kernel.\n",
      "F:\\PGPDSE\\Python\\lib\\site-packages\\ipykernel_launcher.py:2: SettingWithCopyWarning: \n",
      "A value is trying to be set on a copy of a slice from a DataFrame\n",
      "\n",
      "See the caveats in the documentation: http://pandas.pydata.org/pandas-docs/stable/indexing.html#indexing-view-versus-copy\n",
      "  \n",
      "F:\\PGPDSE\\Python\\lib\\site-packages\\ipykernel_launcher.py:3: SettingWithCopyWarning: \n",
      "A value is trying to be set on a copy of a slice from a DataFrame\n",
      "\n",
      "See the caveats in the documentation: http://pandas.pydata.org/pandas-docs/stable/indexing.html#indexing-view-versus-copy\n",
      "  This is separate from the ipykernel package so we can avoid doing imports until\n",
      "F:\\PGPDSE\\Python\\lib\\site-packages\\ipykernel_launcher.py:4: SettingWithCopyWarning: \n",
      "A value is trying to be set on a copy of a slice from a DataFrame\n",
      "\n",
      "See the caveats in the documentation: http://pandas.pydata.org/pandas-docs/stable/indexing.html#indexing-view-versus-copy\n",
      "  after removing the cwd from sys.path.\n",
      "F:\\PGPDSE\\Python\\lib\\site-packages\\ipykernel_launcher.py:5: SettingWithCopyWarning: \n",
      "A value is trying to be set on a copy of a slice from a DataFrame\n",
      "\n",
      "See the caveats in the documentation: http://pandas.pydata.org/pandas-docs/stable/indexing.html#indexing-view-versus-copy\n",
      "  \"\"\"\n",
      "F:\\PGPDSE\\Python\\lib\\site-packages\\ipykernel_launcher.py:6: SettingWithCopyWarning: \n",
      "A value is trying to be set on a copy of a slice from a DataFrame\n",
      "\n",
      "See the caveats in the documentation: http://pandas.pydata.org/pandas-docs/stable/indexing.html#indexing-view-versus-copy\n",
      "  \n",
      "F:\\PGPDSE\\Python\\lib\\site-packages\\ipykernel_launcher.py:7: SettingWithCopyWarning: \n",
      "A value is trying to be set on a copy of a slice from a DataFrame\n",
      "\n",
      "See the caveats in the documentation: http://pandas.pydata.org/pandas-docs/stable/indexing.html#indexing-view-versus-copy\n",
      "  import sys\n"
     ]
    }
   ],
   "source": [
    "data['total_acc'][(data['grade']=='A') & (data['total_acc'].isnull())]=22.0\n",
    "data['total_acc'][(data['grade']=='B')& (data['total_acc'].isnull())]=20.0\n",
    "data['total_acc'][(data['grade']=='C')& (data['total_acc'].isnull())]=19.0\n",
    "data['total_acc'][(data['grade']=='D')& (data['total_acc'].isnull())]=19.0\n",
    "data['total_acc'][(data['grade']=='E')& (data['total_acc'].isnull())]=20.0\n",
    "data['total_acc'][(data['grade']=='F')& (data['total_acc'].isnull())]=21.0\n",
    "data['total_acc'][(data['grade']=='C')& (data['total_acc'].isnull())]=23.0"
   ]
  },
  {
   "cell_type": "code",
   "execution_count": 92,
   "metadata": {
    "scrolled": true
   },
   "outputs": [
    {
     "data": {
      "text/plain": [
       "0"
      ]
     },
     "execution_count": 92,
     "metadata": {},
     "output_type": "execute_result"
    }
   ],
   "source": [
    "data['total_acc'].isnull().sum()"
   ]
  },
  {
   "cell_type": "code",
   "execution_count": 93,
   "metadata": {},
   "outputs": [],
   "source": [
    "data['revol_util']=data['revol_util'].astype('float64')   #converting teh dtype"
   ]
  },
  {
   "cell_type": "code",
   "execution_count": 94,
   "metadata": {},
   "outputs": [],
   "source": [
    "#Regression Problem(for int_rate)"
   ]
  },
  {
   "cell_type": "code",
   "execution_count": 95,
   "metadata": {},
   "outputs": [],
   "source": [
    "#Splitting x & y "
   ]
  },
  {
   "cell_type": "code",
   "execution_count": 96,
   "metadata": {},
   "outputs": [
    {
     "data": {
      "text/html": [
       "<div>\n",
       "<style scoped>\n",
       "    .dataframe tbody tr th:only-of-type {\n",
       "        vertical-align: middle;\n",
       "    }\n",
       "\n",
       "    .dataframe tbody tr th {\n",
       "        vertical-align: top;\n",
       "    }\n",
       "\n",
       "    .dataframe thead th {\n",
       "        text-align: right;\n",
       "    }\n",
       "</style>\n",
       "<table border=\"1\" class=\"dataframe\">\n",
       "  <thead>\n",
       "    <tr style=\"text-align: right;\">\n",
       "      <th></th>\n",
       "      <th>loan_amnt</th>\n",
       "      <th>funded_amnt</th>\n",
       "      <th>funded_amnt_inv</th>\n",
       "      <th>term</th>\n",
       "      <th>installment</th>\n",
       "      <th>grade</th>\n",
       "      <th>emp_length</th>\n",
       "      <th>home_ownership</th>\n",
       "      <th>annual_inc</th>\n",
       "      <th>verification_status</th>\n",
       "      <th>...</th>\n",
       "      <th>total_rec_int</th>\n",
       "      <th>total_rec_late_fee</th>\n",
       "      <th>recoveries</th>\n",
       "      <th>collection_recovery_fee</th>\n",
       "      <th>last_pymnt_amnt</th>\n",
       "      <th>acc_now_delinq</th>\n",
       "      <th>delinq_amnt</th>\n",
       "      <th>pub_rec_bankruptcies</th>\n",
       "      <th>tax_liens</th>\n",
       "      <th>debt_settlement_flag</th>\n",
       "    </tr>\n",
       "  </thead>\n",
       "  <tbody>\n",
       "    <tr>\n",
       "      <th>0</th>\n",
       "      <td>5000</td>\n",
       "      <td>5000</td>\n",
       "      <td>4975.0</td>\n",
       "      <td>36</td>\n",
       "      <td>162.87</td>\n",
       "      <td>B</td>\n",
       "      <td>More than 9</td>\n",
       "      <td>RENT</td>\n",
       "      <td>24000.0</td>\n",
       "      <td>Verified</td>\n",
       "      <td>...</td>\n",
       "      <td>863.16</td>\n",
       "      <td>0.00</td>\n",
       "      <td>0.0</td>\n",
       "      <td>0.00</td>\n",
       "      <td>171.62</td>\n",
       "      <td>0.0</td>\n",
       "      <td>0.0</td>\n",
       "      <td>0.0</td>\n",
       "      <td>0.0</td>\n",
       "      <td>N</td>\n",
       "    </tr>\n",
       "    <tr>\n",
       "      <th>1</th>\n",
       "      <td>2500</td>\n",
       "      <td>2500</td>\n",
       "      <td>2500.0</td>\n",
       "      <td>60</td>\n",
       "      <td>59.83</td>\n",
       "      <td>C</td>\n",
       "      <td>0-2 years</td>\n",
       "      <td>RENT</td>\n",
       "      <td>30000.0</td>\n",
       "      <td>Source Verified</td>\n",
       "      <td>...</td>\n",
       "      <td>435.17</td>\n",
       "      <td>0.00</td>\n",
       "      <td>122.9</td>\n",
       "      <td>1.11</td>\n",
       "      <td>119.66</td>\n",
       "      <td>0.0</td>\n",
       "      <td>0.0</td>\n",
       "      <td>0.0</td>\n",
       "      <td>0.0</td>\n",
       "      <td>N</td>\n",
       "    </tr>\n",
       "    <tr>\n",
       "      <th>2</th>\n",
       "      <td>2400</td>\n",
       "      <td>2400</td>\n",
       "      <td>2400.0</td>\n",
       "      <td>36</td>\n",
       "      <td>84.33</td>\n",
       "      <td>C</td>\n",
       "      <td>More than 9</td>\n",
       "      <td>RENT</td>\n",
       "      <td>12252.0</td>\n",
       "      <td>Not Verified</td>\n",
       "      <td>...</td>\n",
       "      <td>605.67</td>\n",
       "      <td>0.00</td>\n",
       "      <td>0.0</td>\n",
       "      <td>0.00</td>\n",
       "      <td>649.91</td>\n",
       "      <td>0.0</td>\n",
       "      <td>0.0</td>\n",
       "      <td>0.0</td>\n",
       "      <td>0.0</td>\n",
       "      <td>N</td>\n",
       "    </tr>\n",
       "    <tr>\n",
       "      <th>3</th>\n",
       "      <td>10000</td>\n",
       "      <td>10000</td>\n",
       "      <td>10000.0</td>\n",
       "      <td>36</td>\n",
       "      <td>339.31</td>\n",
       "      <td>C</td>\n",
       "      <td>More than 9</td>\n",
       "      <td>RENT</td>\n",
       "      <td>49200.0</td>\n",
       "      <td>Source Verified</td>\n",
       "      <td>...</td>\n",
       "      <td>2214.92</td>\n",
       "      <td>16.97</td>\n",
       "      <td>0.0</td>\n",
       "      <td>0.00</td>\n",
       "      <td>357.48</td>\n",
       "      <td>0.0</td>\n",
       "      <td>0.0</td>\n",
       "      <td>0.0</td>\n",
       "      <td>0.0</td>\n",
       "      <td>N</td>\n",
       "    </tr>\n",
       "    <tr>\n",
       "      <th>4</th>\n",
       "      <td>3000</td>\n",
       "      <td>3000</td>\n",
       "      <td>3000.0</td>\n",
       "      <td>60</td>\n",
       "      <td>67.79</td>\n",
       "      <td>B</td>\n",
       "      <td>0-2 years</td>\n",
       "      <td>RENT</td>\n",
       "      <td>80000.0</td>\n",
       "      <td>Source Verified</td>\n",
       "      <td>...</td>\n",
       "      <td>1066.91</td>\n",
       "      <td>0.00</td>\n",
       "      <td>0.0</td>\n",
       "      <td>0.00</td>\n",
       "      <td>67.30</td>\n",
       "      <td>0.0</td>\n",
       "      <td>0.0</td>\n",
       "      <td>0.0</td>\n",
       "      <td>0.0</td>\n",
       "      <td>N</td>\n",
       "    </tr>\n",
       "  </tbody>\n",
       "</table>\n",
       "<p>5 rows × 34 columns</p>\n",
       "</div>"
      ],
      "text/plain": [
       "   loan_amnt  funded_amnt  funded_amnt_inv term  installment grade  \\\n",
       "0       5000         5000           4975.0   36       162.87     B   \n",
       "1       2500         2500           2500.0   60        59.83     C   \n",
       "2       2400         2400           2400.0   36        84.33     C   \n",
       "3      10000        10000          10000.0   36       339.31     C   \n",
       "4       3000         3000           3000.0   60        67.79     B   \n",
       "\n",
       "    emp_length home_ownership  annual_inc verification_status  \\\n",
       "0  More than 9           RENT     24000.0            Verified   \n",
       "1    0-2 years           RENT     30000.0     Source Verified   \n",
       "2  More than 9           RENT     12252.0        Not Verified   \n",
       "3  More than 9           RENT     49200.0     Source Verified   \n",
       "4    0-2 years           RENT     80000.0     Source Verified   \n",
       "\n",
       "           ...           total_rec_int total_rec_late_fee recoveries  \\\n",
       "0          ...                  863.16               0.00        0.0   \n",
       "1          ...                  435.17               0.00      122.9   \n",
       "2          ...                  605.67               0.00        0.0   \n",
       "3          ...                 2214.92              16.97        0.0   \n",
       "4          ...                 1066.91               0.00        0.0   \n",
       "\n",
       "   collection_recovery_fee  last_pymnt_amnt  acc_now_delinq  delinq_amnt  \\\n",
       "0                     0.00           171.62             0.0          0.0   \n",
       "1                     1.11           119.66             0.0          0.0   \n",
       "2                     0.00           649.91             0.0          0.0   \n",
       "3                     0.00           357.48             0.0          0.0   \n",
       "4                     0.00            67.30             0.0          0.0   \n",
       "\n",
       "   pub_rec_bankruptcies  tax_liens  debt_settlement_flag  \n",
       "0                   0.0        0.0                     N  \n",
       "1                   0.0        0.0                     N  \n",
       "2                   0.0        0.0                     N  \n",
       "3                   0.0        0.0                     N  \n",
       "4                   0.0        0.0                     N  \n",
       "\n",
       "[5 rows x 34 columns]"
      ]
     },
     "execution_count": 96,
     "metadata": {},
     "output_type": "execute_result"
    }
   ],
   "source": [
    "y=data['int_rate']\n",
    "\n",
    "x=data.drop(['int_rate','loan_status','zip_code','sub_grade'],axis=1)\n",
    "\n",
    "\n",
    "\n",
    "x.head()"
   ]
  },
  {
   "cell_type": "code",
   "execution_count": 97,
   "metadata": {},
   "outputs": [
    {
     "data": {
      "text/plain": [
       "Index(['loan_amnt', 'funded_amnt', 'funded_amnt_inv', 'term', 'installment',\n",
       "       'grade', 'emp_length', 'home_ownership', 'annual_inc',\n",
       "       'verification_status', 'issue_d', 'purpose', 'addr_state', 'dti',\n",
       "       'delinq_2yrs', 'mths_since_last_delinq', 'open_acc', 'pub_rec',\n",
       "       'revol_bal', 'revol_util', 'total_acc', 'total_pymnt',\n",
       "       'total_pymnt_inv', 'total_rec_prncp', 'total_rec_int',\n",
       "       'total_rec_late_fee', 'recoveries', 'collection_recovery_fee',\n",
       "       'last_pymnt_amnt', 'acc_now_delinq', 'delinq_amnt',\n",
       "       'pub_rec_bankruptcies', 'tax_liens', 'debt_settlement_flag'],\n",
       "      dtype='object')"
      ]
     },
     "execution_count": 97,
     "metadata": {},
     "output_type": "execute_result"
    }
   ],
   "source": [
    "x.columns"
   ]
  },
  {
   "cell_type": "code",
   "execution_count": 98,
   "metadata": {},
   "outputs": [
    {
     "name": "stdout",
     "output_type": "stream",
     "text": [
      "<class 'pandas.core.frame.DataFrame'>\n",
      "RangeIndex: 42535 entries, 0 to 42534\n",
      "Data columns (total 38 columns):\n",
      "loan_amnt                  42535 non-null int64\n",
      "funded_amnt                42535 non-null int64\n",
      "funded_amnt_inv            42535 non-null float64\n",
      "term                       42535 non-null object\n",
      "int_rate                   42535 non-null object\n",
      "installment                42535 non-null float64\n",
      "grade                      42535 non-null object\n",
      "sub_grade                  42535 non-null object\n",
      "emp_length                 42535 non-null object\n",
      "home_ownership             42535 non-null object\n",
      "annual_inc                 42535 non-null float64\n",
      "verification_status        42535 non-null object\n",
      "issue_d                    42535 non-null int64\n",
      "loan_status                42535 non-null object\n",
      "purpose                    42535 non-null object\n",
      "zip_code                   42535 non-null object\n",
      "addr_state                 42535 non-null object\n",
      "dti                        42535 non-null float64\n",
      "delinq_2yrs                42535 non-null float64\n",
      "mths_since_last_delinq     42535 non-null float64\n",
      "open_acc                   42535 non-null float64\n",
      "pub_rec                    42535 non-null float64\n",
      "revol_bal                  42535 non-null int64\n",
      "revol_util                 42535 non-null float64\n",
      "total_acc                  42535 non-null float64\n",
      "total_pymnt                42535 non-null float64\n",
      "total_pymnt_inv            42535 non-null float64\n",
      "total_rec_prncp            42535 non-null float64\n",
      "total_rec_int              42535 non-null float64\n",
      "total_rec_late_fee         42535 non-null float64\n",
      "recoveries                 42535 non-null float64\n",
      "collection_recovery_fee    42535 non-null float64\n",
      "last_pymnt_amnt            42535 non-null float64\n",
      "acc_now_delinq             42535 non-null float64\n",
      "delinq_amnt                42535 non-null float64\n",
      "pub_rec_bankruptcies       42535 non-null float64\n",
      "tax_liens                  42535 non-null float64\n",
      "debt_settlement_flag       42535 non-null object\n",
      "dtypes: float64(22), int64(4), object(12)\n",
      "memory usage: 12.3+ MB\n"
     ]
    }
   ],
   "source": [
    "data.info()"
   ]
  },
  {
   "cell_type": "code",
   "execution_count": 99,
   "metadata": {},
   "outputs": [
    {
     "data": {
      "text/plain": [
       "['term',\n",
       " 'grade',\n",
       " 'emp_length',\n",
       " 'home_ownership',\n",
       " 'verification_status',\n",
       " 'purpose',\n",
       " 'addr_state',\n",
       " 'debt_settlement_flag']"
      ]
     },
     "execution_count": 99,
     "metadata": {},
     "output_type": "execute_result"
    }
   ],
   "source": [
    "xcat=[]\n",
    "for i in x.columns:\n",
    "    if x[i].dtype=='object':\n",
    "        xcat.append(i)\n",
    "        \n",
    "xcat      "
   ]
  },
  {
   "cell_type": "code",
   "execution_count": 100,
   "metadata": {},
   "outputs": [
    {
     "data": {
      "text/plain": [
       "array(['credit_card', 'car', 'small_business', 'other', 'wedding',\n",
       "       'debt_consolidation', 'home_improvement', 'major_purchase',\n",
       "       'medical', 'moving', 'vacation', 'house', 'renewable_energy',\n",
       "       'educational'], dtype=object)"
      ]
     },
     "execution_count": 100,
     "metadata": {},
     "output_type": "execute_result"
    }
   ],
   "source": [
    "x['purpose'].unique()"
   ]
  },
  {
   "cell_type": "code",
   "execution_count": 101,
   "metadata": {
    "scrolled": true
   },
   "outputs": [
    {
     "name": "stdout",
     "output_type": "stream",
     "text": [
      "term :   :   : 2\n",
      "grade :   :   : 7\n",
      "emp_length :   :   : 4\n",
      "home_ownership :   :   : 5\n",
      "verification_status :   :   : 3\n",
      "purpose :   :   : 14\n",
      "addr_state :   :   : 5\n",
      "debt_settlement_flag :   :   : 2\n"
     ]
    }
   ],
   "source": [
    "for i in xcat:\n",
    "    print(i,':   :   :',len(data[i].unique()))"
   ]
  },
  {
   "cell_type": "code",
   "execution_count": 102,
   "metadata": {},
   "outputs": [],
   "source": [
    "xdummy1=pd.get_dummies(x,columns=[i for i in xcat], prefix = [i for i in xcat],drop_first=True) "
   ]
  },
  {
   "cell_type": "code",
   "execution_count": 103,
   "metadata": {},
   "outputs": [
    {
     "data": {
      "text/plain": [
       "(42535, 60)"
      ]
     },
     "execution_count": 103,
     "metadata": {},
     "output_type": "execute_result"
    }
   ],
   "source": [
    "xdummy1.shape"
   ]
  },
  {
   "cell_type": "code",
   "execution_count": 104,
   "metadata": {},
   "outputs": [
    {
     "data": {
      "text/html": [
       "<div>\n",
       "<style scoped>\n",
       "    .dataframe tbody tr th:only-of-type {\n",
       "        vertical-align: middle;\n",
       "    }\n",
       "\n",
       "    .dataframe tbody tr th {\n",
       "        vertical-align: top;\n",
       "    }\n",
       "\n",
       "    .dataframe thead th {\n",
       "        text-align: right;\n",
       "    }\n",
       "</style>\n",
       "<table border=\"1\" class=\"dataframe\">\n",
       "  <thead>\n",
       "    <tr style=\"text-align: right;\">\n",
       "      <th></th>\n",
       "      <th>loan_amnt</th>\n",
       "      <th>funded_amnt</th>\n",
       "      <th>funded_amnt_inv</th>\n",
       "      <th>installment</th>\n",
       "      <th>annual_inc</th>\n",
       "      <th>issue_d</th>\n",
       "      <th>dti</th>\n",
       "      <th>delinq_2yrs</th>\n",
       "      <th>mths_since_last_delinq</th>\n",
       "      <th>open_acc</th>\n",
       "      <th>...</th>\n",
       "      <th>purpose_other</th>\n",
       "      <th>purpose_renewable_energy</th>\n",
       "      <th>purpose_small_business</th>\n",
       "      <th>purpose_vacation</th>\n",
       "      <th>purpose_wedding</th>\n",
       "      <th>addr_state_NORTH-EAST</th>\n",
       "      <th>addr_state_SOUTH-EAST</th>\n",
       "      <th>addr_state_SOUTH-WEST</th>\n",
       "      <th>addr_state_WEST</th>\n",
       "      <th>debt_settlement_flag_Y</th>\n",
       "    </tr>\n",
       "  </thead>\n",
       "  <tbody>\n",
       "    <tr>\n",
       "      <th>0</th>\n",
       "      <td>5000</td>\n",
       "      <td>5000</td>\n",
       "      <td>4975.0</td>\n",
       "      <td>162.87</td>\n",
       "      <td>24000.0</td>\n",
       "      <td>2011</td>\n",
       "      <td>27.65</td>\n",
       "      <td>0.0</td>\n",
       "      <td>33.0</td>\n",
       "      <td>3.0</td>\n",
       "      <td>...</td>\n",
       "      <td>0</td>\n",
       "      <td>0</td>\n",
       "      <td>0</td>\n",
       "      <td>0</td>\n",
       "      <td>0</td>\n",
       "      <td>0</td>\n",
       "      <td>0</td>\n",
       "      <td>1</td>\n",
       "      <td>0</td>\n",
       "      <td>0</td>\n",
       "    </tr>\n",
       "    <tr>\n",
       "      <th>1</th>\n",
       "      <td>2500</td>\n",
       "      <td>2500</td>\n",
       "      <td>2500.0</td>\n",
       "      <td>59.83</td>\n",
       "      <td>30000.0</td>\n",
       "      <td>2011</td>\n",
       "      <td>1.00</td>\n",
       "      <td>0.0</td>\n",
       "      <td>33.0</td>\n",
       "      <td>3.0</td>\n",
       "      <td>...</td>\n",
       "      <td>0</td>\n",
       "      <td>0</td>\n",
       "      <td>0</td>\n",
       "      <td>0</td>\n",
       "      <td>0</td>\n",
       "      <td>0</td>\n",
       "      <td>1</td>\n",
       "      <td>0</td>\n",
       "      <td>0</td>\n",
       "      <td>0</td>\n",
       "    </tr>\n",
       "    <tr>\n",
       "      <th>2</th>\n",
       "      <td>2400</td>\n",
       "      <td>2400</td>\n",
       "      <td>2400.0</td>\n",
       "      <td>84.33</td>\n",
       "      <td>12252.0</td>\n",
       "      <td>2011</td>\n",
       "      <td>8.72</td>\n",
       "      <td>0.0</td>\n",
       "      <td>33.0</td>\n",
       "      <td>2.0</td>\n",
       "      <td>...</td>\n",
       "      <td>0</td>\n",
       "      <td>0</td>\n",
       "      <td>1</td>\n",
       "      <td>0</td>\n",
       "      <td>0</td>\n",
       "      <td>0</td>\n",
       "      <td>0</td>\n",
       "      <td>0</td>\n",
       "      <td>0</td>\n",
       "      <td>0</td>\n",
       "    </tr>\n",
       "    <tr>\n",
       "      <th>3</th>\n",
       "      <td>10000</td>\n",
       "      <td>10000</td>\n",
       "      <td>10000.0</td>\n",
       "      <td>339.31</td>\n",
       "      <td>49200.0</td>\n",
       "      <td>2011</td>\n",
       "      <td>20.00</td>\n",
       "      <td>0.0</td>\n",
       "      <td>35.0</td>\n",
       "      <td>10.0</td>\n",
       "      <td>...</td>\n",
       "      <td>1</td>\n",
       "      <td>0</td>\n",
       "      <td>0</td>\n",
       "      <td>0</td>\n",
       "      <td>0</td>\n",
       "      <td>0</td>\n",
       "      <td>0</td>\n",
       "      <td>0</td>\n",
       "      <td>1</td>\n",
       "      <td>0</td>\n",
       "    </tr>\n",
       "    <tr>\n",
       "      <th>4</th>\n",
       "      <td>3000</td>\n",
       "      <td>3000</td>\n",
       "      <td>3000.0</td>\n",
       "      <td>67.79</td>\n",
       "      <td>80000.0</td>\n",
       "      <td>2011</td>\n",
       "      <td>17.94</td>\n",
       "      <td>0.0</td>\n",
       "      <td>38.0</td>\n",
       "      <td>15.0</td>\n",
       "      <td>...</td>\n",
       "      <td>1</td>\n",
       "      <td>0</td>\n",
       "      <td>0</td>\n",
       "      <td>0</td>\n",
       "      <td>0</td>\n",
       "      <td>0</td>\n",
       "      <td>0</td>\n",
       "      <td>0</td>\n",
       "      <td>1</td>\n",
       "      <td>0</td>\n",
       "    </tr>\n",
       "  </tbody>\n",
       "</table>\n",
       "<p>5 rows × 60 columns</p>\n",
       "</div>"
      ],
      "text/plain": [
       "   loan_amnt  funded_amnt  funded_amnt_inv  installment  annual_inc  issue_d  \\\n",
       "0       5000         5000           4975.0       162.87     24000.0     2011   \n",
       "1       2500         2500           2500.0        59.83     30000.0     2011   \n",
       "2       2400         2400           2400.0        84.33     12252.0     2011   \n",
       "3      10000        10000          10000.0       339.31     49200.0     2011   \n",
       "4       3000         3000           3000.0        67.79     80000.0     2011   \n",
       "\n",
       "     dti  delinq_2yrs  mths_since_last_delinq  open_acc  \\\n",
       "0  27.65          0.0                    33.0       3.0   \n",
       "1   1.00          0.0                    33.0       3.0   \n",
       "2   8.72          0.0                    33.0       2.0   \n",
       "3  20.00          0.0                    35.0      10.0   \n",
       "4  17.94          0.0                    38.0      15.0   \n",
       "\n",
       "            ...            purpose_other  purpose_renewable_energy  \\\n",
       "0           ...                        0                         0   \n",
       "1           ...                        0                         0   \n",
       "2           ...                        0                         0   \n",
       "3           ...                        1                         0   \n",
       "4           ...                        1                         0   \n",
       "\n",
       "   purpose_small_business  purpose_vacation  purpose_wedding  \\\n",
       "0                       0                 0                0   \n",
       "1                       0                 0                0   \n",
       "2                       1                 0                0   \n",
       "3                       0                 0                0   \n",
       "4                       0                 0                0   \n",
       "\n",
       "   addr_state_NORTH-EAST  addr_state_SOUTH-EAST  addr_state_SOUTH-WEST  \\\n",
       "0                      0                      0                      1   \n",
       "1                      0                      1                      0   \n",
       "2                      0                      0                      0   \n",
       "3                      0                      0                      0   \n",
       "4                      0                      0                      0   \n",
       "\n",
       "   addr_state_WEST  debt_settlement_flag_Y  \n",
       "0                0                       0  \n",
       "1                0                       0  \n",
       "2                0                       0  \n",
       "3                1                       0  \n",
       "4                1                       0  \n",
       "\n",
       "[5 rows x 60 columns]"
      ]
     },
     "execution_count": 104,
     "metadata": {},
     "output_type": "execute_result"
    }
   ],
   "source": [
    "xdummy1.head()"
   ]
  },
  {
   "cell_type": "code",
   "execution_count": 105,
   "metadata": {},
   "outputs": [
    {
     "data": {
      "text/html": [
       "<div>\n",
       "<style scoped>\n",
       "    .dataframe tbody tr th:only-of-type {\n",
       "        vertical-align: middle;\n",
       "    }\n",
       "\n",
       "    .dataframe tbody tr th {\n",
       "        vertical-align: top;\n",
       "    }\n",
       "\n",
       "    .dataframe thead th {\n",
       "        text-align: right;\n",
       "    }\n",
       "</style>\n",
       "<table border=\"1\" class=\"dataframe\">\n",
       "  <thead>\n",
       "    <tr style=\"text-align: right;\">\n",
       "      <th></th>\n",
       "      <th>VIF Factor</th>\n",
       "      <th>features</th>\n",
       "    </tr>\n",
       "  </thead>\n",
       "  <tbody>\n",
       "    <tr>\n",
       "      <th>0</th>\n",
       "      <td>9.351008e+01</td>\n",
       "      <td>loan_amnt</td>\n",
       "    </tr>\n",
       "    <tr>\n",
       "      <th>1</th>\n",
       "      <td>5.003971e+02</td>\n",
       "      <td>funded_amnt</td>\n",
       "    </tr>\n",
       "    <tr>\n",
       "      <th>2</th>\n",
       "      <td>2.187027e+02</td>\n",
       "      <td>funded_amnt_inv</td>\n",
       "    </tr>\n",
       "    <tr>\n",
       "      <th>3</th>\n",
       "      <td>1.717423e+02</td>\n",
       "      <td>installment</td>\n",
       "    </tr>\n",
       "    <tr>\n",
       "      <th>4</th>\n",
       "      <td>2.729268e+00</td>\n",
       "      <td>annual_inc</td>\n",
       "    </tr>\n",
       "    <tr>\n",
       "      <th>5</th>\n",
       "      <td>5.564741e+01</td>\n",
       "      <td>issue_d</td>\n",
       "    </tr>\n",
       "    <tr>\n",
       "      <th>6</th>\n",
       "      <td>6.663783e+00</td>\n",
       "      <td>dti</td>\n",
       "    </tr>\n",
       "    <tr>\n",
       "      <th>7</th>\n",
       "      <td>1.520155e+00</td>\n",
       "      <td>delinq_2yrs</td>\n",
       "    </tr>\n",
       "    <tr>\n",
       "      <th>8</th>\n",
       "      <td>9.413788e+00</td>\n",
       "      <td>mths_since_last_delinq</td>\n",
       "    </tr>\n",
       "    <tr>\n",
       "      <th>9</th>\n",
       "      <td>1.139043e+01</td>\n",
       "      <td>open_acc</td>\n",
       "    </tr>\n",
       "    <tr>\n",
       "      <th>10</th>\n",
       "      <td>3.350327e+00</td>\n",
       "      <td>pub_rec</td>\n",
       "    </tr>\n",
       "    <tr>\n",
       "      <th>11</th>\n",
       "      <td>1.907916e+00</td>\n",
       "      <td>revol_bal</td>\n",
       "    </tr>\n",
       "    <tr>\n",
       "      <th>12</th>\n",
       "      <td>6.634566e+00</td>\n",
       "      <td>revol_util</td>\n",
       "    </tr>\n",
       "    <tr>\n",
       "      <th>13</th>\n",
       "      <td>1.073546e+01</td>\n",
       "      <td>total_acc</td>\n",
       "    </tr>\n",
       "    <tr>\n",
       "      <th>14</th>\n",
       "      <td>3.194042e+13</td>\n",
       "      <td>total_pymnt</td>\n",
       "    </tr>\n",
       "    <tr>\n",
       "      <th>15</th>\n",
       "      <td>2.687793e+02</td>\n",
       "      <td>total_pymnt_inv</td>\n",
       "    </tr>\n",
       "    <tr>\n",
       "      <th>16</th>\n",
       "      <td>2.024090e+13</td>\n",
       "      <td>total_rec_prncp</td>\n",
       "    </tr>\n",
       "    <tr>\n",
       "      <th>17</th>\n",
       "      <td>1.642451e+12</td>\n",
       "      <td>total_rec_int</td>\n",
       "    </tr>\n",
       "    <tr>\n",
       "      <th>18</th>\n",
       "      <td>8.929084e+06</td>\n",
       "      <td>total_rec_late_fee</td>\n",
       "    </tr>\n",
       "    <tr>\n",
       "      <th>19</th>\n",
       "      <td>7.769314e+10</td>\n",
       "      <td>recoveries</td>\n",
       "    </tr>\n",
       "    <tr>\n",
       "      <th>20</th>\n",
       "      <td>3.239541e+00</td>\n",
       "      <td>collection_recovery_fee</td>\n",
       "    </tr>\n",
       "    <tr>\n",
       "      <th>21</th>\n",
       "      <td>2.734088e+00</td>\n",
       "      <td>last_pymnt_amnt</td>\n",
       "    </tr>\n",
       "    <tr>\n",
       "      <th>22</th>\n",
       "      <td>1.342130e+00</td>\n",
       "      <td>acc_now_delinq</td>\n",
       "    </tr>\n",
       "    <tr>\n",
       "      <th>23</th>\n",
       "      <td>1.356149e+00</td>\n",
       "      <td>delinq_amnt</td>\n",
       "    </tr>\n",
       "    <tr>\n",
       "      <th>24</th>\n",
       "      <td>3.288070e+00</td>\n",
       "      <td>pub_rec_bankruptcies</td>\n",
       "    </tr>\n",
       "    <tr>\n",
       "      <th>25</th>\n",
       "      <td>1.002412e+00</td>\n",
       "      <td>tax_liens</td>\n",
       "    </tr>\n",
       "    <tr>\n",
       "      <th>26</th>\n",
       "      <td>6.711516e+00</td>\n",
       "      <td>term_60</td>\n",
       "    </tr>\n",
       "    <tr>\n",
       "      <th>27</th>\n",
       "      <td>2.641308e+00</td>\n",
       "      <td>grade_B</td>\n",
       "    </tr>\n",
       "    <tr>\n",
       "      <th>28</th>\n",
       "      <td>2.652784e+00</td>\n",
       "      <td>grade_C</td>\n",
       "    </tr>\n",
       "    <tr>\n",
       "      <th>29</th>\n",
       "      <td>2.679679e+00</td>\n",
       "      <td>grade_D</td>\n",
       "    </tr>\n",
       "    <tr>\n",
       "      <th>30</th>\n",
       "      <td>2.458163e+00</td>\n",
       "      <td>grade_E</td>\n",
       "    </tr>\n",
       "    <tr>\n",
       "      <th>31</th>\n",
       "      <td>1.824310e+00</td>\n",
       "      <td>grade_F</td>\n",
       "    </tr>\n",
       "    <tr>\n",
       "      <th>32</th>\n",
       "      <td>1.379571e+00</td>\n",
       "      <td>grade_G</td>\n",
       "    </tr>\n",
       "    <tr>\n",
       "      <th>33</th>\n",
       "      <td>1.821655e+00</td>\n",
       "      <td>emp_length_2-5 years</td>\n",
       "    </tr>\n",
       "    <tr>\n",
       "      <th>34</th>\n",
       "      <td>1.446793e+00</td>\n",
       "      <td>emp_length_5-8 years</td>\n",
       "    </tr>\n",
       "    <tr>\n",
       "      <th>35</th>\n",
       "      <td>1.941857e+00</td>\n",
       "      <td>emp_length_More than 9</td>\n",
       "    </tr>\n",
       "    <tr>\n",
       "      <th>36</th>\n",
       "      <td>1.003400e+00</td>\n",
       "      <td>home_ownership_NONE</td>\n",
       "    </tr>\n",
       "    <tr>\n",
       "      <th>37</th>\n",
       "      <td>1.016122e+00</td>\n",
       "      <td>home_ownership_OTHER</td>\n",
       "    </tr>\n",
       "    <tr>\n",
       "      <th>38</th>\n",
       "      <td>1.217798e+00</td>\n",
       "      <td>home_ownership_OWN</td>\n",
       "    </tr>\n",
       "    <tr>\n",
       "      <th>39</th>\n",
       "      <td>2.764747e+00</td>\n",
       "      <td>home_ownership_RENT</td>\n",
       "    </tr>\n",
       "    <tr>\n",
       "      <th>40</th>\n",
       "      <td>1.643511e+00</td>\n",
       "      <td>verification_status_Source Verified</td>\n",
       "    </tr>\n",
       "    <tr>\n",
       "      <th>41</th>\n",
       "      <td>2.175765e+00</td>\n",
       "      <td>verification_status_Verified</td>\n",
       "    </tr>\n",
       "    <tr>\n",
       "      <th>42</th>\n",
       "      <td>4.635200e+00</td>\n",
       "      <td>purpose_credit_card</td>\n",
       "    </tr>\n",
       "    <tr>\n",
       "      <th>43</th>\n",
       "      <td>1.410685e+01</td>\n",
       "      <td>purpose_debt_consolidation</td>\n",
       "    </tr>\n",
       "    <tr>\n",
       "      <th>44</th>\n",
       "      <td>1.284997e+00</td>\n",
       "      <td>purpose_educational</td>\n",
       "    </tr>\n",
       "    <tr>\n",
       "      <th>45</th>\n",
       "      <td>3.083015e+00</td>\n",
       "      <td>purpose_home_improvement</td>\n",
       "    </tr>\n",
       "    <tr>\n",
       "      <th>46</th>\n",
       "      <td>1.279510e+00</td>\n",
       "      <td>purpose_house</td>\n",
       "    </tr>\n",
       "    <tr>\n",
       "      <th>47</th>\n",
       "      <td>2.460926e+00</td>\n",
       "      <td>purpose_major_purchase</td>\n",
       "    </tr>\n",
       "    <tr>\n",
       "      <th>48</th>\n",
       "      <td>1.480485e+00</td>\n",
       "      <td>purpose_medical</td>\n",
       "    </tr>\n",
       "    <tr>\n",
       "      <th>49</th>\n",
       "      <td>1.410169e+00</td>\n",
       "      <td>purpose_moving</td>\n",
       "    </tr>\n",
       "    <tr>\n",
       "      <th>50</th>\n",
       "      <td>3.823436e+00</td>\n",
       "      <td>purpose_other</td>\n",
       "    </tr>\n",
       "    <tr>\n",
       "      <th>51</th>\n",
       "      <td>1.068508e+00</td>\n",
       "      <td>purpose_renewable_energy</td>\n",
       "    </tr>\n",
       "    <tr>\n",
       "      <th>52</th>\n",
       "      <td>2.330884e+00</td>\n",
       "      <td>purpose_small_business</td>\n",
       "    </tr>\n",
       "    <tr>\n",
       "      <th>53</th>\n",
       "      <td>1.257163e+00</td>\n",
       "      <td>purpose_vacation</td>\n",
       "    </tr>\n",
       "    <tr>\n",
       "      <th>54</th>\n",
       "      <td>1.650475e+00</td>\n",
       "      <td>purpose_wedding</td>\n",
       "    </tr>\n",
       "    <tr>\n",
       "      <th>55</th>\n",
       "      <td>2.962588e+00</td>\n",
       "      <td>addr_state_NORTH-EAST</td>\n",
       "    </tr>\n",
       "    <tr>\n",
       "      <th>56</th>\n",
       "      <td>2.573206e+00</td>\n",
       "      <td>addr_state_SOUTH-EAST</td>\n",
       "    </tr>\n",
       "    <tr>\n",
       "      <th>57</th>\n",
       "      <td>1.722119e+00</td>\n",
       "      <td>addr_state_SOUTH-WEST</td>\n",
       "    </tr>\n",
       "    <tr>\n",
       "      <th>58</th>\n",
       "      <td>2.852989e+00</td>\n",
       "      <td>addr_state_WEST</td>\n",
       "    </tr>\n",
       "    <tr>\n",
       "      <th>59</th>\n",
       "      <td>1.059142e+00</td>\n",
       "      <td>debt_settlement_flag_Y</td>\n",
       "    </tr>\n",
       "  </tbody>\n",
       "</table>\n",
       "</div>"
      ],
      "text/plain": [
       "      VIF Factor                             features\n",
       "0   9.351008e+01                            loan_amnt\n",
       "1   5.003971e+02                          funded_amnt\n",
       "2   2.187027e+02                      funded_amnt_inv\n",
       "3   1.717423e+02                          installment\n",
       "4   2.729268e+00                           annual_inc\n",
       "5   5.564741e+01                              issue_d\n",
       "6   6.663783e+00                                  dti\n",
       "7   1.520155e+00                          delinq_2yrs\n",
       "8   9.413788e+00               mths_since_last_delinq\n",
       "9   1.139043e+01                             open_acc\n",
       "10  3.350327e+00                              pub_rec\n",
       "11  1.907916e+00                            revol_bal\n",
       "12  6.634566e+00                           revol_util\n",
       "13  1.073546e+01                            total_acc\n",
       "14  3.194042e+13                          total_pymnt\n",
       "15  2.687793e+02                      total_pymnt_inv\n",
       "16  2.024090e+13                      total_rec_prncp\n",
       "17  1.642451e+12                        total_rec_int\n",
       "18  8.929084e+06                   total_rec_late_fee\n",
       "19  7.769314e+10                           recoveries\n",
       "20  3.239541e+00              collection_recovery_fee\n",
       "21  2.734088e+00                      last_pymnt_amnt\n",
       "22  1.342130e+00                       acc_now_delinq\n",
       "23  1.356149e+00                          delinq_amnt\n",
       "24  3.288070e+00                 pub_rec_bankruptcies\n",
       "25  1.002412e+00                            tax_liens\n",
       "26  6.711516e+00                              term_60\n",
       "27  2.641308e+00                              grade_B\n",
       "28  2.652784e+00                              grade_C\n",
       "29  2.679679e+00                              grade_D\n",
       "30  2.458163e+00                              grade_E\n",
       "31  1.824310e+00                              grade_F\n",
       "32  1.379571e+00                              grade_G\n",
       "33  1.821655e+00                 emp_length_2-5 years\n",
       "34  1.446793e+00                 emp_length_5-8 years\n",
       "35  1.941857e+00               emp_length_More than 9\n",
       "36  1.003400e+00                  home_ownership_NONE\n",
       "37  1.016122e+00                 home_ownership_OTHER\n",
       "38  1.217798e+00                   home_ownership_OWN\n",
       "39  2.764747e+00                  home_ownership_RENT\n",
       "40  1.643511e+00  verification_status_Source Verified\n",
       "41  2.175765e+00         verification_status_Verified\n",
       "42  4.635200e+00                  purpose_credit_card\n",
       "43  1.410685e+01           purpose_debt_consolidation\n",
       "44  1.284997e+00                  purpose_educational\n",
       "45  3.083015e+00             purpose_home_improvement\n",
       "46  1.279510e+00                        purpose_house\n",
       "47  2.460926e+00               purpose_major_purchase\n",
       "48  1.480485e+00                      purpose_medical\n",
       "49  1.410169e+00                       purpose_moving\n",
       "50  3.823436e+00                        purpose_other\n",
       "51  1.068508e+00             purpose_renewable_energy\n",
       "52  2.330884e+00               purpose_small_business\n",
       "53  1.257163e+00                     purpose_vacation\n",
       "54  1.650475e+00                      purpose_wedding\n",
       "55  2.962588e+00                addr_state_NORTH-EAST\n",
       "56  2.573206e+00                addr_state_SOUTH-EAST\n",
       "57  1.722119e+00                addr_state_SOUTH-WEST\n",
       "58  2.852989e+00                      addr_state_WEST\n",
       "59  1.059142e+00               debt_settlement_flag_Y"
      ]
     },
     "execution_count": 105,
     "metadata": {},
     "output_type": "execute_result"
    }
   ],
   "source": [
    "from statsmodels.stats.outliers_influence import variance_inflation_factor\n",
    "\n",
    "vif = pd.DataFrame()\n",
    "vif[\"VIF Factor\"] = [variance_inflation_factor(xdummy1.values, i) for i in range(xdummy1.shape[1])]\n",
    "vif[\"features\"] = xdummy1.columns\n",
    "\n",
    "vif\n"
   ]
  },
  {
   "cell_type": "code",
   "execution_count": 106,
   "metadata": {},
   "outputs": [
    {
     "data": {
      "text/plain": [
       "14    3.194042e+13\n",
       "16    2.024090e+13\n",
       "17    1.642451e+12\n",
       "19    7.769314e+10\n",
       "18    8.929084e+06\n",
       "1     5.003971e+02\n",
       "15    2.687793e+02\n",
       "2     2.187027e+02\n",
       "3     1.717423e+02\n",
       "0     9.351008e+01\n",
       "5     5.564741e+01\n",
       "43    1.410685e+01\n",
       "9     1.139043e+01\n",
       "13    1.073546e+01\n",
       "8     9.413788e+00\n",
       "26    6.711516e+00\n",
       "6     6.663783e+00\n",
       "12    6.634566e+00\n",
       "42    4.635200e+00\n",
       "50    3.823436e+00\n",
       "10    3.350327e+00\n",
       "24    3.288070e+00\n",
       "20    3.239541e+00\n",
       "45    3.083015e+00\n",
       "55    2.962588e+00\n",
       "58    2.852989e+00\n",
       "39    2.764747e+00\n",
       "21    2.734088e+00\n",
       "4     2.729268e+00\n",
       "29    2.679679e+00\n",
       "28    2.652784e+00\n",
       "27    2.641308e+00\n",
       "56    2.573206e+00\n",
       "47    2.460926e+00\n",
       "30    2.458163e+00\n",
       "52    2.330884e+00\n",
       "41    2.175765e+00\n",
       "35    1.941857e+00\n",
       "11    1.907916e+00\n",
       "31    1.824310e+00\n",
       "33    1.821655e+00\n",
       "57    1.722119e+00\n",
       "54    1.650475e+00\n",
       "40    1.643511e+00\n",
       "7     1.520155e+00\n",
       "48    1.480485e+00\n",
       "34    1.446793e+00\n",
       "49    1.410169e+00\n",
       "32    1.379571e+00\n",
       "23    1.356149e+00\n",
       "22    1.342130e+00\n",
       "44    1.284997e+00\n",
       "46    1.279510e+00\n",
       "53    1.257163e+00\n",
       "38    1.217798e+00\n",
       "51    1.068508e+00\n",
       "59    1.059142e+00\n",
       "37    1.016122e+00\n",
       "36    1.003400e+00\n",
       "25    1.002412e+00\n",
       "Name: VIF Factor, dtype: float64"
      ]
     },
     "execution_count": 106,
     "metadata": {},
     "output_type": "execute_result"
    }
   ],
   "source": [
    "vif[\"VIF Factor\"].sort_values(ascending=False)"
   ]
  },
  {
   "cell_type": "code",
   "execution_count": 107,
   "metadata": {},
   "outputs": [],
   "source": [
    "#In order to remove multicollinearity,Variables with high vif values are treated\n",
    "\n",
    "xdummy1.drop(['total_pymnt','total_rec_prncp','total_rec_int','total_rec_late_fee','issue_d','funded_amnt_inv','loan_amnt','funded_amnt'],axis=1,inplace=True)"
   ]
  },
  {
   "cell_type": "code",
   "execution_count": 108,
   "metadata": {},
   "outputs": [],
   "source": [
    "from sklearn.model_selection import train_test_split     "
   ]
  },
  {
   "cell_type": "code",
   "execution_count": 109,
   "metadata": {},
   "outputs": [],
   "source": [
    "xtrain,xtest,ytrain,ytest=train_test_split(xdummy1,y,test_size=0.3,random_state=3)    #splitting in to train and test"
   ]
  },
  {
   "cell_type": "code",
   "execution_count": 110,
   "metadata": {},
   "outputs": [],
   "source": [
    "from sklearn.linear_model import LinearRegression\n",
    "\n",
    "from sklearn.metrics import mean_squared_error,r2_score\n",
    "from sklearn.preprocessing import StandardScaler\n",
    "\n",
    "from sklearn.decomposition import PCA"
   ]
  },
  {
   "cell_type": "code",
   "execution_count": 111,
   "metadata": {},
   "outputs": [
    {
     "data": {
      "text/plain": [
       "(29774,)"
      ]
     },
     "execution_count": 111,
     "metadata": {},
     "output_type": "execute_result"
    }
   ],
   "source": [
    "ytrain.shape\n"
   ]
  },
  {
   "cell_type": "code",
   "execution_count": null,
   "metadata": {},
   "outputs": [],
   "source": []
  },
  {
   "cell_type": "code",
   "execution_count": 112,
   "metadata": {},
   "outputs": [],
   "source": [
    "sc=StandardScaler()\n",
    "sc1=StandardScaler()\n",
    "xtrainscale=pd.DataFrame(sc.fit_transform(xtrain),columns=xtrain.columns)\n",
    "\n",
    "xtestscale=pd.DataFrame(sc.transform(xtest),columns=xtest.columns)\n",
    "\n",
    "\n",
    "\n",
    "\n",
    "\n"
   ]
  },
  {
   "cell_type": "code",
   "execution_count": 113,
   "metadata": {},
   "outputs": [],
   "source": [
    "lr=LinearRegression()\n",
    "\n",
    "model=lr.fit(xtrainscale,ytrain)\n",
    "\n",
    "lrpred=model.predict(xtestscale)\n",
    "\n",
    "\n",
    "\n"
   ]
  },
  {
   "cell_type": "code",
   "execution_count": 114,
   "metadata": {},
   "outputs": [
    {
     "data": {
      "text/plain": [
       "1.0396766472517398"
      ]
     },
     "execution_count": 114,
     "metadata": {},
     "output_type": "execute_result"
    }
   ],
   "source": [
    "mse=mean_squared_error(ytest,lrpred)\n",
    "\n",
    "rmse=np.sqrt(mse)\n",
    "\n",
    "rmse"
   ]
  },
  {
   "cell_type": "code",
   "execution_count": 115,
   "metadata": {},
   "outputs": [
    {
     "data": {
      "text/plain": [
       "0.9208868821298066"
      ]
     },
     "execution_count": 115,
     "metadata": {},
     "output_type": "execute_result"
    }
   ],
   "source": [
    "r2=r2_score(ytest,lrpred)\n",
    "\n",
    "r2      #r2 value is 92%"
   ]
  },
  {
   "cell_type": "code",
   "execution_count": 116,
   "metadata": {},
   "outputs": [],
   "source": [
    "from sklearn import metrics"
   ]
  },
  {
   "cell_type": "code",
   "execution_count": 117,
   "metadata": {},
   "outputs": [
    {
     "data": {
      "text/plain": [
       "array([-4.81289809e-02, -9.73869537e-03, -2.46902014e-02,  9.91397224e-02,\n",
       "        9.22707178e-02,  6.18984911e-02, -1.19331859e-03, -4.69524733e-02,\n",
       "        1.98989388e-01, -7.73485504e-02,  2.79435489e-01,  1.39792290e-01,\n",
       "       -9.81109782e-02,  2.68242908e-02, -1.18778265e-02, -1.99299606e-02,\n",
       "        2.46524333e-02, -1.65392951e-02,  2.16256841e-01,  1.52193578e+00,\n",
       "        2.31552808e+00,  2.67338078e+00,  2.50350106e+00,  1.89436143e+00,\n",
       "        1.34802256e+00,  1.57072402e-02,  7.79930284e-03,  3.95382294e-03,\n",
       "        2.23694300e-04,  8.73265679e-03,  3.78649065e-02,  5.11064424e-02,\n",
       "        5.87485515e-02,  6.83436337e-02,  1.34311623e-02,  4.50754614e-02,\n",
       "        1.61847993e-02,  3.31135367e-02,  1.72977300e-02,  1.40854562e-02,\n",
       "        1.23637638e-02,  3.42295203e-02,  7.30834383e-02,  4.95503033e-03,\n",
       "        3.83320251e-02,  1.10768042e-02,  1.71677877e-02, -8.28237512e-03,\n",
       "       -5.30483701e-03,  1.62724165e-02,  7.54183985e-03, -7.01391820e-03])"
      ]
     },
     "execution_count": 117,
     "metadata": {},
     "output_type": "execute_result"
    }
   ],
   "source": [
    "model.coef_"
   ]
  },
  {
   "cell_type": "code",
   "execution_count": 118,
   "metadata": {},
   "outputs": [
    {
     "name": "stdout",
     "output_type": "stream",
     "text": [
      "1.0396766472517187\n",
      "0.9208868821298098\n"
     ]
    }
   ],
   "source": [
    "lr1=LinearRegression()\n",
    "\n",
    "model1=lr1.fit(xtrain,ytrain)    #Fitting the model with unscaled data\n",
    "\n",
    "lrpred1=model1.predict(xtest)\n",
    "mse1=mean_squared_error(ytest,lrpred1)\n",
    "\n",
    "rmse1=np.sqrt(mse1)\n",
    "\n",
    "print(rmse1)\n",
    "r12=r2_score(ytest,lrpred1)\n",
    "\n",
    "print(r12)\n",
    "\n",
    "\n",
    "\n",
    "\n",
    "\n"
   ]
  },
  {
   "cell_type": "code",
   "execution_count": null,
   "metadata": {},
   "outputs": [],
   "source": []
  },
  {
   "cell_type": "code",
   "execution_count": 119,
   "metadata": {},
   "outputs": [],
   "source": [
    "#application of ridge and lasso"
   ]
  },
  {
   "cell_type": "code",
   "execution_count": 120,
   "metadata": {},
   "outputs": [],
   "source": [
    "from sklearn import linear_model\n",
    "\n",
    "regr_lasso = linear_model.Lasso(alpha=0.1)\n",
    "\n",
    "regr_ridge = linear_model.Ridge(alpha=1.0)\n"
   ]
  },
  {
   "cell_type": "code",
   "execution_count": 121,
   "metadata": {},
   "outputs": [
    {
     "name": "stdout",
     "output_type": "stream",
     "text": [
      "1.039677478493736\n",
      "0.913724995168891\n"
     ]
    }
   ],
   "source": [
    "rmodel=regr_ridge.fit(xtrainscale,ytrain)\n",
    "\n",
    "rpred=rmodel.predict(xtestscale)\n",
    "\n",
    "rmseR=np.sqrt(mean_squared_error(rpred,ytest))\n",
    "\n",
    "print(rmseR)\n",
    "\n",
    "print(r2_score(rpred,ytest))"
   ]
  },
  {
   "cell_type": "code",
   "execution_count": null,
   "metadata": {},
   "outputs": [],
   "source": []
  },
  {
   "cell_type": "code",
   "execution_count": 122,
   "metadata": {},
   "outputs": [
    {
     "name": "stdout",
     "output_type": "stream",
     "text": [
      "1.1408419935527983\n",
      "0.8715561367919237\n"
     ]
    }
   ],
   "source": [
    "lmodel=regr_lasso.fit(xtrainscale,ytrain)\n",
    "\n",
    "lpred=lmodel.predict(xtestscale)\n",
    "\n",
    "rmsel=np.sqrt(mean_squared_error(lpred,ytest))\n",
    "\n",
    "print(rmsel)\n",
    "\n",
    "print(r2_score(lpred,ytest))"
   ]
  },
  {
   "cell_type": "code",
   "execution_count": 123,
   "metadata": {},
   "outputs": [],
   "source": [
    "#new train test"
   ]
  },
  {
   "cell_type": "code",
   "execution_count": 124,
   "metadata": {},
   "outputs": [],
   "source": [
    "xdummy2=pd.get_dummies(x,columns=[i for i in xcat], prefix = [i for i in xcat],drop_first=True) "
   ]
  },
  {
   "cell_type": "code",
   "execution_count": 125,
   "metadata": {},
   "outputs": [],
   "source": [
    "xtrain1,xtest1,ytrain1,ytest1=train_test_split(xdummy2,y,test_size=0.3,random_state=3)"
   ]
  },
  {
   "cell_type": "code",
   "execution_count": 126,
   "metadata": {},
   "outputs": [],
   "source": [
    "sc1=StandardScaler()\n",
    "xtrainscale1=pd.DataFrame(sc1.fit_transform(xtrain1),columns=xtrain1.columns)\n",
    "\n",
    "xtestscale1=pd.DataFrame(sc1.transform(xtest1),columns=xtest1.columns)\n"
   ]
  },
  {
   "cell_type": "code",
   "execution_count": 127,
   "metadata": {},
   "outputs": [
    {
     "name": "stdout",
     "output_type": "stream",
     "text": [
      "1.1282177728975131\n",
      "0.8750505313314835\n"
     ]
    }
   ],
   "source": [
    "lmodel1=regr_lasso.fit(xtrainscale1,ytrain1)    #applying lasso on the data(without treating multi-collinearity)\n",
    "\n",
    "lpred1=lmodel1.predict(xtestscale1)\n",
    "\n",
    "rmsel1=np.sqrt(mean_squared_error(lpred1,ytest1))\n",
    "\n",
    "print(rmsel1)\n",
    "\n",
    "print(r2_score(lpred1,ytest1))"
   ]
  },
  {
   "cell_type": "code",
   "execution_count": 128,
   "metadata": {},
   "outputs": [
    {
     "data": {
      "text/plain": [
       "array([0.13637018, 0.17224939, 0.20693399, 0.23885034, 0.26874019,\n",
       "       0.29688681, 0.32285031, 0.34717608, 0.37086096, 0.39362948,\n",
       "       0.41589146, 0.43776179, 0.45880257, 0.47922537, 0.49932809,\n",
       "       0.51914581, 0.53859375, 0.55766019, 0.57615317, 0.59448075,\n",
       "       0.61224105, 0.62981546, 0.64709539, 0.66421894, 0.68119919,\n",
       "       0.69808811, 0.71493277, 0.73169968, 0.74832392, 0.76487055,\n",
       "       0.78140403, 0.7978661 , 0.8142849 , 0.83050043, 0.84626222,\n",
       "       0.86143494, 0.8760136 , 0.88985684, 0.90276424, 0.9143457 ,\n",
       "       0.92471068, 0.93432476, 0.9431864 , 0.95157172, 0.95927669,\n",
       "       0.966936  , 0.97356685, 0.97953556, 0.98426513, 0.9873283 ,\n",
       "       0.9902294 , 0.99295225, 0.99547756, 0.9971007 , 0.99848079,\n",
       "       0.99932952, 0.99978594, 0.99994244, 1.        , 1.        ])"
      ]
     },
     "execution_count": 128,
     "metadata": {},
     "output_type": "execute_result"
    }
   ],
   "source": [
    "pc=PCA(n_components=35)  # 35 components acquire 85% of variance in the data\n",
    "\n",
    "pca_train=pc.fit_transform(xtrainscale1)\n",
    "\n",
    "pca_test=pc.transform(xtestscale1)\n",
    "\n",
    "\n",
    "pc.explained_variance_\n",
    "\n",
    "np.cumsum(pc.explained_variance_ratio_)"
   ]
  },
  {
   "cell_type": "code",
   "execution_count": 129,
   "metadata": {},
   "outputs": [
    {
     "data": {
      "text/plain": [
       "Text(0.5,1,'finding the number of components')"
      ]
     },
     "execution_count": 129,
     "metadata": {},
     "output_type": "execute_result"
    },
    {
     "data": {
      "image/png": "[encoded data removed]",
      "text/plain": [
       "<Figure size 432x288 with 1 Axes>"
      ]
     },
     "metadata": {
      "needs_background": "light"
     },
     "output_type": "display_data"
    }
   ],
   "source": [
    "plt.plot(np.cumsum(pc.explained_variance_ratio_),marker='*',linestyle='dashed',markerfacecolor='red',markersize=10)\n",
    "\n",
    "plt.xlabel('number of components')\n",
    "plt.ylabel('explained variance(in %age)')\n",
    "plt.title('finding the number of components')"
   ]
  },
  {
   "cell_type": "code",
   "execution_count": 130,
   "metadata": {},
   "outputs": [
    {
     "name": "stdout",
     "output_type": "stream",
     "text": [
      "0.9623222306445606\n",
      "0.9270600352032781\n"
     ]
    }
   ],
   "source": [
    "lr3=LinearRegression()     #fitting regression model for pca data\n",
    "\n",
    "lrmodel3=lr3.fit(pca_train,ytrain1)\n",
    "\n",
    "lrpred3=lrmodel3.predict(pca_test)\n",
    "\n",
    "rmse3=np.sqrt(mean_squared_error(lrpred3,ytest1))\n",
    "print(rmse3)\n",
    "\n",
    "r_sq=r2_score(lrpred3,ytest1)\n",
    "\n",
    "print(r_sq)      #model performance after applying pca reduces"
   ]
  },
  {
   "cell_type": "code",
   "execution_count": 131,
   "metadata": {},
   "outputs": [
    {
     "data": {
      "text/plain": [
       "(42535, 52)"
      ]
     },
     "execution_count": 131,
     "metadata": {},
     "output_type": "execute_result"
    }
   ],
   "source": [
    "xdummy1.shape"
   ]
  },
  {
   "cell_type": "code",
   "execution_count": 132,
   "metadata": {},
   "outputs": [],
   "source": [
    "#classification model( for loan_status)"
   ]
  },
  {
   "cell_type": "code",
   "execution_count": 133,
   "metadata": {},
   "outputs": [
    {
     "data": {
      "text/plain": [
       "(42535, 52)"
      ]
     },
     "execution_count": 133,
     "metadata": {},
     "output_type": "execute_result"
    }
   ],
   "source": [
    "x1=xdummy1           #initiating x & y\n",
    "#here x is smae like xdummy1 in which multi-collinearity is treated\n",
    "y1=data['loan_status']\n",
    "\n",
    "x1.shape"
   ]
  },
  {
   "cell_type": "code",
   "execution_count": 134,
   "metadata": {},
   "outputs": [
    {
     "data": {
      "text/plain": [
       "array(['Fully Paid', 'Charged Off'], dtype=object)"
      ]
     },
     "execution_count": 134,
     "metadata": {},
     "output_type": "execute_result"
    }
   ],
   "source": [
    "y1.unique()"
   ]
  },
  {
   "cell_type": "code",
   "execution_count": 135,
   "metadata": {},
   "outputs": [],
   "source": [
    "y1=y1.replace(['Fully Paid', 'Charged Off'],[0,1])"
   ]
  },
  {
   "cell_type": "code",
   "execution_count": 136,
   "metadata": {},
   "outputs": [
    {
     "data": {
      "text/plain": [
       "<matplotlib.axes._subplots.AxesSubplot at 0x26b82674a20>"
      ]
     },
     "execution_count": 136,
     "metadata": {},
     "output_type": "execute_result"
    },
    {
     "data": {
      "image/png": "[encoded data removed]",
      "text/plain": [
       "<Figure size 432x288 with 1 Axes>"
      ]
     },
     "metadata": {
      "needs_background": "light"
     },
     "output_type": "display_data"
    }
   ],
   "source": [
    "y1.value_counts()\n",
    "\n",
    "\n",
    "6431/(36104+6431)             #data has imbalance\n",
    "                              #the ratio of fully paid to charged off is 85:15   i.e charged off category accounts for only 15% datapoints in the data\n",
    "\n",
    "sns.countplot(y1)"
   ]
  },
  {
   "cell_type": "code",
   "execution_count": 137,
   "metadata": {},
   "outputs": [],
   "source": [
    "xtrain2,xtest2,ytrain2,ytest2=train_test_split(x1,y1,test_size=0.3,random_state=3)"
   ]
  },
  {
   "cell_type": "code",
   "execution_count": 138,
   "metadata": {},
   "outputs": [],
   "source": [
    "sc2=StandardScaler()                                                               #scaling the data\n",
    "xtrainscale2=pd.DataFrame(sc2.fit_transform(xtrain2),columns=xtrain2.columns)\n",
    "\n",
    "xtestscale2=pd.DataFrame(sc2.transform(xtest2),columns=xtest2.columns)\n"
   ]
  },
  {
   "cell_type": "code",
   "execution_count": 139,
   "metadata": {},
   "outputs": [
    {
     "data": {
      "text/plain": [
       "0    25270\n",
       "1     4504\n",
       "Name: loan_status, dtype: int64"
      ]
     },
     "execution_count": 139,
     "metadata": {},
     "output_type": "execute_result"
    }
   ],
   "source": [
    "ytrain2.value_counts()        #value counts before application of smote"
   ]
  },
  {
   "cell_type": "code",
   "execution_count": 140,
   "metadata": {},
   "outputs": [],
   "source": [
    "from imblearn.over_sampling import SMOTE                  #applying smote\n",
    "smt = SMOTE()\n",
    "x_train, y_train = smt.fit_sample(xtrainscale2, ytrain2)"
   ]
  },
  {
   "cell_type": "code",
   "execution_count": 141,
   "metadata": {},
   "outputs": [
    {
     "data": {
      "text/plain": [
       "{0: 25270, 1: 25270}"
      ]
     },
     "execution_count": 141,
     "metadata": {},
     "output_type": "execute_result"
    }
   ],
   "source": [
    "unique,count=np.unique(y_train,return_counts=True)\n",
    "\n",
    "ytrain_smote_value_count= {k:v for (k,v) in zip(unique,count)}\n",
    "\n",
    "ytrain_smote_value_count             #value_counts after applying smote"
   ]
  },
  {
   "cell_type": "code",
   "execution_count": 142,
   "metadata": {},
   "outputs": [],
   "source": [
    "from sklearn.linear_model import LogisticRegression"
   ]
  },
  {
   "cell_type": "code",
   "execution_count": 143,
   "metadata": {},
   "outputs": [
    {
     "name": "stderr",
     "output_type": "stream",
     "text": [
      "F:\\PGPDSE\\Python\\lib\\site-packages\\sklearn\\linear_model\\logistic.py:432: FutureWarning: Default solver will be changed to 'lbfgs' in 0.22. Specify a solver to silence this warning.\n",
      "  FutureWarning)\n"
     ]
    },
    {
     "name": "stdout",
     "output_type": "stream",
     "text": [
      "0.9661468536948515\n"
     ]
    },
    {
     "data": {
      "text/plain": [
       "array([[10560,   158],\n",
       "       [  274,  1769]], dtype=int64)"
      ]
     },
     "execution_count": 143,
     "metadata": {},
     "output_type": "execute_result"
    }
   ],
   "source": [
    "logR=LogisticRegression()        #fitting classification model\n",
    "\n",
    "logmodel=logR.fit(x_train,y_train)\n",
    "\n",
    "logpred=logmodel.predict(xtestscale2)\n",
    "\n",
    "logacc=metrics.accuracy_score(logpred,ytest2)\n",
    "print(logacc)\n",
    "\n",
    "logcm=metrics.confusion_matrix(logpred,ytest2)\n",
    "\n",
    "logcm"
   ]
  },
  {
   "cell_type": "code",
   "execution_count": 144,
   "metadata": {},
   "outputs": [],
   "source": [
    "from sklearn.ensemble import RandomForestClassifier,AdaBoostClassifier,GradientBoostingClassifier"
   ]
  },
  {
   "cell_type": "code",
   "execution_count": 145,
   "metadata": {},
   "outputs": [],
   "source": [
    "rfc=RandomForestClassifier()\n",
    "\n",
    "gbc=GradientBoostingClassifier()\n",
    "\n",
    "abc=AdaBoostClassifier(n_estimators=100)\n",
    "\n"
   ]
  },
  {
   "cell_type": "code",
   "execution_count": 146,
   "metadata": {},
   "outputs": [],
   "source": [
    "models=[rfc,gbc,abc,logR]"
   ]
  },
  {
   "cell_type": "code",
   "execution_count": 147,
   "metadata": {},
   "outputs": [
    {
     "name": "stderr",
     "output_type": "stream",
     "text": [
      "F:\\PGPDSE\\Python\\lib\\site-packages\\sklearn\\ensemble\\forest.py:245: FutureWarning: The default value of n_estimators will change from 10 in version 0.20 to 100 in 0.22.\n",
      "  \"10 in version 0.20 to 100 in 0.22.\", FutureWarning)\n"
     ]
    },
    {
     "name": "stdout",
     "output_type": "stream",
     "text": [
      "RandomForestClassifier(bootstrap=True, class_weight=None, criterion='gini',\n",
      "                       max_depth=None, max_features='auto', max_leaf_nodes=None,\n",
      "                       min_impurity_decrease=0.0, min_impurity_split=None,\n",
      "                       min_samples_leaf=1, min_samples_split=2,\n",
      "                       min_weight_fraction_leaf=0.0, n_estimators=10,\n",
      "                       n_jobs=None, oob_score=False, random_state=None,\n",
      "                       verbose=0, warm_start=False)\n",
      "0.9979625421205235\n",
      "0.9920095184667146\n",
      "[[10834     0]\n",
      " [   26  1901]]\n",
      "              precision    recall  f1-score   support\n",
      "\n",
      "           0       1.00      1.00      1.00     10834\n",
      "           1       1.00      0.99      0.99      1927\n",
      "\n",
      "    accuracy                           1.00     12761\n",
      "   macro avg       1.00      0.99      1.00     12761\n",
      "weighted avg       1.00      1.00      1.00     12761\n",
      "\n",
      "GradientBoostingClassifier(criterion='friedman_mse', init=None,\n",
      "                           learning_rate=0.1, loss='deviance', max_depth=3,\n",
      "                           max_features=None, max_leaf_nodes=None,\n",
      "                           min_impurity_decrease=0.0, min_impurity_split=None,\n",
      "                           min_samples_leaf=1, min_samples_split=2,\n",
      "                           min_weight_fraction_leaf=0.0, n_estimators=100,\n",
      "                           n_iter_no_change=None, presort='auto',\n",
      "                           random_state=None, subsample=1.0, tol=0.0001,\n",
      "                           validation_fraction=0.1, verbose=0,\n",
      "                           warm_start=False)\n",
      "0.9983543609434997\n",
      "0.993566849101836\n",
      "[[10829     5]\n",
      " [   16  1911]]\n",
      "              precision    recall  f1-score   support\n",
      "\n",
      "           0       1.00      1.00      1.00     10834\n",
      "           1       1.00      0.99      0.99      1927\n",
      "\n",
      "    accuracy                           1.00     12761\n",
      "   macro avg       1.00      1.00      1.00     12761\n",
      "weighted avg       1.00      1.00      1.00     12761\n",
      "\n",
      "AdaBoostClassifier(algorithm='SAMME.R', base_estimator=None, learning_rate=1.0,\n",
      "                   n_estimators=100, random_state=None)\n",
      "0.998432724708095\n",
      "0.9938692569684535\n",
      "[[10831     3]\n",
      " [   17  1910]]\n",
      "              precision    recall  f1-score   support\n",
      "\n",
      "           0       1.00      1.00      1.00     10834\n",
      "           1       1.00      0.99      0.99      1927\n",
      "\n",
      "    accuracy                           1.00     12761\n",
      "   macro avg       1.00      1.00      1.00     12761\n",
      "weighted avg       1.00      1.00      1.00     12761\n",
      "\n"
     ]
    },
    {
     "name": "stderr",
     "output_type": "stream",
     "text": [
      "F:\\PGPDSE\\Python\\lib\\site-packages\\sklearn\\linear_model\\logistic.py:432: FutureWarning: Default solver will be changed to 'lbfgs' in 0.22. Specify a solver to silence this warning.\n",
      "  FutureWarning)\n"
     ]
    },
    {
     "name": "stdout",
     "output_type": "stream",
     "text": [
      "LogisticRegression(C=1.0, class_weight=None, dual=False, fit_intercept=True,\n",
      "                   intercept_scaling=1, l1_ratio=None, max_iter=100,\n",
      "                   multi_class='warn', n_jobs=None, penalty='l2',\n",
      "                   random_state=None, solver='warn', tol=0.0001, verbose=0,\n",
      "                   warm_start=False)\n",
      "0.9661468536948515\n",
      "0.8711595980204287\n",
      "[[10560   274]\n",
      " [  158  1769]]\n",
      "              precision    recall  f1-score   support\n",
      "\n",
      "           0       0.99      0.97      0.98     10834\n",
      "           1       0.87      0.92      0.89      1927\n",
      "\n",
      "    accuracy                           0.97     12761\n",
      "   macro avg       0.93      0.95      0.94     12761\n",
      "weighted avg       0.97      0.97      0.97     12761\n",
      "\n"
     ]
    }
   ],
   "source": [
    "for a in models:\n",
    "    a.fit(x_train,y_train)\n",
    "    predict=a.predict(xtestscale2)\n",
    "    Accuracy=metrics.accuracy_score(ytest2,predict)\n",
    "    cm=metrics.confusion_matrix(ytest2,predict)\n",
    "    cr=metrics.classification_report(ytest2,predict)\n",
    "    kuppa=metrics.cohen_kappa_score(ytest2,predict)\n",
    "    \n",
    "    print(a)\n",
    "    print(Accuracy)\n",
    "    print(kuppa)\n",
    "    print(cm)\n",
    "    print(cr)\n",
    "    \n",
    "    "
   ]
  },
  {
   "cell_type": "code",
   "execution_count": null,
   "metadata": {},
   "outputs": [],
   "source": []
  },
  {
   "cell_type": "code",
   "execution_count": null,
   "metadata": {},
   "outputs": [],
   "source": []
  },
  {
   "cell_type": "code",
   "execution_count": 148,
   "metadata": {},
   "outputs": [
    {
     "name": "stderr",
     "output_type": "stream",
     "text": [
      "F:\\PGPDSE\\Python\\lib\\site-packages\\sklearn\\ensemble\\forest.py:245: FutureWarning: The default value of n_estimators will change from 10 in version 0.20 to 100 in 0.22.\n",
      "  \"10 in version 0.20 to 100 in 0.22.\", FutureWarning)\n"
     ]
    },
    {
     "name": "stdout",
     "output_type": "stream",
     "text": [
      "RandomForestClassifier(bootstrap=True, class_weight=None, criterion='gini',\n",
      "                       max_depth=None, max_features='auto', max_leaf_nodes=None,\n",
      "                       min_impurity_decrease=0.0, min_impurity_split=None,\n",
      "                       min_samples_leaf=1, min_samples_split=2,\n",
      "                       min_weight_fraction_leaf=0.0, n_estimators=10,\n",
      "                       n_jobs=None, oob_score=False, random_state=None,\n",
      "                       verbose=0, warm_start=False)\n",
      "0.9463208212522529\n",
      "0.7574886497651856\n",
      "[[10812    22]\n",
      " [  663  1264]]\n",
      "              precision    recall  f1-score   support\n",
      "\n",
      "           0       0.94      1.00      0.97     10834\n",
      "           1       0.98      0.66      0.79      1927\n",
      "\n",
      "    accuracy                           0.95     12761\n",
      "   macro avg       0.96      0.83      0.88     12761\n",
      "weighted avg       0.95      0.95      0.94     12761\n",
      "\n",
      "GradientBoostingClassifier(criterion='friedman_mse', init=None,\n",
      "                           learning_rate=0.1, loss='deviance', max_depth=3,\n",
      "                           max_features=None, max_leaf_nodes=None,\n",
      "                           min_impurity_decrease=0.0, min_impurity_split=None,\n",
      "                           min_samples_leaf=1, min_samples_split=2,\n",
      "                           min_weight_fraction_leaf=0.0, n_estimators=100,\n",
      "                           n_iter_no_change=None, presort='auto',\n",
      "                           random_state=None, subsample=1.0, tol=0.0001,\n",
      "                           validation_fraction=0.1, verbose=0,\n",
      "                           warm_start=False)\n",
      "0.9630123031110415\n",
      "0.8414017416761872\n",
      "[[10810    24]\n",
      " [  448  1479]]\n",
      "              precision    recall  f1-score   support\n",
      "\n",
      "           0       0.96      1.00      0.98     10834\n",
      "           1       0.98      0.77      0.86      1927\n",
      "\n",
      "    accuracy                           0.96     12761\n",
      "   macro avg       0.97      0.88      0.92     12761\n",
      "weighted avg       0.96      0.96      0.96     12761\n",
      "\n",
      "AdaBoostClassifier(algorithm='SAMME.R', base_estimator=None, learning_rate=1.0,\n",
      "                   n_estimators=100, random_state=None)\n",
      "0.9720241360394953\n",
      "0.8843557201180559\n",
      "[[10788    46]\n",
      " [  311  1616]]\n",
      "              precision    recall  f1-score   support\n",
      "\n",
      "           0       0.97      1.00      0.98     10834\n",
      "           1       0.97      0.84      0.90      1927\n",
      "\n",
      "    accuracy                           0.97     12761\n",
      "   macro avg       0.97      0.92      0.94     12761\n",
      "weighted avg       0.97      0.97      0.97     12761\n",
      "\n"
     ]
    },
    {
     "name": "stderr",
     "output_type": "stream",
     "text": [
      "F:\\PGPDSE\\Python\\lib\\site-packages\\sklearn\\linear_model\\logistic.py:432: FutureWarning: Default solver will be changed to 'lbfgs' in 0.22. Specify a solver to silence this warning.\n",
      "  FutureWarning)\n"
     ]
    },
    {
     "name": "stdout",
     "output_type": "stream",
     "text": [
      "LogisticRegression(C=1.0, class_weight=None, dual=False, fit_intercept=True,\n",
      "                   intercept_scaling=1, l1_ratio=None, max_iter=100,\n",
      "                   multi_class='warn', n_jobs=None, penalty='l2',\n",
      "                   random_state=None, solver='warn', tol=0.0001, verbose=0,\n",
      "                   warm_start=False)\n",
      "0.9933390800094036\n",
      "0.9735424233606924\n",
      "[[10834     0]\n",
      " [   85  1842]]\n",
      "              precision    recall  f1-score   support\n",
      "\n",
      "           0       0.99      1.00      1.00     10834\n",
      "           1       1.00      0.96      0.98      1927\n",
      "\n",
      "    accuracy                           0.99     12761\n",
      "   macro avg       1.00      0.98      0.99     12761\n",
      "weighted avg       0.99      0.99      0.99     12761\n",
      "\n"
     ]
    }
   ],
   "source": [
    "\n",
    "rfc1=RandomForestClassifier()\n",
    "\n",
    "gbc1=GradientBoostingClassifier()\n",
    "\n",
    "abc1=AdaBoostClassifier(n_estimators=100)\n",
    "logR1=LogisticRegression()\n",
    "models=[rfc1,gbc1,abc1,logR1]\n",
    "for a in models:\n",
    "    a.fit(pca_train,ytrain2)\n",
    "    predict=a.predict(pca_test)\n",
    "    Accuracy=metrics.accuracy_score(ytest2,predict)\n",
    "    cm=metrics.confusion_matrix(ytest2,predict)\n",
    "    cr=metrics.classification_report(ytest2,predict)\n",
    "    kuppa=metrics.cohen_kappa_score(ytest2,predict)\n",
    "    \n",
    "    print(a)\n",
    "    print(Accuracy)\n",
    "    print(kuppa)\n",
    "    print(cm)\n",
    "    print(cr)\n",
    "\n",
    "    \n",
    " "
   ]
  },
  {
   "cell_type": "code",
   "execution_count": 150,
   "metadata": {},
   "outputs": [
    {
     "data": {
      "text/plain": [
       "Index(['installment', 'annual_inc', 'dti', 'delinq_2yrs',\n",
       "       'mths_since_last_delinq', 'open_acc', 'pub_rec', 'revol_bal',\n",
       "       'revol_util', 'total_acc', 'total_pymnt_inv', 'recoveries',\n",
       "       'collection_recovery_fee', 'last_pymnt_amnt', 'acc_now_delinq',\n",
       "       'delinq_amnt', 'pub_rec_bankruptcies', 'tax_liens', 'term_60',\n",
       "       'grade_B', 'grade_C', 'grade_D', 'grade_E', 'grade_F', 'grade_G',\n",
       "       'emp_length_2-5 years', 'emp_length_5-8 years',\n",
       "       'emp_length_More than 9', 'home_ownership_NONE', 'home_ownership_OTHER',\n",
       "       'home_ownership_OWN', 'home_ownership_RENT',\n",
       "       'verification_status_Source Verified', 'verification_status_Verified',\n",
       "       'purpose_credit_card', 'purpose_debt_consolidation',\n",
       "       'purpose_educational', 'purpose_home_improvement', 'purpose_house',\n",
       "       'purpose_major_purchase', 'purpose_medical', 'purpose_moving',\n",
       "       'purpose_other', 'purpose_renewable_energy', 'purpose_small_business',\n",
       "       'purpose_vacation', 'purpose_wedding', 'addr_state_NORTH-EAST',\n",
       "       'addr_state_SOUTH-EAST', 'addr_state_SOUTH-WEST', 'addr_state_WEST',\n",
       "       'debt_settlement_flag_Y'],\n",
       "      dtype='object')"
      ]
     },
     "execution_count": 150,
     "metadata": {},
     "output_type": "execute_result"
    }
   ],
   "source": [
    "xdummy1.columns"
   ]
  },
  {
   "cell_type": "code",
   "execution_count": 152,
   "metadata": {},
   "outputs": [
    {
     "data": {
      "text/plain": [
       "(42535, 52)"
      ]
     },
     "execution_count": 152,
     "metadata": {},
     "output_type": "execute_result"
    }
   ],
   "source": [
    "xdummy1.shape"
   ]
  },
  {
   "cell_type": "code",
   "execution_count": null,
   "metadata": {},
   "outputs": [],
   "source": []
  }
 ],
 "metadata": {
  "kernelspec": {
   "display_name": "Python 3",
   "language": "python",
   "name": "python3"
  },
  "language_info": {
   "codemirror_mode": {
    "name": "ipython",
    "version": 3
   },
   "file_extension": ".py",
   "mimetype": "text/x-python",
   "name": "python",
   "nbconvert_exporter": "python",
   "pygments_lexer": "ipython3",
   "version": "3.7.0"
  }
 },
 "nbformat": 4,
 "nbformat_minor": 2
}
